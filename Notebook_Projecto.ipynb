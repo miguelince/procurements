{
 "cells": [
  {
   "cell_type": "markdown",
   "metadata": {},
   "source": [
    "# Programming for Data Science Practical Examination\n",
    "## Introduction \n",
    "\n",
    "The challenge of this pratical is to explore the public procurement data available in the portal www.base.gov.pt. <br>\n",
    "Public Procurements are contracts establish between a public institutions (the issuer of a procurement) and a third-party supplier. <br>\n",
    "Each contract is classified using the Common Procurement Vocabulary (CPV). The CPV classification aims at establishing a single classification system for public procurement in Europe, helping in comparative statistics and regulation. The CPV is a five level hierarchical classification encoded in a nine digit string. For instance the first two digits identify the division, the first three the groups, and so on. You can find more information about the CPVs at https://simap.ted.europa.eu/cpv\n",
    "\n",
    "\n",
    "We will use a sample dataset extracted from the portal BASE (www.base.gov.pt) that contains information on public procurements executed between 2012 and 2014. Below you can find a step-by-step instructions of what the tasks you need to perform in order to analyse this dataset. Each step indicates the amount of points you can score. Make sure you comment all your code and provide, when requested, a discussion about what you have done and the results obtained.\n",
    "\n",
    "This examination does not intend to test your ability to:<br>\n",
    ". perform complex data analysis;<br>\n",
    ". develop complex data-driven models; <br>\n",
    ". write optimal algorithmic solutions to a problem. <br>\n",
    "\n",
    "**Instead**, it aims to test your ability to implement a pre-planned step by step project in python.\n",
    "\n",
    "Your submission will be graded according to the following guidelines:\n",
    "1. Execution (does your program does what is asked from the exercise?)\n",
    "2. Objectivity (are you using the adequate libraries? are you using a libraries not in the scope of exercise?)\n",
    "3. Readibility of your code (is your code correctly documented? is variable naming adequate?)\n",
    "\n",
    "This is an individual activity!\n",
    "\n",
    "## Submission Details\n",
    "\n",
    "The deadline for the submission is the 30th of October at 11:59 (am), and submission must be done through the corresponding activity in moodle. Your submission should consist of an archive **(zip file)** containing the following files: <br>\n",
    "1) A copy of this notebook with your answers; <br>\n",
    "2) A html version of the notebook with your answers (File -> Download As -> html); <br>\n",
    "3) An Authorship Statement; <br> \n",
    "\n",
    "**Submissions done in .rar archives will not be graded. <br>\n",
    "Submissions delivered that are not in a jupyter notebook format will not be graded.**\n",
    "\n",
    "Good Luck, and enjoy!\n",
    "\n",
    "**PLEASE FILL THE BELOW CELLS WITH THE GROUP MEMBERS INFORMATION:** <br>"
   ]
  },
  {
   "cell_type": "code",
   "execution_count": null,
   "metadata": {},
   "outputs": [],
   "source": [
    "# Student ID: M20211300\n",
    "# Student Name: Miguel Lince"
   ]
  },
  {
   "cell_type": "code",
   "execution_count": null,
   "metadata": {},
   "outputs": [],
   "source": [
    "# Student ID:\n",
    "# Student Name:"
   ]
  },
  {
   "cell_type": "code",
   "execution_count": null,
   "metadata": {},
   "outputs": [],
   "source": [
    "# Student ID:\n",
    "# Student Name:"
   ]
  },
  {
   "cell_type": "markdown",
   "metadata": {},
   "source": [
    "**Important NOTE**\n",
    "\n",
    "Any reference to the value of procurement, refers to the price or cost of the contract which is in the column \"precoContratual\""
   ]
  },
  {
   "cell_type": "markdown",
   "metadata": {},
   "source": [
    "## Boilerplate\n",
    "\n",
    "Before you start, let us make sure you have all the necessary packages in your working environment. To that end run the following cells to install and load all the necessary libraries.\n",
    "\n",
    "**Note** You only need to run this cell once, not everytime you open the notebook."
   ]
  },
  {
   "cell_type": "code",
   "execution_count": 1,
   "metadata": {},
   "outputs": [
    {
     "name": "stdout",
     "output_type": "stream",
     "text": [
      "Requirement already satisfied: pip in c:\\programdata\\anaconda3\\lib\\site-packages (21.2.2)\n",
      "Collecting pip\n",
      "  Downloading pip-21.3.1-py3-none-any.whl (1.7 MB)\n",
      "Installing collected packages: pip\n",
      "Successfully installed pip-21.3.1\n"
     ]
    },
    {
     "name": "stderr",
     "output_type": "stream",
     "text": [
      "  WARNING: The scripts pip.exe, pip3.8.exe and pip3.exe are installed in 'C:\\Users\\u86004\\AppData\\Roaming\\Python\\Python38\\Scripts' which is not on PATH.\n",
      "  Consider adding this directory to PATH or, if you prefer to suppress this warning, use --no-warn-script-location.\n"
     ]
    },
    {
     "name": "stdout",
     "output_type": "stream",
     "text": [
      "Requirement already satisfied: xlrd in c:\\programdata\\anaconda3\\lib\\site-packages (2.0.1)\n",
      "Requirement already satisfied: requests in c:\\programdata\\anaconda3\\lib\\site-packages (2.25.1)\n",
      "Requirement already satisfied: urllib3<1.27,>=1.21.1 in c:\\programdata\\anaconda3\\lib\\site-packages (from requests) (1.26.6)\n",
      "Requirement already satisfied: chardet<5,>=3.0.2 in c:\\programdata\\anaconda3\\lib\\site-packages (from requests) (4.0.0)\n",
      "Requirement already satisfied: idna<3,>=2.5 in c:\\programdata\\anaconda3\\lib\\site-packages (from requests) (2.10)\n",
      "Requirement already satisfied: certifi>=2017.4.17 in c:\\programdata\\anaconda3\\lib\\site-packages (from requests) (2021.5.30)\n",
      "Requirement already satisfied: seaborn in c:\\programdata\\anaconda3\\lib\\site-packages (0.11.1)\n",
      "Requirement already satisfied: scipy>=1.0 in c:\\programdata\\anaconda3\\lib\\site-packages (from seaborn) (1.6.2)\n",
      "Requirement already satisfied: pandas>=0.23 in c:\\programdata\\anaconda3\\lib\\site-packages (from seaborn) (1.3.0)\n",
      "Requirement already satisfied: numpy>=1.15 in c:\\programdata\\anaconda3\\lib\\site-packages (from seaborn) (1.20.3)\n",
      "Requirement already satisfied: matplotlib>=2.2 in c:\\programdata\\anaconda3\\lib\\site-packages (from seaborn) (3.4.2)\n",
      "Requirement already satisfied: kiwisolver>=1.0.1 in c:\\programdata\\anaconda3\\lib\\site-packages (from matplotlib>=2.2->seaborn) (1.3.1)\n",
      "Requirement already satisfied: python-dateutil>=2.7 in c:\\programdata\\anaconda3\\lib\\site-packages (from matplotlib>=2.2->seaborn) (2.8.2)\n",
      "Requirement already satisfied: pillow>=6.2.0 in c:\\programdata\\anaconda3\\lib\\site-packages (from matplotlib>=2.2->seaborn) (8.3.1)\n",
      "Requirement already satisfied: cycler>=0.10 in c:\\programdata\\anaconda3\\lib\\site-packages (from matplotlib>=2.2->seaborn) (0.10.0)\n",
      "Requirement already satisfied: pyparsing>=2.2.1 in c:\\programdata\\anaconda3\\lib\\site-packages (from matplotlib>=2.2->seaborn) (2.4.7)\n",
      "Requirement already satisfied: pytz>=2017.3 in c:\\programdata\\anaconda3\\lib\\site-packages (from pandas>=0.23->seaborn) (2021.1)\n",
      "Requirement already satisfied: six in c:\\programdata\\anaconda3\\lib\\site-packages (from cycler>=0.10->matplotlib>=2.2->seaborn) (1.16.0)\n"
     ]
    }
   ],
   "source": [
    "# Run this cell only if you are missing any of the packages below\n",
    "import sys\n",
    "!{sys.executable} -m pip install --upgrade pip --user\n",
    "!{sys.executable} -m pip install xlrd\n",
    "!{sys.executable} -m pip install requests\n",
    "!{sys.executable} -m pip install seaborn"
   ]
  },
  {
   "cell_type": "markdown",
   "metadata": {},
   "source": [
    "Then we load the necessary libraries to execute each of the steps below."
   ]
  },
  {
   "cell_type": "code",
   "execution_count": 2,
   "metadata": {},
   "outputs": [],
   "source": [
    "import pandas as pd\n",
    "import numpy as np\n",
    "import scipy as sp\n",
    "import seaborn as sns\n",
    "import matplotlib.pyplot as plt\n",
    "import statsmodels as sm\n",
    "import os\n",
    "from zipfile import ZipFile"
   ]
  },
  {
   "cell_type": "code",
   "execution_count": 3,
   "metadata": {},
   "outputs": [],
   "source": [
    "import requests"
   ]
  },
  {
   "cell_type": "code",
   "execution_count": 4,
   "metadata": {
    "scrolled": false
   },
   "outputs": [
    {
     "name": "stdout",
     "output_type": "stream",
     "text": [
      "Pandas version  1.3.0\n",
      "Numpy version  1.20.3\n",
      "Scipy version  1.6.2\n",
      "Seaborn version  0.11.1\n",
      "StatsModels version  0.12.2\n"
     ]
    }
   ],
   "source": [
    "print('Pandas version ',pd.__version__)\n",
    "print('Numpy version ',np.__version__)\n",
    "print('Scipy version ',sp.__version__)\n",
    "print('Seaborn version ',sns.__version__)\n",
    "print('StatsModels version ',sm.__version__)"
   ]
  },
  {
   "cell_type": "markdown",
   "metadata": {},
   "source": [
    "In the following steps, please use the alias defined at this step. This will help us to correct your answers and track your steps. Students that fail to use the pre-defined aliases will be penalized. \n",
    "\n",
    "Finally, the following cell downloads the dataset for this project. <br>"
   ]
  },
  {
   "cell_type": "code",
   "execution_count": 5,
   "metadata": {},
   "outputs": [],
   "source": [
    "r = requests.get('https://www.dropbox.com/s/43jqravvvddaljb/PDS2021_Data.zip?dl=1', allow_redirects=True)\n",
    "open('Data.zip', 'wb').write(r.content);\n",
    "with ZipFile('Data.zip', 'r') as zipObj:\n",
    "    zipObj.extractall('DATA')"
   ]
  },
  {
   "cell_type": "markdown",
   "metadata": {},
   "source": [
    "The above code will store the datafiles in a folder called \"DATA\" that is in the same filepath as this notebook. <br>\n",
    "The dataset consists of three xlsx files containing all contracts available in 2018 concerning the contracts issued in 2012, 2013, and 2014 that where available in BASE."
   ]
  },
  {
   "cell_type": "markdown",
   "metadata": {},
   "source": [
    "## Exercises (The action starts here)\n",
    "\n",
    "<b>[Step 1. | 0.5 points ]</b> Load all the procurement datafiles (contratos2012.xlsx, contratos2013.xlsx, and contratos2014.xlsx) into a single dataframe named <i>data</i>.<br>\n",
    "Notes: This operation might take a while. When reading data from excel it is safer to always specify the Sheet you want to read. You might need to reset the indexes and drop a column of the final dataframe to obtain a more workable dataframe."
   ]
  },
  {
   "cell_type": "code",
   "execution_count": 6,
   "metadata": {
    "scrolled": true
   },
   "outputs": [
    {
     "data": {
      "text/plain": [
       "['DATA/contratos2012.xlsx',\n",
       " 'DATA/contratos2013.xlsx',\n",
       " 'DATA/contratos2014.xlsx']"
      ]
     },
     "execution_count": 6,
     "metadata": {},
     "output_type": "execute_result"
    }
   ],
   "source": [
    "path = os.getcwd()\n",
    "files = os.listdir('DATA')\n",
    "files_xlsx = [\"DATA/\" + f for f in files if f[:9] == 'contratos']\n",
    "files_xlsx"
   ]
  },
  {
   "cell_type": "code",
   "execution_count": 53,
   "metadata": {
    "scrolled": true
   },
   "outputs": [],
   "source": [
    "data = pd.DataFrame()\n",
    "for f in files_xlsx:\n",
    "    df = pd.read_excel(f, sheet_name='Folha1')\n",
    "    data = df.append(data)"
   ]
  },
  {
   "cell_type": "code",
   "execution_count": 12,
   "metadata": {},
   "outputs": [
    {
     "data": {
      "text/html": [
       "<div>\n",
       "<style scoped>\n",
       "    .dataframe tbody tr th:only-of-type {\n",
       "        vertical-align: middle;\n",
       "    }\n",
       "\n",
       "    .dataframe tbody tr th {\n",
       "        vertical-align: top;\n",
       "    }\n",
       "\n",
       "    .dataframe thead th {\n",
       "        text-align: right;\n",
       "    }\n",
       "</style>\n",
       "<table border=\"1\" class=\"dataframe\">\n",
       "  <thead>\n",
       "    <tr style=\"text-align: right;\">\n",
       "      <th></th>\n",
       "      <th>idcontrato</th>\n",
       "      <th>nAnuncio</th>\n",
       "      <th>tipoContrato</th>\n",
       "      <th>tipoprocedimento</th>\n",
       "      <th>objectoContrato</th>\n",
       "      <th>adjudicantes</th>\n",
       "      <th>adjudicatarios</th>\n",
       "      <th>dataPublicacao</th>\n",
       "      <th>dataCelebracaoContrato</th>\n",
       "      <th>precoContratual</th>\n",
       "      <th>cpv</th>\n",
       "      <th>prazoExecucao</th>\n",
       "      <th>localExecucao</th>\n",
       "      <th>fundamentacao</th>\n",
       "    </tr>\n",
       "  </thead>\n",
       "  <tbody>\n",
       "    <tr>\n",
       "      <th>0</th>\n",
       "      <td>1541104</td>\n",
       "      <td>1242/2010</td>\n",
       "      <td>Empreitadas de obras públicas</td>\n",
       "      <td>Concurso limitado por prévia qualificação</td>\n",
       "      <td>Empreitada de Projecto, Construção e Exploraçã...</td>\n",
       "      <td>506598160 - Águas do Mondego - Sistema Mult. d...</td>\n",
       "      <td>500738793 - JOSÉ MARQUES GRÁCIO SA. | 50115734...</td>\n",
       "      <td>2015-09-04</td>\n",
       "      <td>2014-05-07</td>\n",
       "      <td>1639025.08</td>\n",
       "      <td>45252127-4 - Construção de estação de tratamen...</td>\n",
       "      <td>690</td>\n",
       "      <td>Portugal, Coimbra, Coimbra | Portugal, Coimbra...</td>\n",
       "      <td>Artigo 31.º, n.º 1 do Código dos Contratos Púb...</td>\n",
       "    </tr>\n",
       "    <tr>\n",
       "      <th>1</th>\n",
       "      <td>1541123</td>\n",
       "      <td>1342/2010</td>\n",
       "      <td>Empreitadas de obras públicas</td>\n",
       "      <td>Concurso limitado por prévia qualificação</td>\n",
       "      <td>Empreitada de Projecto, Construção e Exploraçã...</td>\n",
       "      <td>506598160 - Águas do Mondego - Sistema Mult. d...</td>\n",
       "      <td>500023875 - Casais - Engenharia e Construções,...</td>\n",
       "      <td>2015-09-04</td>\n",
       "      <td>2014-05-12</td>\n",
       "      <td>2943077.15</td>\n",
       "      <td>45252127-4 - Construção de estação de tratamen...</td>\n",
       "      <td>690</td>\n",
       "      <td>Portugal, Coimbra, Arganil</td>\n",
       "      <td>Artigo 31.º, n.º 1 do Código dos Contratos Púb...</td>\n",
       "    </tr>\n",
       "    <tr>\n",
       "      <th>2</th>\n",
       "      <td>1320689</td>\n",
       "      <td>2407/2010</td>\n",
       "      <td>Aquisição de serviços</td>\n",
       "      <td>Concurso público</td>\n",
       "      <td>Recolha, Transporte e Deposição de resíduos do...</td>\n",
       "      <td>503455539 - Sanest - Saneamento da Costa Estor...</td>\n",
       "      <td>500512884 - EGEO - TECNOLOGIA E AMBIENTE, SA.</td>\n",
       "      <td>2014-12-09</td>\n",
       "      <td>2014-06-30</td>\n",
       "      <td>525004.90</td>\n",
       "      <td>90512000-9 - Serviços de transporte de resíduos</td>\n",
       "      <td>1095</td>\n",
       "      <td>Portugal, Lisboa, Cascais | Portugal, Lisboa, ...</td>\n",
       "      <td>Artigo 20.º, n.º 1, alínea b) do Código dos Co...</td>\n",
       "    </tr>\n",
       "    <tr>\n",
       "      <th>3</th>\n",
       "      <td>1157167</td>\n",
       "      <td>3350/2010</td>\n",
       "      <td>Empreitadas de obras públicas</td>\n",
       "      <td>Concurso público</td>\n",
       "      <td>O contrato tem por objecto a construção da Est...</td>\n",
       "      <td>505176300 - Águas do Algarve, S.A.</td>\n",
       "      <td>500091366 - Eduardo Pinto Contreiras &amp;amp; Fil...</td>\n",
       "      <td>2014-08-22</td>\n",
       "      <td>2014-07-29</td>\n",
       "      <td>1806005.15</td>\n",
       "      <td>45232423-3 - Construção de estações de bombage...</td>\n",
       "      <td>300</td>\n",
       "      <td>Portugal, Faro, Albufeira</td>\n",
       "      <td>Artigo 19.º, alínea b) do Código dos Contratos...</td>\n",
       "    </tr>\n",
       "    <tr>\n",
       "      <th>4</th>\n",
       "      <td>1229022</td>\n",
       "      <td>3494/2010</td>\n",
       "      <td>Empreitadas de obras públicas</td>\n",
       "      <td>Concurso público</td>\n",
       "      <td>Empreitada para Reabilitação da Célula de Lama...</td>\n",
       "      <td>508608015 - Administração da Região Hidrográfi...</td>\n",
       "      <td>500285608 - TOMÁS DE OLIVEIRA, EMPREITEIROS, S...</td>\n",
       "      <td>2014-09-15</td>\n",
       "      <td>2014-04-15</td>\n",
       "      <td>3844399.53</td>\n",
       "      <td>45232422-6 - Estação de tratamento de lamas</td>\n",
       "      <td>610</td>\n",
       "      <td>Portugal, Santarém, Alcanena</td>\n",
       "      <td>Artigo 19.º, alínea b) do Código dos Contratos...</td>\n",
       "    </tr>\n",
       "  </tbody>\n",
       "</table>\n",
       "</div>"
      ],
      "text/plain": [
       "   idcontrato   nAnuncio                   tipoContrato  \\\n",
       "0     1541104  1242/2010  Empreitadas de obras públicas   \n",
       "1     1541123  1342/2010  Empreitadas de obras públicas   \n",
       "2     1320689  2407/2010          Aquisição de serviços   \n",
       "3     1157167  3350/2010  Empreitadas de obras públicas   \n",
       "4     1229022  3494/2010  Empreitadas de obras públicas   \n",
       "\n",
       "                            tipoprocedimento  \\\n",
       "0  Concurso limitado por prévia qualificação   \n",
       "1  Concurso limitado por prévia qualificação   \n",
       "2                           Concurso público   \n",
       "3                           Concurso público   \n",
       "4                           Concurso público   \n",
       "\n",
       "                                     objectoContrato  \\\n",
       "0  Empreitada de Projecto, Construção e Exploraçã...   \n",
       "1  Empreitada de Projecto, Construção e Exploraçã...   \n",
       "2  Recolha, Transporte e Deposição de resíduos do...   \n",
       "3  O contrato tem por objecto a construção da Est...   \n",
       "4  Empreitada para Reabilitação da Célula de Lama...   \n",
       "\n",
       "                                        adjudicantes  \\\n",
       "0  506598160 - Águas do Mondego - Sistema Mult. d...   \n",
       "1  506598160 - Águas do Mondego - Sistema Mult. d...   \n",
       "2  503455539 - Sanest - Saneamento da Costa Estor...   \n",
       "3                 505176300 - Águas do Algarve, S.A.   \n",
       "4  508608015 - Administração da Região Hidrográfi...   \n",
       "\n",
       "                                      adjudicatarios dataPublicacao  \\\n",
       "0  500738793 - JOSÉ MARQUES GRÁCIO SA. | 50115734...     2015-09-04   \n",
       "1  500023875 - Casais - Engenharia e Construções,...     2015-09-04   \n",
       "2      500512884 - EGEO - TECNOLOGIA E AMBIENTE, SA.     2014-12-09   \n",
       "3  500091366 - Eduardo Pinto Contreiras &amp; Fil...     2014-08-22   \n",
       "4  500285608 - TOMÁS DE OLIVEIRA, EMPREITEIROS, S...     2014-09-15   \n",
       "\n",
       "  dataCelebracaoContrato  precoContratual  \\\n",
       "0             2014-05-07       1639025.08   \n",
       "1             2014-05-12       2943077.15   \n",
       "2             2014-06-30        525004.90   \n",
       "3             2014-07-29       1806005.15   \n",
       "4             2014-04-15       3844399.53   \n",
       "\n",
       "                                                 cpv  prazoExecucao  \\\n",
       "0  45252127-4 - Construção de estação de tratamen...            690   \n",
       "1  45252127-4 - Construção de estação de tratamen...            690   \n",
       "2    90512000-9 - Serviços de transporte de resíduos           1095   \n",
       "3  45232423-3 - Construção de estações de bombage...            300   \n",
       "4        45232422-6 - Estação de tratamento de lamas            610   \n",
       "\n",
       "                                       localExecucao  \\\n",
       "0  Portugal, Coimbra, Coimbra | Portugal, Coimbra...   \n",
       "1                         Portugal, Coimbra, Arganil   \n",
       "2  Portugal, Lisboa, Cascais | Portugal, Lisboa, ...   \n",
       "3                          Portugal, Faro, Albufeira   \n",
       "4                       Portugal, Santarém, Alcanena   \n",
       "\n",
       "                                       fundamentacao  \n",
       "0  Artigo 31.º, n.º 1 do Código dos Contratos Púb...  \n",
       "1  Artigo 31.º, n.º 1 do Código dos Contratos Púb...  \n",
       "2  Artigo 20.º, n.º 1, alínea b) do Código dos Co...  \n",
       "3  Artigo 19.º, alínea b) do Código dos Contratos...  \n",
       "4  Artigo 19.º, alínea b) do Código dos Contratos...  "
      ]
     },
     "execution_count": 12,
     "metadata": {},
     "output_type": "execute_result"
    }
   ],
   "source": [
    "data.head()"
   ]
  },
  {
   "cell_type": "code",
   "execution_count": 277,
   "metadata": {},
   "outputs": [],
   "source": [
    "df_copy = data.copy()"
   ]
  },
  {
   "cell_type": "code",
   "execution_count": 278,
   "metadata": {},
   "outputs": [
    {
     "data": {
      "text/html": [
       "<div>\n",
       "<style scoped>\n",
       "    .dataframe tbody tr th:only-of-type {\n",
       "        vertical-align: middle;\n",
       "    }\n",
       "\n",
       "    .dataframe tbody tr th {\n",
       "        vertical-align: top;\n",
       "    }\n",
       "\n",
       "    .dataframe thead th {\n",
       "        text-align: right;\n",
       "    }\n",
       "</style>\n",
       "<table border=\"1\" class=\"dataframe\">\n",
       "  <thead>\n",
       "    <tr style=\"text-align: right;\">\n",
       "      <th></th>\n",
       "      <th>idcontrato</th>\n",
       "      <th>nAnuncio</th>\n",
       "      <th>tipoContrato</th>\n",
       "      <th>tipoprocedimento</th>\n",
       "      <th>objectoContrato</th>\n",
       "      <th>adjudicantes</th>\n",
       "      <th>adjudicatarios</th>\n",
       "      <th>dataPublicacao</th>\n",
       "      <th>dataCelebracaoContrato</th>\n",
       "      <th>precoContratual</th>\n",
       "      <th>cpv</th>\n",
       "      <th>prazoExecucao</th>\n",
       "      <th>localExecucao</th>\n",
       "    </tr>\n",
       "  </thead>\n",
       "  <tbody>\n",
       "    <tr>\n",
       "      <th>0</th>\n",
       "      <td>1541104</td>\n",
       "      <td>1242/2010</td>\n",
       "      <td>Empreitadas de obras públicas</td>\n",
       "      <td>Concurso limitado por prévia qualificação</td>\n",
       "      <td>Empreitada de Projecto, Construção e Exploraçã...</td>\n",
       "      <td>506598160 - Águas do Mondego - Sistema Mult. d...</td>\n",
       "      <td>500738793 - JOSÉ MARQUES GRÁCIO SA. | 50115734...</td>\n",
       "      <td>2015-09-04</td>\n",
       "      <td>2014-05-07</td>\n",
       "      <td>1639025.08</td>\n",
       "      <td>45252127-4 - Construção de estação de tratamen...</td>\n",
       "      <td>690</td>\n",
       "      <td>Portugal, Coimbra, Coimbra | Portugal, Coimbra...</td>\n",
       "    </tr>\n",
       "    <tr>\n",
       "      <th>1</th>\n",
       "      <td>1541123</td>\n",
       "      <td>1342/2010</td>\n",
       "      <td>Empreitadas de obras públicas</td>\n",
       "      <td>Concurso limitado por prévia qualificação</td>\n",
       "      <td>Empreitada de Projecto, Construção e Exploraçã...</td>\n",
       "      <td>506598160 - Águas do Mondego - Sistema Mult. d...</td>\n",
       "      <td>500023875 - Casais - Engenharia e Construções,...</td>\n",
       "      <td>2015-09-04</td>\n",
       "      <td>2014-05-12</td>\n",
       "      <td>2943077.15</td>\n",
       "      <td>45252127-4 - Construção de estação de tratamen...</td>\n",
       "      <td>690</td>\n",
       "      <td>Portugal, Coimbra, Arganil</td>\n",
       "    </tr>\n",
       "    <tr>\n",
       "      <th>2</th>\n",
       "      <td>1320689</td>\n",
       "      <td>2407/2010</td>\n",
       "      <td>Aquisição de serviços</td>\n",
       "      <td>Concurso público</td>\n",
       "      <td>Recolha, Transporte e Deposição de resíduos do...</td>\n",
       "      <td>503455539 - Sanest - Saneamento da Costa Estor...</td>\n",
       "      <td>500512884 - EGEO - TECNOLOGIA E AMBIENTE, SA.</td>\n",
       "      <td>2014-12-09</td>\n",
       "      <td>2014-06-30</td>\n",
       "      <td>525004.90</td>\n",
       "      <td>90512000-9 - Serviços de transporte de resíduos</td>\n",
       "      <td>1095</td>\n",
       "      <td>Portugal, Lisboa, Cascais | Portugal, Lisboa, ...</td>\n",
       "    </tr>\n",
       "    <tr>\n",
       "      <th>3</th>\n",
       "      <td>1157167</td>\n",
       "      <td>3350/2010</td>\n",
       "      <td>Empreitadas de obras públicas</td>\n",
       "      <td>Concurso público</td>\n",
       "      <td>O contrato tem por objecto a construção da Est...</td>\n",
       "      <td>505176300 - Águas do Algarve, S.A.</td>\n",
       "      <td>500091366 - Eduardo Pinto Contreiras &amp;amp; Fil...</td>\n",
       "      <td>2014-08-22</td>\n",
       "      <td>2014-07-29</td>\n",
       "      <td>1806005.15</td>\n",
       "      <td>45232423-3 - Construção de estações de bombage...</td>\n",
       "      <td>300</td>\n",
       "      <td>Portugal, Faro, Albufeira</td>\n",
       "    </tr>\n",
       "    <tr>\n",
       "      <th>4</th>\n",
       "      <td>1229022</td>\n",
       "      <td>3494/2010</td>\n",
       "      <td>Empreitadas de obras públicas</td>\n",
       "      <td>Concurso público</td>\n",
       "      <td>Empreitada para Reabilitação da Célula de Lama...</td>\n",
       "      <td>508608015 - Administração da Região Hidrográfi...</td>\n",
       "      <td>500285608 - TOMÁS DE OLIVEIRA, EMPREITEIROS, S...</td>\n",
       "      <td>2014-09-15</td>\n",
       "      <td>2014-04-15</td>\n",
       "      <td>3844399.53</td>\n",
       "      <td>45232422-6 - Estação de tratamento de lamas</td>\n",
       "      <td>610</td>\n",
       "      <td>Portugal, Santarém, Alcanena</td>\n",
       "    </tr>\n",
       "  </tbody>\n",
       "</table>\n",
       "</div>"
      ],
      "text/plain": [
       "   idcontrato   nAnuncio                   tipoContrato  \\\n",
       "0     1541104  1242/2010  Empreitadas de obras públicas   \n",
       "1     1541123  1342/2010  Empreitadas de obras públicas   \n",
       "2     1320689  2407/2010          Aquisição de serviços   \n",
       "3     1157167  3350/2010  Empreitadas de obras públicas   \n",
       "4     1229022  3494/2010  Empreitadas de obras públicas   \n",
       "\n",
       "                            tipoprocedimento  \\\n",
       "0  Concurso limitado por prévia qualificação   \n",
       "1  Concurso limitado por prévia qualificação   \n",
       "2                           Concurso público   \n",
       "3                           Concurso público   \n",
       "4                           Concurso público   \n",
       "\n",
       "                                     objectoContrato  \\\n",
       "0  Empreitada de Projecto, Construção e Exploraçã...   \n",
       "1  Empreitada de Projecto, Construção e Exploraçã...   \n",
       "2  Recolha, Transporte e Deposição de resíduos do...   \n",
       "3  O contrato tem por objecto a construção da Est...   \n",
       "4  Empreitada para Reabilitação da Célula de Lama...   \n",
       "\n",
       "                                        adjudicantes  \\\n",
       "0  506598160 - Águas do Mondego - Sistema Mult. d...   \n",
       "1  506598160 - Águas do Mondego - Sistema Mult. d...   \n",
       "2  503455539 - Sanest - Saneamento da Costa Estor...   \n",
       "3                 505176300 - Águas do Algarve, S.A.   \n",
       "4  508608015 - Administração da Região Hidrográfi...   \n",
       "\n",
       "                                      adjudicatarios dataPublicacao  \\\n",
       "0  500738793 - JOSÉ MARQUES GRÁCIO SA. | 50115734...     2015-09-04   \n",
       "1  500023875 - Casais - Engenharia e Construções,...     2015-09-04   \n",
       "2      500512884 - EGEO - TECNOLOGIA E AMBIENTE, SA.     2014-12-09   \n",
       "3  500091366 - Eduardo Pinto Contreiras &amp; Fil...     2014-08-22   \n",
       "4  500285608 - TOMÁS DE OLIVEIRA, EMPREITEIROS, S...     2014-09-15   \n",
       "\n",
       "  dataCelebracaoContrato  precoContratual  \\\n",
       "0             2014-05-07       1639025.08   \n",
       "1             2014-05-12       2943077.15   \n",
       "2             2014-06-30        525004.90   \n",
       "3             2014-07-29       1806005.15   \n",
       "4             2014-04-15       3844399.53   \n",
       "\n",
       "                                                 cpv  prazoExecucao  \\\n",
       "0  45252127-4 - Construção de estação de tratamen...            690   \n",
       "1  45252127-4 - Construção de estação de tratamen...            690   \n",
       "2    90512000-9 - Serviços de transporte de resíduos           1095   \n",
       "3  45232423-3 - Construção de estações de bombage...            300   \n",
       "4        45232422-6 - Estação de tratamento de lamas            610   \n",
       "\n",
       "                                       localExecucao  \n",
       "0  Portugal, Coimbra, Coimbra | Portugal, Coimbra...  \n",
       "1                         Portugal, Coimbra, Arganil  \n",
       "2  Portugal, Lisboa, Cascais | Portugal, Lisboa, ...  \n",
       "3                          Portugal, Faro, Albufeira  \n",
       "4                       Portugal, Santarém, Alcanena  "
      ]
     },
     "execution_count": 278,
     "metadata": {},
     "output_type": "execute_result"
    }
   ],
   "source": [
    "df_copy.reset_index(inplace = True)\n",
    "df_copy.drop(columns = ['index', 'fundamentacao'], inplace = True)\n",
    "df_copy.head()"
   ]
  },
  {
   "cell_type": "markdown",
   "metadata": {},
   "source": [
    "<b>[Step 2. | 0.5 points ]</b> Perform some quick inspection of the data file in order to answer the following questions:\n",
    "1. How many records does the dataset include?"
   ]
  },
  {
   "cell_type": "code",
   "execution_count": 268,
   "metadata": {},
   "outputs": [
    {
     "data": {
      "text/plain": [
       "250092"
      ]
     },
     "execution_count": 268,
     "metadata": {},
     "output_type": "execute_result"
    }
   ],
   "source": [
    "df_copy.shape[0]"
   ]
  },
  {
   "cell_type": "markdown",
   "metadata": {},
   "source": [
    "2. What are the fields names?"
   ]
  },
  {
   "cell_type": "code",
   "execution_count": 269,
   "metadata": {
    "scrolled": true
   },
   "outputs": [
    {
     "data": {
      "text/plain": [
       "Index(['idcontrato', 'nAnuncio', 'tipoContrato', 'tipoprocedimento',\n",
       "       'objectoContrato', 'adjudicantes', 'adjudicatarios', 'dataPublicacao',\n",
       "       'dataCelebracaoContrato', 'precoContratual', 'cpv', 'prazoExecucao',\n",
       "       'localExecucao'],\n",
       "      dtype='object')"
      ]
     },
     "execution_count": 269,
     "metadata": {},
     "output_type": "execute_result"
    }
   ],
   "source": [
    "df_copy.columns"
   ]
  },
  {
   "cell_type": "markdown",
   "metadata": {},
   "source": [
    "3. What are the datatypes of each field?"
   ]
  },
  {
   "cell_type": "code",
   "execution_count": 270,
   "metadata": {},
   "outputs": [
    {
     "name": "stdout",
     "output_type": "stream",
     "text": [
      "<class 'pandas.core.frame.DataFrame'>\n",
      "RangeIndex: 250092 entries, 0 to 250091\n",
      "Data columns (total 13 columns):\n",
      " #   Column                  Non-Null Count   Dtype         \n",
      "---  ------                  --------------   -----         \n",
      " 0   idcontrato              250092 non-null  int64         \n",
      " 1   nAnuncio                16740 non-null   object        \n",
      " 2   tipoContrato            250092 non-null  object        \n",
      " 3   tipoprocedimento        250092 non-null  object        \n",
      " 4   objectoContrato         250075 non-null  object        \n",
      " 5   adjudicantes            250092 non-null  object        \n",
      " 6   adjudicatarios          250085 non-null  object        \n",
      " 7   dataPublicacao          250092 non-null  datetime64[ns]\n",
      " 8   dataCelebracaoContrato  250092 non-null  datetime64[ns]\n",
      " 9   precoContratual         250092 non-null  float64       \n",
      " 10  cpv                     250035 non-null  object        \n",
      " 11  prazoExecucao           250092 non-null  int64         \n",
      " 12  localExecucao           250092 non-null  object        \n",
      "dtypes: datetime64[ns](2), float64(1), int64(2), object(8)\n",
      "memory usage: 24.8+ MB\n"
     ]
    }
   ],
   "source": [
    "df_copy.info()"
   ]
  },
  {
   "cell_type": "markdown",
   "metadata": {},
   "source": [
    "<b>[Step 3. | 3 points ]</b> As you have probably noticed our raw data is not exactly the cleanest dataset in the block. Indeed, we will need to perform some parsing in order to obtain a good working data. In that sense, write the necessary code to perform the following steps: <br>\n",
    "1. Break the field <i>cpv</i> into two columns named <i>cpvDOC</i> and <i>CPV</i>.<br>\n",
    "   The field <i>cpvDOC</i> should retain the CPV id, while the <i>CPV</i> its Description <br>\n",
    "   For instance, a record with value \"72416000-9, Fornecedores de aplicações\" should lead to a <i>cpvDOC</i> equal to \"72416000-9\" and a <i>CPV</i> equal to \"Fornecedores de aplicações\" <br>\n",
    "   \n",
    "   \n",
    "Use the head command to display the top 10 rows of these new columns (and only these new columns)."
   ]
  },
  {
   "cell_type": "code",
   "execution_count": 282,
   "metadata": {},
   "outputs": [],
   "source": [
    "df_copy['cpvDOC'] = df_copy['cpv'].map(lambda x: str(x)[0:10])\n",
    "df_copy['CPV'] = df_copy['cpv'].map(lambda x: str(x)[13:])\n",
    "df_copy.drop('cpv', axis=1, inplace=True)"
   ]
  },
  {
   "cell_type": "code",
   "execution_count": 283,
   "metadata": {},
   "outputs": [
    {
     "data": {
      "text/html": [
       "<div>\n",
       "<style scoped>\n",
       "    .dataframe tbody tr th:only-of-type {\n",
       "        vertical-align: middle;\n",
       "    }\n",
       "\n",
       "    .dataframe tbody tr th {\n",
       "        vertical-align: top;\n",
       "    }\n",
       "\n",
       "    .dataframe thead th {\n",
       "        text-align: right;\n",
       "    }\n",
       "</style>\n",
       "<table border=\"1\" class=\"dataframe\">\n",
       "  <thead>\n",
       "    <tr style=\"text-align: right;\">\n",
       "      <th></th>\n",
       "      <th>cpv</th>\n",
       "      <th>cpvDOC</th>\n",
       "      <th>CPV</th>\n",
       "    </tr>\n",
       "  </thead>\n",
       "  <tbody>\n",
       "    <tr>\n",
       "      <th>0</th>\n",
       "      <td>45252127-4 - Construção de estação de tratamen...</td>\n",
       "      <td>45252127-4</td>\n",
       "      <td>Construção de estação de tratamento de águas r...</td>\n",
       "    </tr>\n",
       "    <tr>\n",
       "      <th>1</th>\n",
       "      <td>45252127-4 - Construção de estação de tratamen...</td>\n",
       "      <td>45252127-4</td>\n",
       "      <td>Construção de estação de tratamento de águas r...</td>\n",
       "    </tr>\n",
       "    <tr>\n",
       "      <th>2</th>\n",
       "      <td>90512000-9 - Serviços de transporte de resíduos</td>\n",
       "      <td>90512000-9</td>\n",
       "      <td>Serviços de transporte de resíduos</td>\n",
       "    </tr>\n",
       "    <tr>\n",
       "      <th>3</th>\n",
       "      <td>45232423-3 - Construção de estações de bombage...</td>\n",
       "      <td>45232423-3</td>\n",
       "      <td>Construção de estações de bombagem de águas re...</td>\n",
       "    </tr>\n",
       "    <tr>\n",
       "      <th>4</th>\n",
       "      <td>45232422-6 - Estação de tratamento de lamas</td>\n",
       "      <td>45232422-6</td>\n",
       "      <td>Estação de tratamento de lamas</td>\n",
       "    </tr>\n",
       "  </tbody>\n",
       "</table>\n",
       "</div>"
      ],
      "text/plain": [
       "                                                 cpv      cpvDOC  \\\n",
       "0  45252127-4 - Construção de estação de tratamen...  45252127-4   \n",
       "1  45252127-4 - Construção de estação de tratamen...  45252127-4   \n",
       "2    90512000-9 - Serviços de transporte de resíduos  90512000-9   \n",
       "3  45232423-3 - Construção de estações de bombage...  45232423-3   \n",
       "4        45232422-6 - Estação de tratamento de lamas  45232422-6   \n",
       "\n",
       "                                                 CPV  \n",
       "0  Construção de estação de tratamento de águas r...  \n",
       "1  Construção de estação de tratamento de águas r...  \n",
       "2                 Serviços de transporte de resíduos  \n",
       "3  Construção de estações de bombagem de águas re...  \n",
       "4                     Estação de tratamento de lamas  "
      ]
     },
     "execution_count": 283,
     "metadata": {},
     "output_type": "execute_result"
    }
   ],
   "source": [
    "df_copy.head().loc[:,['cpv','cpvDOC','CPV']]"
   ]
  },
  {
   "cell_type": "markdown",
   "metadata": {},
   "source": [
    "2. Convert any fields with dates to datetime objects. Show the datatypes of all fields after your conversion.<br>\n",
    "**Tip:** You might want to check the link https://pandas.pydata.org/docs/reference/api/pandas.to_datetime.html for some tips regarding datetime conversion \n",
    "\n"
   ]
  },
  {
   "cell_type": "code",
   "execution_count": 286,
   "metadata": {},
   "outputs": [],
   "source": [
    "# o read excel ja carregou ambas como datas, este passo é redundante\n",
    "df_copy['dataPublicacao'] = pd.to_datetime(df_copy['dataPublicacao'], format='%Y%m%d')\n",
    "df_copy['dataCelebracaoContrato'] = pd.to_datetime(df_copy['dataCelebracaoContrato'], format='%Y%m%d')"
   ]
  },
  {
   "cell_type": "markdown",
   "metadata": {},
   "source": [
    "3. In the fields <i>adjudicantes</i> (issuers) and <i>adjudicatários</i> (suppliers) you should have noticed that it includes both the name and the fiscal numbers (NIF) of the participating institutions.<br>\n",
    "   For each of those two fields, split each record into two new fields. <br>\n",
    "   <i>Entidade adjudicante - Nome, NIF</i> split into <i>issuerNIF</i> and <i>issuerName</i>.<br>\n",
    "   <i>Entidade adjudicatária - Nome, NIF</i> split into <i>supplierNIF</i> and <i>supplierName</i>.<br>\n",
    "   \n",
    "   \n",
    "   You will find that in some cases there are multiple entities in those fields, which are separated by \"|\". Explain: how have you worked around such cases? \n",
    "   \n",
    "   If you are not able to perform this, feel free to ignore/drop the records that have multiple entities in each of those fields, but report what is the percentage of procurements that you would be dropping."
   ]
  },
  {
   "cell_type": "code",
   "execution_count": 287,
   "metadata": {},
   "outputs": [],
   "source": [
    "#fiz uma cópia só para não ter de estar sempre a ir buscar o data\n",
    "data_play = df_copy.copy()"
   ]
  },
  {
   "cell_type": "code",
   "execution_count": 57,
   "metadata": {},
   "outputs": [],
   "source": [
    "#eu criei duas funções uma que dá os nifs e outra que dá os nomes\n",
    "#quando existe mais do que um nif ou nome ele cria uma lista com os vários nifs ou nomes\n",
    "# def nifsplitter(x):\n",
    "#     out = []\n",
    "#     if \"|\" in str(x):\n",
    "#         NIF = str(x).split(sep=\"|\")\n",
    "#         for _, nif in enumerate(NIF):\n",
    "#             out.append(str(nif)[:10])\n",
    "#         return out\n",
    "#     else:\n",
    "#         return str(x)[:10]\n",
    "\n",
    "# def namesplitter(x):\n",
    "#     out = []\n",
    "#     if \"|\" in str(x):\n",
    "#         names = str(x).split(sep=\"|\")\n",
    "#         for _, names in enumerate(names):\n",
    "#             out.append(str(names)[11:])\n",
    "#         return out\n",
    "#     else:\n",
    "#         return str(x)[11:]"
   ]
  },
  {
   "cell_type": "code",
   "execution_count": 288,
   "metadata": {},
   "outputs": [],
   "source": [
    "filter_adj = []\n",
    "for i in data_play['adjudicantes']:\n",
    "    if '|' in str(i):\n",
    "        filter_adj.append(False)\n",
    "    else:\n",
    "        filter_adj.append(True)"
   ]
  },
  {
   "cell_type": "code",
   "execution_count": 289,
   "metadata": {},
   "outputs": [],
   "source": [
    "data_play = data_play.iloc[filter_adj]"
   ]
  },
  {
   "cell_type": "code",
   "execution_count": 290,
   "metadata": {},
   "outputs": [],
   "source": [
    "filter_sup = []\n",
    "for i in data_play['adjudicatarios']:\n",
    "    if '|' in str(i):\n",
    "        filter_sup.append(False)\n",
    "    else:\n",
    "        filter_sup.append(True)"
   ]
  },
  {
   "cell_type": "code",
   "execution_count": 291,
   "metadata": {},
   "outputs": [],
   "source": [
    "data_play = data_play.iloc[filter_sup]"
   ]
  },
  {
   "cell_type": "code",
   "execution_count": 292,
   "metadata": {},
   "outputs": [
    {
     "name": "stdout",
     "output_type": "stream",
     "text": [
      "We dropped 1.6 % of the procurements in our the data\n"
     ]
    }
   ],
   "source": [
    "print(f'We dropped {round(100-(len(data_play)/len(data))*100,2)} % of the procurements in our the data')"
   ]
  },
  {
   "cell_type": "code",
   "execution_count": 293,
   "metadata": {},
   "outputs": [
    {
     "data": {
      "text/html": [
       "<div>\n",
       "<style scoped>\n",
       "    .dataframe tbody tr th:only-of-type {\n",
       "        vertical-align: middle;\n",
       "    }\n",
       "\n",
       "    .dataframe tbody tr th {\n",
       "        vertical-align: top;\n",
       "    }\n",
       "\n",
       "    .dataframe thead th {\n",
       "        text-align: right;\n",
       "    }\n",
       "</style>\n",
       "<table border=\"1\" class=\"dataframe\">\n",
       "  <thead>\n",
       "    <tr style=\"text-align: right;\">\n",
       "      <th></th>\n",
       "      <th>idcontrato</th>\n",
       "      <th>nAnuncio</th>\n",
       "      <th>tipoContrato</th>\n",
       "      <th>tipoprocedimento</th>\n",
       "      <th>objectoContrato</th>\n",
       "      <th>dataPublicacao</th>\n",
       "      <th>dataCelebracaoContrato</th>\n",
       "      <th>precoContratual</th>\n",
       "      <th>prazoExecucao</th>\n",
       "      <th>localExecucao</th>\n",
       "      <th>cpvDOC</th>\n",
       "      <th>CPV</th>\n",
       "      <th>issuerNIF</th>\n",
       "      <th>issuerName</th>\n",
       "      <th>supplierNIF</th>\n",
       "      <th>supplierName</th>\n",
       "    </tr>\n",
       "  </thead>\n",
       "  <tbody>\n",
       "    <tr>\n",
       "      <th>1</th>\n",
       "      <td>1541123</td>\n",
       "      <td>1342/2010</td>\n",
       "      <td>Empreitadas de obras públicas</td>\n",
       "      <td>Concurso limitado por prévia qualificação</td>\n",
       "      <td>Empreitada de Projecto, Construção e Exploraçã...</td>\n",
       "      <td>2015-09-04</td>\n",
       "      <td>2014-05-12</td>\n",
       "      <td>2943077.15</td>\n",
       "      <td>690</td>\n",
       "      <td>Portugal, Coimbra, Arganil</td>\n",
       "      <td>45252127-4</td>\n",
       "      <td>Construção de estação de tratamento de águas r...</td>\n",
       "      <td>506598160</td>\n",
       "      <td>Águas do Mondego - Sistema Mult. de Abast. Águ...</td>\n",
       "      <td>500023875</td>\n",
       "      <td>Casais - Engenharia e Construções, S.A.</td>\n",
       "    </tr>\n",
       "    <tr>\n",
       "      <th>2</th>\n",
       "      <td>1320689</td>\n",
       "      <td>2407/2010</td>\n",
       "      <td>Aquisição de serviços</td>\n",
       "      <td>Concurso público</td>\n",
       "      <td>Recolha, Transporte e Deposição de resíduos do...</td>\n",
       "      <td>2014-12-09</td>\n",
       "      <td>2014-06-30</td>\n",
       "      <td>525004.90</td>\n",
       "      <td>1095</td>\n",
       "      <td>Portugal, Lisboa, Cascais | Portugal, Lisboa, ...</td>\n",
       "      <td>90512000-9</td>\n",
       "      <td>Serviços de transporte de resíduos</td>\n",
       "      <td>503455539</td>\n",
       "      <td>Sanest - Saneamento da Costa Estoril, SA</td>\n",
       "      <td>500512884</td>\n",
       "      <td>EGEO - TECNOLOGIA E AMBIENTE, SA.</td>\n",
       "    </tr>\n",
       "    <tr>\n",
       "      <th>5</th>\n",
       "      <td>1293929</td>\n",
       "      <td>350/2010</td>\n",
       "      <td>Aquisição de serviços</td>\n",
       "      <td>Concurso público</td>\n",
       "      <td>Aquisição de serviços de Reabilitação e operac...</td>\n",
       "      <td>2014-11-07</td>\n",
       "      <td>2014-07-18</td>\n",
       "      <td>3294000.00</td>\n",
       "      <td>732</td>\n",
       "      <td>Portugal, Portugal Continental</td>\n",
       "      <td>50411000-9</td>\n",
       "      <td>Serviços de reparação e manutenção de aparelho...</td>\n",
       "      <td>503237965</td>\n",
       "      <td>Instituto da Água, I. P.</td>\n",
       "      <td>503636452</td>\n",
       "      <td>Bruno &amp;amp; Lopes - Engenheiros Civis Associad...</td>\n",
       "    </tr>\n",
       "    <tr>\n",
       "      <th>6</th>\n",
       "      <td>1260153</td>\n",
       "      <td>413/2010</td>\n",
       "      <td>Empreitadas de obras públicas</td>\n",
       "      <td>Concurso público</td>\n",
       "      <td>Rede de Drenagem de Águas Residuais Domésticas...</td>\n",
       "      <td>2014-10-02</td>\n",
       "      <td>2014-01-16</td>\n",
       "      <td>856471.75</td>\n",
       "      <td>365</td>\n",
       "      <td>Portugal, Castelo Branco, Sertã</td>\n",
       "      <td>45232460-4</td>\n",
       "      <td>Obras de saneamento</td>\n",
       "      <td>506963837</td>\n",
       "      <td>Município da Sertã</td>\n",
       "      <td>504870475</td>\n",
       "      <td>Lusosicó- Construções, S.A</td>\n",
       "    </tr>\n",
       "    <tr>\n",
       "      <th>7</th>\n",
       "      <td>1083754</td>\n",
       "      <td>4890/2010</td>\n",
       "      <td>Empreitadas de obras públicas</td>\n",
       "      <td>Concurso público</td>\n",
       "      <td>P127/2010/CPA - Remodelação do Antigo Edifício...</td>\n",
       "      <td>2014-05-30</td>\n",
       "      <td>2014-05-29</td>\n",
       "      <td>768537.31</td>\n",
       "      <td>365</td>\n",
       "      <td>Portugal, Santarém, Ourém</td>\n",
       "      <td>45200000-9</td>\n",
       "      <td>Obras de construção total ou parcial e de enge...</td>\n",
       "      <td>501280740</td>\n",
       "      <td>Município de Ourém</td>\n",
       "      <td>506378527</td>\n",
       "      <td>NORTEJUVIL, SOCIEDADE DE CONSTRUÇÕES LDA.</td>\n",
       "    </tr>\n",
       "  </tbody>\n",
       "</table>\n",
       "</div>"
      ],
      "text/plain": [
       "   idcontrato   nAnuncio                   tipoContrato  \\\n",
       "1     1541123  1342/2010  Empreitadas de obras públicas   \n",
       "2     1320689  2407/2010          Aquisição de serviços   \n",
       "5     1293929   350/2010          Aquisição de serviços   \n",
       "6     1260153   413/2010  Empreitadas de obras públicas   \n",
       "7     1083754  4890/2010  Empreitadas de obras públicas   \n",
       "\n",
       "                            tipoprocedimento  \\\n",
       "1  Concurso limitado por prévia qualificação   \n",
       "2                           Concurso público   \n",
       "5                           Concurso público   \n",
       "6                           Concurso público   \n",
       "7                           Concurso público   \n",
       "\n",
       "                                     objectoContrato dataPublicacao  \\\n",
       "1  Empreitada de Projecto, Construção e Exploraçã...     2015-09-04   \n",
       "2  Recolha, Transporte e Deposição de resíduos do...     2014-12-09   \n",
       "5  Aquisição de serviços de Reabilitação e operac...     2014-11-07   \n",
       "6  Rede de Drenagem de Águas Residuais Domésticas...     2014-10-02   \n",
       "7  P127/2010/CPA - Remodelação do Antigo Edifício...     2014-05-30   \n",
       "\n",
       "  dataCelebracaoContrato  precoContratual  prazoExecucao  \\\n",
       "1             2014-05-12       2943077.15            690   \n",
       "2             2014-06-30        525004.90           1095   \n",
       "5             2014-07-18       3294000.00            732   \n",
       "6             2014-01-16        856471.75            365   \n",
       "7             2014-05-29        768537.31            365   \n",
       "\n",
       "                                       localExecucao      cpvDOC  \\\n",
       "1                         Portugal, Coimbra, Arganil  45252127-4   \n",
       "2  Portugal, Lisboa, Cascais | Portugal, Lisboa, ...  90512000-9   \n",
       "5                     Portugal, Portugal Continental  50411000-9   \n",
       "6                    Portugal, Castelo Branco, Sertã  45232460-4   \n",
       "7                          Portugal, Santarém, Ourém  45200000-9   \n",
       "\n",
       "                                                 CPV  issuerNIF  \\\n",
       "1  Construção de estação de tratamento de águas r...  506598160   \n",
       "2                 Serviços de transporte de resíduos  503455539   \n",
       "5  Serviços de reparação e manutenção de aparelho...  503237965   \n",
       "6                                Obras de saneamento  506963837   \n",
       "7  Obras de construção total ou parcial e de enge...  501280740   \n",
       "\n",
       "                                          issuerName supplierNIF  \\\n",
       "1  Águas do Mondego - Sistema Mult. de Abast. Águ...   500023875   \n",
       "2           Sanest - Saneamento da Costa Estoril, SA   500512884   \n",
       "5                           Instituto da Água, I. P.   503636452   \n",
       "6                                 Município da Sertã   504870475   \n",
       "7                                 Município de Ourém   506378527   \n",
       "\n",
       "                                        supplierName  \n",
       "1           Casais - Engenharia e Construções, S.A.   \n",
       "2                  EGEO - TECNOLOGIA E AMBIENTE, SA.  \n",
       "5  Bruno &amp; Lopes - Engenheiros Civis Associad...  \n",
       "6                         Lusosicó- Construções, S.A  \n",
       "7          NORTEJUVIL, SOCIEDADE DE CONSTRUÇÕES LDA.  "
      ]
     },
     "execution_count": 293,
     "metadata": {},
     "output_type": "execute_result"
    }
   ],
   "source": [
    "# split the columns\n",
    "data_play['issuerNIF'] = data_play['adjudicantes'].apply(lambda x: str(x)[:9])\n",
    "data_play['issuerName'] = data_play['adjudicantes'].apply(lambda x: str(x)[12:])\n",
    "data_play['supplierNIF'] = data_play['adjudicatarios'].apply(lambda x: str(x)[:9])\n",
    "data_play['supplierName'] = data_play['adjudicatarios'].apply(lambda x: str(x)[12:])\n",
    "\n",
    "data_play.drop(columns=['adjudicantes','adjudicatarios'], inplace=True)\n",
    "data_play.head()"
   ]
  },
  {
   "cell_type": "markdown",
   "metadata": {},
   "source": [
    "4. Verify that the parsing was successful "
   ]
  },
  {
   "cell_type": "markdown",
   "metadata": {},
   "source": [
    "<b>[Step 4. | 5 points ]</b> Let us do some exploratory analysis of the data. The goal is to develop some familarity with the data, which we will do by answering some simple questions. Knowing which questions to ask is an important step for any successful data science project. In that sense, write down the necessary code to answer the following questions:\n",
    "\n",
    "You can report the results using a meaningful visualization (check out https://pandas.pydata.org/docs/reference/api/pandas.DataFrame.plot.html or the seaborn module)\n",
    "\n",
    "1. What is the total value (precoContratual) of procurements per month?"
   ]
  },
  {
   "cell_type": "code",
   "execution_count": 294,
   "metadata": {},
   "outputs": [],
   "source": [
    "data_play['month'] = data_play['dataCelebracaoContrato'].apply(lambda x: x.month)\n",
    "data_play['precoContratual_M'] = data_play['precoContratual']/1000000"
   ]
  },
  {
   "cell_type": "code",
   "execution_count": 295,
   "metadata": {},
   "outputs": [
    {
     "data": {
      "image/png": "[encoded data removed]",
      "text/plain": [
       "<Figure size 432x288 with 1 Axes>"
      ]
     },
     "metadata": {
      "needs_background": "light"
     },
     "output_type": "display_data"
    }
   ],
   "source": [
    "data_play.groupby('month').precoContratual_M.agg('sum').plot(kind='bar')\n",
    "plt.title('Total contract amount by month (in millions)')\n",
    "plt.show()"
   ]
  },
  {
   "cell_type": "markdown",
   "metadata": {},
   "source": [
    "2. How many procurements have been issued per **month of year**?"
   ]
  },
  {
   "cell_type": "code",
   "execution_count": 296,
   "metadata": {},
   "outputs": [],
   "source": [
    "data_play['monthyear'] = data_play['dataCelebracaoContrato'].apply(lambda x: x.year*100+x.month)"
   ]
  },
  {
   "cell_type": "code",
   "execution_count": 297,
   "metadata": {},
   "outputs": [
    {
     "data": {
      "image/png": "[encoded data removed]",
      "text/plain": [
       "<Figure size 720x360 with 1 Axes>"
      ]
     },
     "metadata": {
      "needs_background": "light"
     },
     "output_type": "display_data"
    }
   ],
   "source": [
    "plt.figure(figsize=(10,5))\n",
    "data_play['monthyear'].value_counts().sort_index().plot(kind='bar')\n",
    "plt.title('Total number of contracts by month year')\n",
    "plt.show()"
   ]
  },
  {
   "cell_type": "markdown",
   "metadata": {},
   "source": [
    "3. What is the distribution of values? In other words, what is the proportion of procurements that have value X?  \n",
    "Can you build a visualization and highlight what you found more interesting and discuss it? \n",
    "\n",
    "**Note:** Consider working with the Logarithm base 10 of values; Consider use predefined bin in the X values."
   ]
  },
  {
   "cell_type": "code",
   "execution_count": 318,
   "metadata": {},
   "outputs": [
    {
     "data": {
      "image/png": "[encoded data removed]",
      "text/plain": [
       "<Figure size 432x288 with 1 Axes>"
      ]
     },
     "metadata": {
      "needs_background": "light"
     },
     "output_type": "display_data"
    }
   ],
   "source": [
    "#because we have contract with value 0 and log of 0 is indetermined I will add 1 euro to each contract\n",
    "data_play['logprecoContratual'] = data_play['precoContratual'].apply(lambda x: np.log10(x+1))\n",
    "data_play['logprecoContratual'].plot(kind='hist')\n",
    "#sns.displot(data=data_play, x='logprecoContratual', kde=True)\n",
    "plt.show()"
   ]
  },
  {
   "cell_type": "markdown",
   "metadata": {},
   "source": [
    "4. In the dataset, how many issuing Institutions are there? And how many suppliers?"
   ]
  },
  {
   "cell_type": "code",
   "execution_count": 299,
   "metadata": {},
   "outputs": [
    {
     "name": "stdout",
     "output_type": "stream",
     "text": [
      "There are 5746 issuing Institutions in the dataset\n",
      "There are 42841 suppleirs in the dataset\n"
     ]
    }
   ],
   "source": [
    "print(f'There are {len(data_play.issuerNIF.unique())} issuing Institutions in the dataset')\n",
    "print(f'There are {len(data_play.supplierNIF.unique())} suppleirs in the dataset')"
   ]
  },
  {
   "cell_type": "markdown",
   "metadata": {},
   "source": [
    "5. What services has ISEGI-Inst Superior de Estatistica e Gestão de Informação da UNL (NIF: 502322152) supplied? And who are the top three issuers/beneficiaries of such services?"
   ]
  },
  {
   "cell_type": "code",
   "execution_count": 320,
   "metadata": {},
   "outputs": [
    {
     "data": {
      "text/plain": [
       "array(['Serviços de TI: consultoria, desenvolvimento de software, Internet e apoio',\n",
       "       'Serviços de ensino e formação',\n",
       "       'Serviços de avaliação dos resultados',\n",
       "       'Serviços de sondagens de opinião',\n",
       "       'Serviços de estudos de mercado',\n",
       "       'Serviços de desenvolvimento de software para sectores específicos'],\n",
       "      dtype=object)"
      ]
     },
     "execution_count": 320,
     "metadata": {},
     "output_type": "execute_result"
    }
   ],
   "source": [
    "# services of ISEGI\n",
    "data_play.loc[data_play['supplierNIF']=='502322152', 'CPV'].unique()"
   ]
  },
  {
   "cell_type": "code",
   "execution_count": null,
   "metadata": {},
   "outputs": [],
   "source": [
    "# top three issuers\n",
    "# top three beneficiaries"
   ]
  },
  {
   "cell_type": "markdown",
   "metadata": {},
   "source": [
    "6. What are the top five services (CPV) contracted by Hospital de Santa Maria Maior (NIF: 506361381)?"
   ]
  },
  {
   "cell_type": "code",
   "execution_count": null,
   "metadata": {},
   "outputs": [],
   "source": []
  },
  {
   "cell_type": "markdown",
   "metadata": {},
   "source": [
    "7. What services (CPV) has Novo Banco, S.A. (NIF: 513204016) supplied? Aggregate the output by CPV and sort by descending order of total value."
   ]
  },
  {
   "cell_type": "code",
   "execution_count": null,
   "metadata": {},
   "outputs": [],
   "source": []
  },
  {
   "cell_type": "markdown",
   "metadata": {},
   "source": [
    "8. Can you measure the correlation between the length/duration of contract (\"prazoExecucao\") and the final value (\"precoContratual\")? Are longer contracts more costly?<br>\n",
    "(Remember there might already exist a method to help you out)\n",
    "    \n",
    "    8.1 What if you plot the average price per day as a function of the duration of the contract? What relationship to you obtain?\n",
    "    \n",
    "Note: The objective is to aggregate all contracts with a duration X, and then compute the average cost/value per day of such contracts. What relationship do you observe? Are longer contracts cheaper in a daily cost? Or more expensive?"
   ]
  },
  {
   "cell_type": "code",
   "execution_count": null,
   "metadata": {},
   "outputs": [],
   "source": []
  },
  {
   "cell_type": "code",
   "execution_count": null,
   "metadata": {},
   "outputs": [],
   "source": []
  },
  {
   "cell_type": "markdown",
   "metadata": {},
   "source": [
    "<b>[Step 5. | 5 points ]</b> You probably have noticed that our dataset includes procurements issued by municipalities (Câmara Municipal or Município). Interesting huh?\n",
    "\n",
    "Next, we will explore municipality procurement data a bit more in detail. To that end, we will need to process our procurement dataset, in order to obtain the procurements of each municipality, aggregate the data and obtain the relevant metrics.\n",
    "\n",
    "However, the data is not uniform as some typos lead to the same municipality having different names. Moreover, there are municipal companies that have a different fiscal code than the municipalities. To make it simple, let us ignore municipal companies. Moreover, we have prepared beforehand a .csv file that lists all the NIF ids associated wit each municipality.\n",
    "\n",
    "**NOTE. The file MunicipiosNIF.xlsx is available to download from Moodle.**\n",
    "\n",
    "1. Download the file MunicipiosNIF.xlsx from Moodle and load it into a dataframe;"
   ]
  },
  {
   "cell_type": "code",
   "execution_count": null,
   "metadata": {},
   "outputs": [],
   "source": []
  },
  {
   "cell_type": "markdown",
   "metadata": {},
   "source": [
    "2. Create a new dataframe that contains only the procurements issued by municipalities. Use the dataframe created above to aid your filtering.\n",
    "\n",
    "**Note:** you will end up with situations where the same municipality will have different names, although it has the same NIF. Consider using only the NIF as the unique identifier of a municipality, and if there are multiple names associated to it, to choose one. Explain how did you proceed."
   ]
  },
  {
   "cell_type": "code",
   "execution_count": null,
   "metadata": {},
   "outputs": [],
   "source": []
  },
  {
   "cell_type": "markdown",
   "metadata": {},
   "source": [
    "3. What are the top ten suppliers in terms of value (total cost in euros) spent by the municipality of Lisbon?"
   ]
  },
  {
   "cell_type": "code",
   "execution_count": null,
   "metadata": {},
   "outputs": [],
   "source": []
  },
  {
   "cell_type": "markdown",
   "metadata": {},
   "source": [
    "4. What are the top ten services in terms of value (total cost in euros) supplied to the Municipality of Lisbon?"
   ]
  },
  {
   "cell_type": "code",
   "execution_count": null,
   "metadata": {},
   "outputs": [],
   "source": []
  },
  {
   "cell_type": "markdown",
   "metadata": {},
   "source": [
    "5. Compute the average value of the procurements (only those contracted by municipalities) per supplier. <br>\n",
    "    5.1 Show as an histogram the number of companies that received a total amount X from municipalities. <br>\n",
    "    5.2 Identify the top 10 companies that received more money from municipalities."
   ]
  },
  {
   "cell_type": "code",
   "execution_count": null,
   "metadata": {},
   "outputs": [],
   "source": []
  },
  {
   "cell_type": "markdown",
   "metadata": {},
   "source": [
    "6. What is the most common \"tipoprocedimento\" of procurements issued by municipalities? <br>\n",
    "    6.1 What if you consider only procurements with a value above 50 000 euros? <br>\n",
    "    6.2 How do you relate/compare these results with those obtained in Question 3 of Step 4?"
   ]
  },
  {
   "cell_type": "code",
   "execution_count": null,
   "metadata": {},
   "outputs": [],
   "source": []
  },
  {
   "cell_type": "code",
   "execution_count": null,
   "metadata": {},
   "outputs": [],
   "source": []
  },
  {
   "cell_type": "markdown",
   "metadata": {},
   "source": [
    "<b>[Step 6. | 4 points ]</b> Next, and in the spirit of a vast scientific literature on Urban Scaling Laws (https://tinyurl.com/y8ohmzx7), let us investigate the relationship between the number and value of procurements issued by municipalities and their population size.\n",
    "\n",
    "To that end we will need to download and load an additional dataset that includes the population size of each municipality.<br> \n",
    "This dataset was obtained from the portal pordata. As is the case in many data science projects we don't have a perfect matching key between the population data and the procurement data we have been working so far. \n",
    "\n",
    "**NOTE. The file popsize.csv is available for download from Moodle.**\n",
    "\n",
    "1. Download the file popsize.csv from Moodle and load it to a dataframe. <br>\n",
    "    1.1 Explore the dataframe and explain how can you link this data to the procurement data."
   ]
  },
  {
   "cell_type": "code",
   "execution_count": null,
   "metadata": {},
   "outputs": [],
   "source": []
  },
  {
   "cell_type": "markdown",
   "metadata": {},
   "source": [
    "Explanation:"
   ]
  },
  {
   "cell_type": "markdown",
   "metadata": {},
   "source": [
    "2. Create a new dataframe in which contracts are aggregated by municipality. You should have a dataframe in which the columns correspond to: NIF; Municipality Name; Population Size; Number of Issued Procurements; Total Value of Issued Procurements. \n",
    "\n",
    "**Note:** You will have to merge at least two dataframes, and apply several aggregations."
   ]
  },
  {
   "cell_type": "code",
   "execution_count": null,
   "metadata": {},
   "outputs": [],
   "source": []
  },
  {
   "cell_type": "markdown",
   "metadata": {},
   "source": [
    "3. It is common procedure to compare not the absolute values of the different dimensions but their Logarithm. In that sense, create three new columns in your dataframe that correspond to: <br>\n",
    "    i) The Logarithm of base 10 of the Total Value of Issue Procurements; <br>\n",
    "    ii) Number of Issued Procurements; <br>\n",
    "    iii) Population Size."
   ]
  },
  {
   "cell_type": "code",
   "execution_count": null,
   "metadata": {},
   "outputs": [],
   "source": []
  },
  {
   "cell_type": "markdown",
   "metadata": {},
   "source": [
    "4. Compute the pearson correlation between the municipalities Log of the Population Size with: <br>\n",
    "    i) the Log of Total Number of Issued Procurements; <br>\n",
    "    ii) the Log of the Total Value of Issued Procurements. \n",
    "    \n",
    "    Use the columns you pre computed in the previous question.\n",
    "    \n",
    "    4.1 **Make a scatter plot** for each pair of variables to assess the identified relationship."
   ]
  },
  {
   "cell_type": "code",
   "execution_count": null,
   "metadata": {},
   "outputs": [],
   "source": []
  },
  {
   "cell_type": "markdown",
   "metadata": {},
   "source": [
    "5. Can you build a linear model using the library Statsmodel that regresses the Logarithms of the Total Value of issued procurements as a funcion of the population size? What coefficient did you find? <br>\n",
    "**Tip:** You might to to look for some inspiration in the final part of Lab 7"
   ]
  },
  {
   "cell_type": "code",
   "execution_count": null,
   "metadata": {},
   "outputs": [],
   "source": []
  },
  {
   "cell_type": "markdown",
   "metadata": {},
   "source": [
    "6. What if instead of the Total Value of issued procurments you had the Value per capita (per capita means per person in the local population)? How would that impact the results in points 6.4 and 6.5?<br>\n"
   ]
  },
  {
   "cell_type": "code",
   "execution_count": null,
   "metadata": {},
   "outputs": [],
   "source": []
  },
  {
   "cell_type": "markdown",
   "metadata": {},
   "source": [
    "<b>[Step 7. | 2 point ]</b> Open Question. <br>\n",
    "Given the dataset you have been exploring, and the analysis conducted over the municipalities procurement dataset with the population data. Can you think about a question that you consider interesting to explore? Does it require to obtain additional data from, for instance, pordata?\n",
    "\n",
    "**On this final step you have full control. Be creative and show us your ability to raise a question, identify which data you require to explore it, and report the results. Be as objective and clear as possible with your answer.**\n",
    "\n",
    "Use as many cells as necessary."
   ]
  },
  {
   "cell_type": "code",
   "execution_count": null,
   "metadata": {},
   "outputs": [],
   "source": []
  },
  {
   "cell_type": "markdown",
   "metadata": {},
   "source": [
    "## End\n",
    "\n",
    "Submit this notebook in Moodle along with a statement of authorship in a single .zip archive."
   ]
  }
 ],
 "metadata": {
  "kernelspec": {
   "display_name": "Python 3",
   "language": "python",
   "name": "python3"
  },
  "language_info": {
   "codemirror_mode": {
    "name": "ipython",
    "version": 3
   },
   "file_extension": ".py",
   "mimetype": "text/x-python",
   "name": "python",
   "nbconvert_exporter": "python",
   "pygments_lexer": "ipython3",
   "version": "3.8.5"
  }
 },
 "nbformat": 4,
 "nbformat_minor": 2
}
