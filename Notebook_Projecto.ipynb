{
 "cells": [
  {
   "cell_type": "markdown",
   "metadata": {},
   "source": [
    "# Programming for Data Science Practical Examination\n",
    "## Introduction \n",
    "\n",
    "The challenge of this pratical is to explore the public procurement data available in the portal www.base.gov.pt. <br>\n",
    "Public Procurements are contracts establish between a public institutions (the issuer of a procurement) and a third-party supplier. <br>\n",
    "Each contract is classified using the Common Procurement Vocabulary (CPV). The CPV classification aims at establishing a single classification system for public procurement in Europe, helping in comparative statistics and regulation. The CPV is a five level hierarchical classification encoded in a nine digit string. For instance the first two digits identify the division, the first three the groups, and so on. You can find more information about the CPVs at https://simap.ted.europa.eu/cpv\n",
    "\n",
    "\n",
    "We will use a sample dataset extracted from the portal BASE (www.base.gov.pt) that contains information on public procurements executed between 2012 and 2014. Below you can find a step-by-step instructions of what the tasks you need to perform in order to analyse this dataset. Each step indicates the amount of points you can score. Make sure you comment all your code and provide, when requested, a discussion about what you have done and the results obtained.\n",
    "\n",
    "This examination does not intend to test your ability to:<br>\n",
    ". perform complex data analysis;<br>\n",
    ". develop complex data-driven models; <br>\n",
    ". write optimal algorithmic solutions to a problem. <br>\n",
    "\n",
    "**Instead**, it aims to test your ability to implement a pre-planned step by step project in python.\n",
    "\n",
    "Your submission will be graded according to the following guidelines:\n",
    "1. Execution (does your program does what is asked from the exercise?)\n",
    "2. Objectivity (are you using the adequate libraries? are you using a libraries not in the scope of exercise?)\n",
    "3. Readibility of your code (is your code correctly documented? is variable naming adequate?)\n",
    "\n",
    "This is an individual activity!\n",
    "\n",
    "## Submission Details\n",
    "\n",
    "The deadline for the submission is the 30th of October at 11:59 (am), and submission must be done through the corresponding activity in moodle. Your submission should consist of an archive **(zip file)** containing the following files: <br>\n",
    "1) A copy of this notebook with your answers; <br>\n",
    "2) A html version of the notebook with your answers (File -> Download As -> html); <br>\n",
    "3) An Authorship Statement; <br> \n",
    "\n",
    "**Submissions done in .rar archives will not be graded. <br>\n",
    "Submissions delivered that are not in a jupyter notebook format will not be graded.**\n",
    "\n",
    "Good Luck, and enjoy!\n",
    "\n",
    "**PLEASE FILL THE BELOW CELLS WITH THE GROUP MEMBERS INFORMATION:** <br>"
   ]
  },
  {
   "cell_type": "code",
   "execution_count": null,
   "metadata": {},
   "outputs": [],
   "source": [
    "# Student ID: M20211300\n",
    "# Student Name: Miguel Lince"
   ]
  },
  {
   "cell_type": "code",
   "execution_count": null,
   "metadata": {},
   "outputs": [],
   "source": [
    "# Student ID: M20210664\n",
    "# Student Name: Tomás Jordão"
   ]
  },
  {
   "cell_type": "code",
   "execution_count": null,
   "metadata": {},
   "outputs": [],
   "source": [
    "# Student ID: R20181082\n",
    "# Student Name: David Santos"
   ]
  },
  {
   "cell_type": "markdown",
   "metadata": {},
   "source": [
    "**Important NOTE**\n",
    "\n",
    "Any reference to the value of procurement, refers to the price or cost of the contract which is in the column \"precoContratual\""
   ]
  },
  {
   "cell_type": "markdown",
   "metadata": {},
   "source": [
    "## Boilerplate\n",
    "\n",
    "Before you start, let us make sure you have all the necessary packages in your working environment. To that end run the following cells to install and load all the necessary libraries.\n",
    "\n",
    "**Note** You only need to run this cell once, not everytime you open the notebook."
   ]
  },
  {
   "cell_type": "code",
   "execution_count": 1,
   "metadata": {},
   "outputs": [
    {
     "name": "stdout",
     "output_type": "stream",
     "text": [
      "Requirement already satisfied: pip in c:\\programdata\\anaconda3\\lib\\site-packages (21.2.2)\n",
      "Collecting pip\n",
      "  Downloading pip-21.3.1-py3-none-any.whl (1.7 MB)\n",
      "Installing collected packages: pip\n",
      "Successfully installed pip-21.3.1\n"
     ]
    },
    {
     "name": "stderr",
     "output_type": "stream",
     "text": [
      "  WARNING: The scripts pip.exe, pip3.8.exe and pip3.exe are installed in 'C:\\Users\\u86004\\AppData\\Roaming\\Python\\Python38\\Scripts' which is not on PATH.\n",
      "  Consider adding this directory to PATH or, if you prefer to suppress this warning, use --no-warn-script-location.\n"
     ]
    },
    {
     "name": "stdout",
     "output_type": "stream",
     "text": [
      "Requirement already satisfied: xlrd in c:\\programdata\\anaconda3\\lib\\site-packages (2.0.1)\n",
      "Requirement already satisfied: requests in c:\\programdata\\anaconda3\\lib\\site-packages (2.25.1)\n",
      "Requirement already satisfied: urllib3<1.27,>=1.21.1 in c:\\programdata\\anaconda3\\lib\\site-packages (from requests) (1.26.6)\n",
      "Requirement already satisfied: chardet<5,>=3.0.2 in c:\\programdata\\anaconda3\\lib\\site-packages (from requests) (4.0.0)\n",
      "Requirement already satisfied: idna<3,>=2.5 in c:\\programdata\\anaconda3\\lib\\site-packages (from requests) (2.10)\n",
      "Requirement already satisfied: certifi>=2017.4.17 in c:\\programdata\\anaconda3\\lib\\site-packages (from requests) (2021.5.30)\n",
      "Requirement already satisfied: seaborn in c:\\programdata\\anaconda3\\lib\\site-packages (0.11.1)\n",
      "Requirement already satisfied: scipy>=1.0 in c:\\programdata\\anaconda3\\lib\\site-packages (from seaborn) (1.6.2)\n",
      "Requirement already satisfied: pandas>=0.23 in c:\\programdata\\anaconda3\\lib\\site-packages (from seaborn) (1.3.0)\n",
      "Requirement already satisfied: numpy>=1.15 in c:\\programdata\\anaconda3\\lib\\site-packages (from seaborn) (1.20.3)\n",
      "Requirement already satisfied: matplotlib>=2.2 in c:\\programdata\\anaconda3\\lib\\site-packages (from seaborn) (3.4.2)\n",
      "Requirement already satisfied: kiwisolver>=1.0.1 in c:\\programdata\\anaconda3\\lib\\site-packages (from matplotlib>=2.2->seaborn) (1.3.1)\n",
      "Requirement already satisfied: python-dateutil>=2.7 in c:\\programdata\\anaconda3\\lib\\site-packages (from matplotlib>=2.2->seaborn) (2.8.2)\n",
      "Requirement already satisfied: pillow>=6.2.0 in c:\\programdata\\anaconda3\\lib\\site-packages (from matplotlib>=2.2->seaborn) (8.3.1)\n",
      "Requirement already satisfied: cycler>=0.10 in c:\\programdata\\anaconda3\\lib\\site-packages (from matplotlib>=2.2->seaborn) (0.10.0)\n",
      "Requirement already satisfied: pyparsing>=2.2.1 in c:\\programdata\\anaconda3\\lib\\site-packages (from matplotlib>=2.2->seaborn) (2.4.7)\n",
      "Requirement already satisfied: pytz>=2017.3 in c:\\programdata\\anaconda3\\lib\\site-packages (from pandas>=0.23->seaborn) (2021.1)\n",
      "Requirement already satisfied: six in c:\\programdata\\anaconda3\\lib\\site-packages (from cycler>=0.10->matplotlib>=2.2->seaborn) (1.16.0)\n"
     ]
    }
   ],
   "source": [
    "# Run this cell only if you are missing any of the packages below\n",
    "import sys\n",
    "!{sys.executable} -m pip install --upgrade pip --user\n",
    "!{sys.executable} -m pip install xlrd\n",
    "!{sys.executable} -m pip install requests\n",
    "!{sys.executable} -m pip install seaborn"
   ]
  },
  {
   "cell_type": "markdown",
   "metadata": {},
   "source": [
    "Then we load the necessary libraries to execute each of the steps below."
   ]
  },
  {
   "cell_type": "code",
   "execution_count": 1,
   "metadata": {},
   "outputs": [],
   "source": [
    "import pandas as pd\n",
    "import numpy as np\n",
    "import scipy as sp\n",
    "import seaborn as sns\n",
    "import matplotlib.pyplot as plt\n",
    "import statsmodels as sm\n",
    "import os\n",
    "from zipfile import ZipFile"
   ]
  },
  {
   "cell_type": "code",
   "execution_count": 2,
   "metadata": {},
   "outputs": [],
   "source": [
    "import requests"
   ]
  },
  {
   "cell_type": "code",
   "execution_count": 3,
   "metadata": {
    "scrolled": false
   },
   "outputs": [
    {
     "name": "stdout",
     "output_type": "stream",
     "text": [
      "Pandas version  1.3.0\n",
      "Numpy version  1.20.3\n",
      "Scipy version  1.6.2\n",
      "Seaborn version  0.11.1\n",
      "StatsModels version  0.12.2\n"
     ]
    }
   ],
   "source": [
    "print('Pandas version ',pd.__version__)\n",
    "print('Numpy version ',np.__version__)\n",
    "print('Scipy version ',sp.__version__)\n",
    "print('Seaborn version ',sns.__version__)\n",
    "print('StatsModels version ',sm.__version__)"
   ]
  },
  {
   "cell_type": "markdown",
   "metadata": {},
   "source": [
    "In the following steps, please use the alias defined at this step. This will help us to correct your answers and track your steps. Students that fail to use the pre-defined aliases will be penalized. \n",
    "\n",
    "Finally, the following cell downloads the dataset for this project. <br>"
   ]
  },
  {
   "cell_type": "code",
   "execution_count": 4,
   "metadata": {},
   "outputs": [],
   "source": [
    "r = requests.get('https://www.dropbox.com/s/43jqravvvddaljb/PDS2021_Data.zip?dl=1', allow_redirects=True)\n",
    "open('Data.zip', 'wb').write(r.content);\n",
    "with ZipFile('Data.zip', 'r') as zipObj:\n",
    "    zipObj.extractall('DATA')"
   ]
  },
  {
   "cell_type": "markdown",
   "metadata": {},
   "source": [
    "The above code will store the datafiles in a folder called \"DATA\" that is in the same filepath as this notebook. <br>\n",
    "The dataset consists of three xlsx files containing all contracts available in 2018 concerning the contracts issued in 2012, 2013, and 2014 that where available in BASE."
   ]
  },
  {
   "cell_type": "markdown",
   "metadata": {},
   "source": [
    "## Exercises (The action starts here)\n",
    "\n",
    "<b>[Step 1. | 0.5 points ]</b> Load all the procurement datafiles (contratos2012.xlsx, contratos2013.xlsx, and contratos2014.xlsx) into a single dataframe named <i>data</i>.<br>\n",
    "Notes: This operation might take a while. When reading data from excel it is safer to always specify the Sheet you want to read. You might need to reset the indexes and drop a column of the final dataframe to obtain a more workable dataframe."
   ]
  },
  {
   "cell_type": "code",
   "execution_count": 6,
   "metadata": {
    "scrolled": true
   },
   "outputs": [
    {
     "data": {
      "text/plain": [
       "['DATA/contratos2012.xlsx',\n",
       " 'DATA/contratos2013.xlsx',\n",
       " 'DATA/contratos2014.xlsx']"
      ]
     },
     "execution_count": 6,
     "metadata": {},
     "output_type": "execute_result"
    }
   ],
   "source": [
    "path = os.getcwd()\n",
    "files = os.listdir('DATA')\n",
    "files_xlsx = [\"DATA/\" + f for f in files if f[:9] == 'contratos']\n",
    "files_xlsx"
   ]
  },
  {
   "cell_type": "code",
   "execution_count": 7,
   "metadata": {
    "scrolled": true
   },
   "outputs": [],
   "source": [
    "data = pd.DataFrame()\n",
    "for f in files_xlsx:\n",
    "    df = pd.read_excel(f, sheet_name='Folha1')\n",
    "    data = df.append(data)"
   ]
  },
  {
   "cell_type": "code",
   "execution_count": 8,
   "metadata": {},
   "outputs": [
    {
     "data": {
      "text/html": [
       "<div>\n",
       "<style scoped>\n",
       "    .dataframe tbody tr th:only-of-type {\n",
       "        vertical-align: middle;\n",
       "    }\n",
       "\n",
       "    .dataframe tbody tr th {\n",
       "        vertical-align: top;\n",
       "    }\n",
       "\n",
       "    .dataframe thead th {\n",
       "        text-align: right;\n",
       "    }\n",
       "</style>\n",
       "<table border=\"1\" class=\"dataframe\">\n",
       "  <thead>\n",
       "    <tr style=\"text-align: right;\">\n",
       "      <th></th>\n",
       "      <th>idcontrato</th>\n",
       "      <th>nAnuncio</th>\n",
       "      <th>tipoContrato</th>\n",
       "      <th>tipoprocedimento</th>\n",
       "      <th>objectoContrato</th>\n",
       "      <th>adjudicantes</th>\n",
       "      <th>adjudicatarios</th>\n",
       "      <th>dataPublicacao</th>\n",
       "      <th>dataCelebracaoContrato</th>\n",
       "      <th>precoContratual</th>\n",
       "      <th>cpv</th>\n",
       "      <th>prazoExecucao</th>\n",
       "      <th>localExecucao</th>\n",
       "      <th>fundamentacao</th>\n",
       "    </tr>\n",
       "  </thead>\n",
       "  <tbody>\n",
       "    <tr>\n",
       "      <th>0</th>\n",
       "      <td>1541104</td>\n",
       "      <td>1242/2010</td>\n",
       "      <td>Empreitadas de obras públicas</td>\n",
       "      <td>Concurso limitado por prévia qualificação</td>\n",
       "      <td>Empreitada de Projecto, Construção e Exploraçã...</td>\n",
       "      <td>506598160 - Águas do Mondego - Sistema Mult. d...</td>\n",
       "      <td>500738793 - JOSÉ MARQUES GRÁCIO SA. | 50115734...</td>\n",
       "      <td>2015-09-04</td>\n",
       "      <td>2014-05-07</td>\n",
       "      <td>1639025.08</td>\n",
       "      <td>45252127-4 - Construção de estação de tratamen...</td>\n",
       "      <td>690</td>\n",
       "      <td>Portugal, Coimbra, Coimbra | Portugal, Coimbra...</td>\n",
       "      <td>Artigo 31.º, n.º 1 do Código dos Contratos Púb...</td>\n",
       "    </tr>\n",
       "    <tr>\n",
       "      <th>1</th>\n",
       "      <td>1541123</td>\n",
       "      <td>1342/2010</td>\n",
       "      <td>Empreitadas de obras públicas</td>\n",
       "      <td>Concurso limitado por prévia qualificação</td>\n",
       "      <td>Empreitada de Projecto, Construção e Exploraçã...</td>\n",
       "      <td>506598160 - Águas do Mondego - Sistema Mult. d...</td>\n",
       "      <td>500023875 - Casais - Engenharia e Construções,...</td>\n",
       "      <td>2015-09-04</td>\n",
       "      <td>2014-05-12</td>\n",
       "      <td>2943077.15</td>\n",
       "      <td>45252127-4 - Construção de estação de tratamen...</td>\n",
       "      <td>690</td>\n",
       "      <td>Portugal, Coimbra, Arganil</td>\n",
       "      <td>Artigo 31.º, n.º 1 do Código dos Contratos Púb...</td>\n",
       "    </tr>\n",
       "    <tr>\n",
       "      <th>2</th>\n",
       "      <td>1320689</td>\n",
       "      <td>2407/2010</td>\n",
       "      <td>Aquisição de serviços</td>\n",
       "      <td>Concurso público</td>\n",
       "      <td>Recolha, Transporte e Deposição de resíduos do...</td>\n",
       "      <td>503455539 - Sanest - Saneamento da Costa Estor...</td>\n",
       "      <td>500512884 - EGEO - TECNOLOGIA E AMBIENTE, SA.</td>\n",
       "      <td>2014-12-09</td>\n",
       "      <td>2014-06-30</td>\n",
       "      <td>525004.90</td>\n",
       "      <td>90512000-9 - Serviços de transporte de resíduos</td>\n",
       "      <td>1095</td>\n",
       "      <td>Portugal, Lisboa, Cascais | Portugal, Lisboa, ...</td>\n",
       "      <td>Artigo 20.º, n.º 1, alínea b) do Código dos Co...</td>\n",
       "    </tr>\n",
       "    <tr>\n",
       "      <th>3</th>\n",
       "      <td>1157167</td>\n",
       "      <td>3350/2010</td>\n",
       "      <td>Empreitadas de obras públicas</td>\n",
       "      <td>Concurso público</td>\n",
       "      <td>O contrato tem por objecto a construção da Est...</td>\n",
       "      <td>505176300 - Águas do Algarve, S.A.</td>\n",
       "      <td>500091366 - Eduardo Pinto Contreiras &amp;amp; Fil...</td>\n",
       "      <td>2014-08-22</td>\n",
       "      <td>2014-07-29</td>\n",
       "      <td>1806005.15</td>\n",
       "      <td>45232423-3 - Construção de estações de bombage...</td>\n",
       "      <td>300</td>\n",
       "      <td>Portugal, Faro, Albufeira</td>\n",
       "      <td>Artigo 19.º, alínea b) do Código dos Contratos...</td>\n",
       "    </tr>\n",
       "    <tr>\n",
       "      <th>4</th>\n",
       "      <td>1229022</td>\n",
       "      <td>3494/2010</td>\n",
       "      <td>Empreitadas de obras públicas</td>\n",
       "      <td>Concurso público</td>\n",
       "      <td>Empreitada para Reabilitação da Célula de Lama...</td>\n",
       "      <td>508608015 - Administração da Região Hidrográfi...</td>\n",
       "      <td>500285608 - TOMÁS DE OLIVEIRA, EMPREITEIROS, S...</td>\n",
       "      <td>2014-09-15</td>\n",
       "      <td>2014-04-15</td>\n",
       "      <td>3844399.53</td>\n",
       "      <td>45232422-6 - Estação de tratamento de lamas</td>\n",
       "      <td>610</td>\n",
       "      <td>Portugal, Santarém, Alcanena</td>\n",
       "      <td>Artigo 19.º, alínea b) do Código dos Contratos...</td>\n",
       "    </tr>\n",
       "  </tbody>\n",
       "</table>\n",
       "</div>"
      ],
      "text/plain": [
       "   idcontrato   nAnuncio                   tipoContrato  \\\n",
       "0     1541104  1242/2010  Empreitadas de obras públicas   \n",
       "1     1541123  1342/2010  Empreitadas de obras públicas   \n",
       "2     1320689  2407/2010          Aquisição de serviços   \n",
       "3     1157167  3350/2010  Empreitadas de obras públicas   \n",
       "4     1229022  3494/2010  Empreitadas de obras públicas   \n",
       "\n",
       "                            tipoprocedimento  \\\n",
       "0  Concurso limitado por prévia qualificação   \n",
       "1  Concurso limitado por prévia qualificação   \n",
       "2                           Concurso público   \n",
       "3                           Concurso público   \n",
       "4                           Concurso público   \n",
       "\n",
       "                                     objectoContrato  \\\n",
       "0  Empreitada de Projecto, Construção e Exploraçã...   \n",
       "1  Empreitada de Projecto, Construção e Exploraçã...   \n",
       "2  Recolha, Transporte e Deposição de resíduos do...   \n",
       "3  O contrato tem por objecto a construção da Est...   \n",
       "4  Empreitada para Reabilitação da Célula de Lama...   \n",
       "\n",
       "                                        adjudicantes  \\\n",
       "0  506598160 - Águas do Mondego - Sistema Mult. d...   \n",
       "1  506598160 - Águas do Mondego - Sistema Mult. d...   \n",
       "2  503455539 - Sanest - Saneamento da Costa Estor...   \n",
       "3                 505176300 - Águas do Algarve, S.A.   \n",
       "4  508608015 - Administração da Região Hidrográfi...   \n",
       "\n",
       "                                      adjudicatarios dataPublicacao  \\\n",
       "0  500738793 - JOSÉ MARQUES GRÁCIO SA. | 50115734...     2015-09-04   \n",
       "1  500023875 - Casais - Engenharia e Construções,...     2015-09-04   \n",
       "2      500512884 - EGEO - TECNOLOGIA E AMBIENTE, SA.     2014-12-09   \n",
       "3  500091366 - Eduardo Pinto Contreiras &amp; Fil...     2014-08-22   \n",
       "4  500285608 - TOMÁS DE OLIVEIRA, EMPREITEIROS, S...     2014-09-15   \n",
       "\n",
       "  dataCelebracaoContrato  precoContratual  \\\n",
       "0             2014-05-07       1639025.08   \n",
       "1             2014-05-12       2943077.15   \n",
       "2             2014-06-30        525004.90   \n",
       "3             2014-07-29       1806005.15   \n",
       "4             2014-04-15       3844399.53   \n",
       "\n",
       "                                                 cpv  prazoExecucao  \\\n",
       "0  45252127-4 - Construção de estação de tratamen...            690   \n",
       "1  45252127-4 - Construção de estação de tratamen...            690   \n",
       "2    90512000-9 - Serviços de transporte de resíduos           1095   \n",
       "3  45232423-3 - Construção de estações de bombage...            300   \n",
       "4        45232422-6 - Estação de tratamento de lamas            610   \n",
       "\n",
       "                                       localExecucao  \\\n",
       "0  Portugal, Coimbra, Coimbra | Portugal, Coimbra...   \n",
       "1                         Portugal, Coimbra, Arganil   \n",
       "2  Portugal, Lisboa, Cascais | Portugal, Lisboa, ...   \n",
       "3                          Portugal, Faro, Albufeira   \n",
       "4                       Portugal, Santarém, Alcanena   \n",
       "\n",
       "                                       fundamentacao  \n",
       "0  Artigo 31.º, n.º 1 do Código dos Contratos Púb...  \n",
       "1  Artigo 31.º, n.º 1 do Código dos Contratos Púb...  \n",
       "2  Artigo 20.º, n.º 1, alínea b) do Código dos Co...  \n",
       "3  Artigo 19.º, alínea b) do Código dos Contratos...  \n",
       "4  Artigo 19.º, alínea b) do Código dos Contratos...  "
      ]
     },
     "execution_count": 8,
     "metadata": {},
     "output_type": "execute_result"
    }
   ],
   "source": [
    "data.head()"
   ]
  },
  {
   "cell_type": "code",
   "execution_count": 9,
   "metadata": {},
   "outputs": [],
   "source": [
    "# fazer uma cópia para nao mexer nos originais\n",
    "df_copy = data.copy()"
   ]
  },
  {
   "cell_type": "code",
   "execution_count": 10,
   "metadata": {},
   "outputs": [
    {
     "data": {
      "text/html": [
       "<div>\n",
       "<style scoped>\n",
       "    .dataframe tbody tr th:only-of-type {\n",
       "        vertical-align: middle;\n",
       "    }\n",
       "\n",
       "    .dataframe tbody tr th {\n",
       "        vertical-align: top;\n",
       "    }\n",
       "\n",
       "    .dataframe thead th {\n",
       "        text-align: right;\n",
       "    }\n",
       "</style>\n",
       "<table border=\"1\" class=\"dataframe\">\n",
       "  <thead>\n",
       "    <tr style=\"text-align: right;\">\n",
       "      <th></th>\n",
       "      <th>idcontrato</th>\n",
       "      <th>nAnuncio</th>\n",
       "      <th>tipoContrato</th>\n",
       "      <th>tipoprocedimento</th>\n",
       "      <th>objectoContrato</th>\n",
       "      <th>adjudicantes</th>\n",
       "      <th>adjudicatarios</th>\n",
       "      <th>dataPublicacao</th>\n",
       "      <th>dataCelebracaoContrato</th>\n",
       "      <th>precoContratual</th>\n",
       "      <th>cpv</th>\n",
       "      <th>prazoExecucao</th>\n",
       "      <th>localExecucao</th>\n",
       "    </tr>\n",
       "  </thead>\n",
       "  <tbody>\n",
       "    <tr>\n",
       "      <th>0</th>\n",
       "      <td>1541104</td>\n",
       "      <td>1242/2010</td>\n",
       "      <td>Empreitadas de obras públicas</td>\n",
       "      <td>Concurso limitado por prévia qualificação</td>\n",
       "      <td>Empreitada de Projecto, Construção e Exploraçã...</td>\n",
       "      <td>506598160 - Águas do Mondego - Sistema Mult. d...</td>\n",
       "      <td>500738793 - JOSÉ MARQUES GRÁCIO SA. | 50115734...</td>\n",
       "      <td>2015-09-04</td>\n",
       "      <td>2014-05-07</td>\n",
       "      <td>1639025.08</td>\n",
       "      <td>45252127-4 - Construção de estação de tratamen...</td>\n",
       "      <td>690</td>\n",
       "      <td>Portugal, Coimbra, Coimbra | Portugal, Coimbra...</td>\n",
       "    </tr>\n",
       "    <tr>\n",
       "      <th>1</th>\n",
       "      <td>1541123</td>\n",
       "      <td>1342/2010</td>\n",
       "      <td>Empreitadas de obras públicas</td>\n",
       "      <td>Concurso limitado por prévia qualificação</td>\n",
       "      <td>Empreitada de Projecto, Construção e Exploraçã...</td>\n",
       "      <td>506598160 - Águas do Mondego - Sistema Mult. d...</td>\n",
       "      <td>500023875 - Casais - Engenharia e Construções,...</td>\n",
       "      <td>2015-09-04</td>\n",
       "      <td>2014-05-12</td>\n",
       "      <td>2943077.15</td>\n",
       "      <td>45252127-4 - Construção de estação de tratamen...</td>\n",
       "      <td>690</td>\n",
       "      <td>Portugal, Coimbra, Arganil</td>\n",
       "    </tr>\n",
       "    <tr>\n",
       "      <th>2</th>\n",
       "      <td>1320689</td>\n",
       "      <td>2407/2010</td>\n",
       "      <td>Aquisição de serviços</td>\n",
       "      <td>Concurso público</td>\n",
       "      <td>Recolha, Transporte e Deposição de resíduos do...</td>\n",
       "      <td>503455539 - Sanest - Saneamento da Costa Estor...</td>\n",
       "      <td>500512884 - EGEO - TECNOLOGIA E AMBIENTE, SA.</td>\n",
       "      <td>2014-12-09</td>\n",
       "      <td>2014-06-30</td>\n",
       "      <td>525004.90</td>\n",
       "      <td>90512000-9 - Serviços de transporte de resíduos</td>\n",
       "      <td>1095</td>\n",
       "      <td>Portugal, Lisboa, Cascais | Portugal, Lisboa, ...</td>\n",
       "    </tr>\n",
       "    <tr>\n",
       "      <th>3</th>\n",
       "      <td>1157167</td>\n",
       "      <td>3350/2010</td>\n",
       "      <td>Empreitadas de obras públicas</td>\n",
       "      <td>Concurso público</td>\n",
       "      <td>O contrato tem por objecto a construção da Est...</td>\n",
       "      <td>505176300 - Águas do Algarve, S.A.</td>\n",
       "      <td>500091366 - Eduardo Pinto Contreiras &amp;amp; Fil...</td>\n",
       "      <td>2014-08-22</td>\n",
       "      <td>2014-07-29</td>\n",
       "      <td>1806005.15</td>\n",
       "      <td>45232423-3 - Construção de estações de bombage...</td>\n",
       "      <td>300</td>\n",
       "      <td>Portugal, Faro, Albufeira</td>\n",
       "    </tr>\n",
       "    <tr>\n",
       "      <th>4</th>\n",
       "      <td>1229022</td>\n",
       "      <td>3494/2010</td>\n",
       "      <td>Empreitadas de obras públicas</td>\n",
       "      <td>Concurso público</td>\n",
       "      <td>Empreitada para Reabilitação da Célula de Lama...</td>\n",
       "      <td>508608015 - Administração da Região Hidrográfi...</td>\n",
       "      <td>500285608 - TOMÁS DE OLIVEIRA, EMPREITEIROS, S...</td>\n",
       "      <td>2014-09-15</td>\n",
       "      <td>2014-04-15</td>\n",
       "      <td>3844399.53</td>\n",
       "      <td>45232422-6 - Estação de tratamento de lamas</td>\n",
       "      <td>610</td>\n",
       "      <td>Portugal, Santarém, Alcanena</td>\n",
       "    </tr>\n",
       "  </tbody>\n",
       "</table>\n",
       "</div>"
      ],
      "text/plain": [
       "   idcontrato   nAnuncio                   tipoContrato  \\\n",
       "0     1541104  1242/2010  Empreitadas de obras públicas   \n",
       "1     1541123  1342/2010  Empreitadas de obras públicas   \n",
       "2     1320689  2407/2010          Aquisição de serviços   \n",
       "3     1157167  3350/2010  Empreitadas de obras públicas   \n",
       "4     1229022  3494/2010  Empreitadas de obras públicas   \n",
       "\n",
       "                            tipoprocedimento  \\\n",
       "0  Concurso limitado por prévia qualificação   \n",
       "1  Concurso limitado por prévia qualificação   \n",
       "2                           Concurso público   \n",
       "3                           Concurso público   \n",
       "4                           Concurso público   \n",
       "\n",
       "                                     objectoContrato  \\\n",
       "0  Empreitada de Projecto, Construção e Exploraçã...   \n",
       "1  Empreitada de Projecto, Construção e Exploraçã...   \n",
       "2  Recolha, Transporte e Deposição de resíduos do...   \n",
       "3  O contrato tem por objecto a construção da Est...   \n",
       "4  Empreitada para Reabilitação da Célula de Lama...   \n",
       "\n",
       "                                        adjudicantes  \\\n",
       "0  506598160 - Águas do Mondego - Sistema Mult. d...   \n",
       "1  506598160 - Águas do Mondego - Sistema Mult. d...   \n",
       "2  503455539 - Sanest - Saneamento da Costa Estor...   \n",
       "3                 505176300 - Águas do Algarve, S.A.   \n",
       "4  508608015 - Administração da Região Hidrográfi...   \n",
       "\n",
       "                                      adjudicatarios dataPublicacao  \\\n",
       "0  500738793 - JOSÉ MARQUES GRÁCIO SA. | 50115734...     2015-09-04   \n",
       "1  500023875 - Casais - Engenharia e Construções,...     2015-09-04   \n",
       "2      500512884 - EGEO - TECNOLOGIA E AMBIENTE, SA.     2014-12-09   \n",
       "3  500091366 - Eduardo Pinto Contreiras &amp; Fil...     2014-08-22   \n",
       "4  500285608 - TOMÁS DE OLIVEIRA, EMPREITEIROS, S...     2014-09-15   \n",
       "\n",
       "  dataCelebracaoContrato  precoContratual  \\\n",
       "0             2014-05-07       1639025.08   \n",
       "1             2014-05-12       2943077.15   \n",
       "2             2014-06-30        525004.90   \n",
       "3             2014-07-29       1806005.15   \n",
       "4             2014-04-15       3844399.53   \n",
       "\n",
       "                                                 cpv  prazoExecucao  \\\n",
       "0  45252127-4 - Construção de estação de tratamen...            690   \n",
       "1  45252127-4 - Construção de estação de tratamen...            690   \n",
       "2    90512000-9 - Serviços de transporte de resíduos           1095   \n",
       "3  45232423-3 - Construção de estações de bombage...            300   \n",
       "4        45232422-6 - Estação de tratamento de lamas            610   \n",
       "\n",
       "                                       localExecucao  \n",
       "0  Portugal, Coimbra, Coimbra | Portugal, Coimbra...  \n",
       "1                         Portugal, Coimbra, Arganil  \n",
       "2  Portugal, Lisboa, Cascais | Portugal, Lisboa, ...  \n",
       "3                          Portugal, Faro, Albufeira  \n",
       "4                       Portugal, Santarém, Alcanena  "
      ]
     },
     "execution_count": 10,
     "metadata": {},
     "output_type": "execute_result"
    }
   ],
   "source": [
    "df_copy.reset_index(inplace = True)\n",
    "df_copy.drop(columns = ['index', 'fundamentacao'], inplace = True)\n",
    "df_copy.head()"
   ]
  },
  {
   "cell_type": "markdown",
   "metadata": {},
   "source": [
    "<b>[Step 2. | 0.5 points ]</b> Perform some quick inspection of the data file in order to answer the following questions:\n",
    "1. How many records does the dataset include?"
   ]
  },
  {
   "cell_type": "code",
   "execution_count": 11,
   "metadata": {},
   "outputs": [
    {
     "data": {
      "text/plain": [
       "250092"
      ]
     },
     "execution_count": 11,
     "metadata": {},
     "output_type": "execute_result"
    }
   ],
   "source": [
    "df_copy.shape[0]"
   ]
  },
  {
   "cell_type": "markdown",
   "metadata": {},
   "source": [
    "2. What are the fields names?"
   ]
  },
  {
   "cell_type": "code",
   "execution_count": 12,
   "metadata": {
    "scrolled": true
   },
   "outputs": [
    {
     "data": {
      "text/plain": [
       "Index(['idcontrato', 'nAnuncio', 'tipoContrato', 'tipoprocedimento',\n",
       "       'objectoContrato', 'adjudicantes', 'adjudicatarios', 'dataPublicacao',\n",
       "       'dataCelebracaoContrato', 'precoContratual', 'cpv', 'prazoExecucao',\n",
       "       'localExecucao'],\n",
       "      dtype='object')"
      ]
     },
     "execution_count": 12,
     "metadata": {},
     "output_type": "execute_result"
    }
   ],
   "source": [
    "df_copy.columns"
   ]
  },
  {
   "cell_type": "markdown",
   "metadata": {},
   "source": [
    "3. What are the datatypes of each field?"
   ]
  },
  {
   "cell_type": "code",
   "execution_count": 13,
   "metadata": {},
   "outputs": [
    {
     "name": "stdout",
     "output_type": "stream",
     "text": [
      "<class 'pandas.core.frame.DataFrame'>\n",
      "RangeIndex: 250092 entries, 0 to 250091\n",
      "Data columns (total 13 columns):\n",
      " #   Column                  Non-Null Count   Dtype         \n",
      "---  ------                  --------------   -----         \n",
      " 0   idcontrato              250092 non-null  int64         \n",
      " 1   nAnuncio                16740 non-null   object        \n",
      " 2   tipoContrato            250092 non-null  object        \n",
      " 3   tipoprocedimento        250092 non-null  object        \n",
      " 4   objectoContrato         250075 non-null  object        \n",
      " 5   adjudicantes            250092 non-null  object        \n",
      " 6   adjudicatarios          250085 non-null  object        \n",
      " 7   dataPublicacao          250092 non-null  datetime64[ns]\n",
      " 8   dataCelebracaoContrato  250092 non-null  datetime64[ns]\n",
      " 9   precoContratual         250092 non-null  float64       \n",
      " 10  cpv                     250035 non-null  object        \n",
      " 11  prazoExecucao           250092 non-null  int64         \n",
      " 12  localExecucao           250092 non-null  object        \n",
      "dtypes: datetime64[ns](2), float64(1), int64(2), object(8)\n",
      "memory usage: 24.8+ MB\n"
     ]
    }
   ],
   "source": [
    "df_copy.info()"
   ]
  },
  {
   "cell_type": "markdown",
   "metadata": {},
   "source": [
    "<b>[Step 3. | 3 points ]</b> As you have probably noticed our raw data is not exactly the cleanest dataset in the block. Indeed, we will need to perform some parsing in order to obtain a good working data. In that sense, write the necessary code to perform the following steps: <br>\n",
    "1. Break the field <i>cpv</i> into two columns named <i>cpvDOC</i> and <i>CPV</i>.<br>\n",
    "   The field <i>cpvDOC</i> should retain the CPV id, while the <i>CPV</i> its Description <br>\n",
    "   For instance, a record with value \"72416000-9, Fornecedores de aplicações\" should lead to a <i>cpvDOC</i> equal to \"72416000-9\" and a <i>CPV</i> equal to \"Fornecedores de aplicações\" <br>\n",
    "   \n",
    "   \n",
    "Use the head command to display the top 10 rows of these new columns (and only these new columns)."
   ]
  },
  {
   "cell_type": "code",
   "execution_count": 14,
   "metadata": {},
   "outputs": [],
   "source": [
    "# function to split the variables with multiple records\n",
    "def str_split(x):\n",
    "    filter_str = []\n",
    "    for i in x:\n",
    "        if '|' in str(i):\n",
    "            filter_str.append(False)\n",
    "        else:\n",
    "            filter_str.append(True)\n",
    "    return filter_str"
   ]
  },
  {
   "cell_type": "code",
   "execution_count": 15,
   "metadata": {},
   "outputs": [],
   "source": [
    "filter_cpv = str_split(df_copy['cpv'])"
   ]
  },
  {
   "cell_type": "code",
   "execution_count": 16,
   "metadata": {},
   "outputs": [
    {
     "data": {
      "text/plain": [
       "3350"
      ]
     },
     "execution_count": 16,
     "metadata": {},
     "output_type": "execute_result"
    }
   ],
   "source": [
    "filter_cpv.count(False)"
   ]
  },
  {
   "cell_type": "code",
   "execution_count": null,
   "metadata": {},
   "outputs": [],
   "source": [
    "# existem 3350 contratos com mais de um cpv"
   ]
  },
  {
   "cell_type": "code",
   "execution_count": 17,
   "metadata": {},
   "outputs": [],
   "source": [
    "# vou remover estas linhas\n",
    "df_copy = df_copy.loc[filter_cpv]"
   ]
  },
  {
   "cell_type": "code",
   "execution_count": 18,
   "metadata": {},
   "outputs": [
    {
     "name": "stdout",
     "output_type": "stream",
     "text": [
      "We dropped 1.34 % of the procurements in our original data\n"
     ]
    }
   ],
   "source": [
    "print(f'We dropped {round(100-(len(df_copy)/len(data))*100,2)} % of the procurements in our original data')"
   ]
  },
  {
   "cell_type": "code",
   "execution_count": 19,
   "metadata": {},
   "outputs": [],
   "source": [
    "# compute new columns\n",
    "df_copy['cpvDOC'] = df_copy['cpv'].map(lambda x: str(x)[0:10])\n",
    "df_copy['CPV'] = df_copy['cpv'].map(lambda x: str(x)[13:])\n",
    "df_copy.drop('cpv', axis=1, inplace=True)"
   ]
  },
  {
   "cell_type": "code",
   "execution_count": 20,
   "metadata": {},
   "outputs": [
    {
     "data": {
      "text/html": [
       "<div>\n",
       "<style scoped>\n",
       "    .dataframe tbody tr th:only-of-type {\n",
       "        vertical-align: middle;\n",
       "    }\n",
       "\n",
       "    .dataframe tbody tr th {\n",
       "        vertical-align: top;\n",
       "    }\n",
       "\n",
       "    .dataframe thead th {\n",
       "        text-align: right;\n",
       "    }\n",
       "</style>\n",
       "<table border=\"1\" class=\"dataframe\">\n",
       "  <thead>\n",
       "    <tr style=\"text-align: right;\">\n",
       "      <th></th>\n",
       "      <th>cpvDOC</th>\n",
       "      <th>CPV</th>\n",
       "    </tr>\n",
       "  </thead>\n",
       "  <tbody>\n",
       "    <tr>\n",
       "      <th>0</th>\n",
       "      <td>45252127-4</td>\n",
       "      <td>Construção de estação de tratamento de águas r...</td>\n",
       "    </tr>\n",
       "    <tr>\n",
       "      <th>1</th>\n",
       "      <td>45252127-4</td>\n",
       "      <td>Construção de estação de tratamento de águas r...</td>\n",
       "    </tr>\n",
       "    <tr>\n",
       "      <th>2</th>\n",
       "      <td>90512000-9</td>\n",
       "      <td>Serviços de transporte de resíduos</td>\n",
       "    </tr>\n",
       "    <tr>\n",
       "      <th>3</th>\n",
       "      <td>45232423-3</td>\n",
       "      <td>Construção de estações de bombagem de águas re...</td>\n",
       "    </tr>\n",
       "    <tr>\n",
       "      <th>4</th>\n",
       "      <td>45232422-6</td>\n",
       "      <td>Estação de tratamento de lamas</td>\n",
       "    </tr>\n",
       "    <tr>\n",
       "      <th>5</th>\n",
       "      <td>50411000-9</td>\n",
       "      <td>Serviços de reparação e manutenção de aparelho...</td>\n",
       "    </tr>\n",
       "    <tr>\n",
       "      <th>6</th>\n",
       "      <td>45232460-4</td>\n",
       "      <td>Obras de saneamento</td>\n",
       "    </tr>\n",
       "    <tr>\n",
       "      <th>7</th>\n",
       "      <td>45200000-9</td>\n",
       "      <td>Obras de construção total ou parcial e de enge...</td>\n",
       "    </tr>\n",
       "    <tr>\n",
       "      <th>8</th>\n",
       "      <td>50000000-5</td>\n",
       "      <td>Serviços de reparação e manutenção</td>\n",
       "    </tr>\n",
       "    <tr>\n",
       "      <th>9</th>\n",
       "      <td>71314100-3</td>\n",
       "      <td>Serviços de electricidade</td>\n",
       "    </tr>\n",
       "  </tbody>\n",
       "</table>\n",
       "</div>"
      ],
      "text/plain": [
       "       cpvDOC                                                CPV\n",
       "0  45252127-4  Construção de estação de tratamento de águas r...\n",
       "1  45252127-4  Construção de estação de tratamento de águas r...\n",
       "2  90512000-9                 Serviços de transporte de resíduos\n",
       "3  45232423-3  Construção de estações de bombagem de águas re...\n",
       "4  45232422-6                     Estação de tratamento de lamas\n",
       "5  50411000-9  Serviços de reparação e manutenção de aparelho...\n",
       "6  45232460-4                                Obras de saneamento\n",
       "7  45200000-9  Obras de construção total ou parcial e de enge...\n",
       "8  50000000-5                 Serviços de reparação e manutenção\n",
       "9  71314100-3                          Serviços de electricidade"
      ]
     },
     "execution_count": 20,
     "metadata": {},
     "output_type": "execute_result"
    }
   ],
   "source": [
    "# display top ten rows and the new calculated columns\n",
    "df_copy.head(10).loc[:,['cpvDOC','CPV']]"
   ]
  },
  {
   "cell_type": "markdown",
   "metadata": {},
   "source": [
    "2. Convert any fields with dates to datetime objects. Show the datatypes of all fields after your conversion.<br>\n",
    "**Tip:** You might want to check the link https://pandas.pydata.org/docs/reference/api/pandas.to_datetime.html for some tips regarding datetime conversion \n",
    "\n"
   ]
  },
  {
   "cell_type": "code",
   "execution_count": 21,
   "metadata": {},
   "outputs": [],
   "source": [
    "# read excel already read the datetime variables correctly so this step is redundant\n",
    "df_copy['dataPublicacao'] = pd.to_datetime(df_copy['dataPublicacao'], format='%Y%m%d')\n",
    "df_copy['dataCelebracaoContrato'] = pd.to_datetime(df_copy['dataCelebracaoContrato'], format='%Y%m%d')"
   ]
  },
  {
   "cell_type": "markdown",
   "metadata": {},
   "source": [
    "3. In the fields <i>adjudicantes</i> (issuers) and <i>adjudicatários</i> (suppliers) you should have noticed that it includes both the name and the fiscal numbers (NIF) of the participating institutions.<br>\n",
    "   For each of those two fields, split each record into two new fields. <br>\n",
    "   <i>Entidade adjudicante - Nome, NIF</i> split into <i>issuerNIF</i> and <i>issuerName</i>.<br>\n",
    "   <i>Entidade adjudicatária - Nome, NIF</i> split into <i>supplierNIF</i> and <i>supplierName</i>.<br>\n",
    "   \n",
    "   \n",
    "   You will find that in some cases there are multiple entities in those fields, which are separated by \"|\". Explain: how have you worked around such cases? \n",
    "   \n",
    "   If you are not able to perform this, feel free to ignore/drop the records that have multiple entities in each of those fields, but report what is the percentage of procurements that you would be dropping."
   ]
  },
  {
   "cell_type": "code",
   "execution_count": 22,
   "metadata": {},
   "outputs": [],
   "source": [
    "#fiz uma cópia só para não ter de estar sempre a ir buscar o data\n",
    "data_play = df_copy.copy()"
   ]
  },
  {
   "cell_type": "code",
   "execution_count": 23,
   "metadata": {},
   "outputs": [],
   "source": [
    "filter_adj = str_split(data_play['adjudicantes'])"
   ]
  },
  {
   "cell_type": "code",
   "execution_count": 24,
   "metadata": {},
   "outputs": [],
   "source": [
    "data_play = data_play.loc[filter_adj]"
   ]
  },
  {
   "cell_type": "code",
   "execution_count": 25,
   "metadata": {},
   "outputs": [],
   "source": [
    "filter_sup = str_split(data_play['adjudicatarios'])"
   ]
  },
  {
   "cell_type": "code",
   "execution_count": 26,
   "metadata": {},
   "outputs": [],
   "source": [
    "data_play = data_play.iloc[filter_sup]"
   ]
  },
  {
   "cell_type": "code",
   "execution_count": 27,
   "metadata": {},
   "outputs": [
    {
     "name": "stdout",
     "output_type": "stream",
     "text": [
      "We dropped 2.89 % of the procurements in our original data\n"
     ]
    }
   ],
   "source": [
    "print(f'We dropped {round(100-(len(data_play)/len(data))*100,2)} % of the procurements in our original data')"
   ]
  },
  {
   "cell_type": "code",
   "execution_count": 28,
   "metadata": {},
   "outputs": [],
   "source": [
    "# split the columns in two 3 new columns\n",
    "data_play['issuerNIF'] = data_play['adjudicantes'].apply(lambda x: str(x)[:9])\n",
    "data_play['issuerName'] = data_play['adjudicantes'].apply(lambda x: str(x)[12:])\n",
    "data_play['supplierNIF'] = data_play['adjudicatarios'].apply(lambda x: str(x)[:9])\n",
    "data_play['supplierName'] = data_play['adjudicatarios'].apply(lambda x: str(x)[12:])\n",
    "\n",
    "# droping the initial ones\n",
    "data_play.drop(columns=['adjudicantes','adjudicatarios'], inplace=True)\n"
   ]
  },
  {
   "cell_type": "code",
   "execution_count": 29,
   "metadata": {},
   "outputs": [
    {
     "data": {
      "text/html": [
       "<div>\n",
       "<style scoped>\n",
       "    .dataframe tbody tr th:only-of-type {\n",
       "        vertical-align: middle;\n",
       "    }\n",
       "\n",
       "    .dataframe tbody tr th {\n",
       "        vertical-align: top;\n",
       "    }\n",
       "\n",
       "    .dataframe thead th {\n",
       "        text-align: right;\n",
       "    }\n",
       "</style>\n",
       "<table border=\"1\" class=\"dataframe\">\n",
       "  <thead>\n",
       "    <tr style=\"text-align: right;\">\n",
       "      <th></th>\n",
       "      <th>idcontrato</th>\n",
       "      <th>nAnuncio</th>\n",
       "      <th>tipoContrato</th>\n",
       "      <th>tipoprocedimento</th>\n",
       "      <th>objectoContrato</th>\n",
       "      <th>dataPublicacao</th>\n",
       "      <th>dataCelebracaoContrato</th>\n",
       "      <th>precoContratual</th>\n",
       "      <th>prazoExecucao</th>\n",
       "      <th>localExecucao</th>\n",
       "      <th>cpvDOC</th>\n",
       "      <th>CPV</th>\n",
       "      <th>issuerNIF</th>\n",
       "      <th>issuerName</th>\n",
       "      <th>supplierNIF</th>\n",
       "      <th>supplierName</th>\n",
       "    </tr>\n",
       "  </thead>\n",
       "  <tbody>\n",
       "    <tr>\n",
       "      <th>1</th>\n",
       "      <td>1541123</td>\n",
       "      <td>1342/2010</td>\n",
       "      <td>Empreitadas de obras públicas</td>\n",
       "      <td>Concurso limitado por prévia qualificação</td>\n",
       "      <td>Empreitada de Projecto, Construção e Exploraçã...</td>\n",
       "      <td>2015-09-04</td>\n",
       "      <td>2014-05-12</td>\n",
       "      <td>2943077.15</td>\n",
       "      <td>690</td>\n",
       "      <td>Portugal, Coimbra, Arganil</td>\n",
       "      <td>45252127-4</td>\n",
       "      <td>Construção de estação de tratamento de águas r...</td>\n",
       "      <td>506598160</td>\n",
       "      <td>Águas do Mondego - Sistema Mult. de Abast. Águ...</td>\n",
       "      <td>500023875</td>\n",
       "      <td>Casais - Engenharia e Construções, S.A.</td>\n",
       "    </tr>\n",
       "    <tr>\n",
       "      <th>2</th>\n",
       "      <td>1320689</td>\n",
       "      <td>2407/2010</td>\n",
       "      <td>Aquisição de serviços</td>\n",
       "      <td>Concurso público</td>\n",
       "      <td>Recolha, Transporte e Deposição de resíduos do...</td>\n",
       "      <td>2014-12-09</td>\n",
       "      <td>2014-06-30</td>\n",
       "      <td>525004.90</td>\n",
       "      <td>1095</td>\n",
       "      <td>Portugal, Lisboa, Cascais | Portugal, Lisboa, ...</td>\n",
       "      <td>90512000-9</td>\n",
       "      <td>Serviços de transporte de resíduos</td>\n",
       "      <td>503455539</td>\n",
       "      <td>Sanest - Saneamento da Costa Estoril, SA</td>\n",
       "      <td>500512884</td>\n",
       "      <td>EGEO - TECNOLOGIA E AMBIENTE, SA.</td>\n",
       "    </tr>\n",
       "    <tr>\n",
       "      <th>5</th>\n",
       "      <td>1293929</td>\n",
       "      <td>350/2010</td>\n",
       "      <td>Aquisição de serviços</td>\n",
       "      <td>Concurso público</td>\n",
       "      <td>Aquisição de serviços de Reabilitação e operac...</td>\n",
       "      <td>2014-11-07</td>\n",
       "      <td>2014-07-18</td>\n",
       "      <td>3294000.00</td>\n",
       "      <td>732</td>\n",
       "      <td>Portugal, Portugal Continental</td>\n",
       "      <td>50411000-9</td>\n",
       "      <td>Serviços de reparação e manutenção de aparelho...</td>\n",
       "      <td>503237965</td>\n",
       "      <td>Instituto da Água, I. P.</td>\n",
       "      <td>503636452</td>\n",
       "      <td>Bruno &amp;amp; Lopes - Engenheiros Civis Associad...</td>\n",
       "    </tr>\n",
       "    <tr>\n",
       "      <th>6</th>\n",
       "      <td>1260153</td>\n",
       "      <td>413/2010</td>\n",
       "      <td>Empreitadas de obras públicas</td>\n",
       "      <td>Concurso público</td>\n",
       "      <td>Rede de Drenagem de Águas Residuais Domésticas...</td>\n",
       "      <td>2014-10-02</td>\n",
       "      <td>2014-01-16</td>\n",
       "      <td>856471.75</td>\n",
       "      <td>365</td>\n",
       "      <td>Portugal, Castelo Branco, Sertã</td>\n",
       "      <td>45232460-4</td>\n",
       "      <td>Obras de saneamento</td>\n",
       "      <td>506963837</td>\n",
       "      <td>Município da Sertã</td>\n",
       "      <td>504870475</td>\n",
       "      <td>Lusosicó- Construções, S.A</td>\n",
       "    </tr>\n",
       "    <tr>\n",
       "      <th>7</th>\n",
       "      <td>1083754</td>\n",
       "      <td>4890/2010</td>\n",
       "      <td>Empreitadas de obras públicas</td>\n",
       "      <td>Concurso público</td>\n",
       "      <td>P127/2010/CPA - Remodelação do Antigo Edifício...</td>\n",
       "      <td>2014-05-30</td>\n",
       "      <td>2014-05-29</td>\n",
       "      <td>768537.31</td>\n",
       "      <td>365</td>\n",
       "      <td>Portugal, Santarém, Ourém</td>\n",
       "      <td>45200000-9</td>\n",
       "      <td>Obras de construção total ou parcial e de enge...</td>\n",
       "      <td>501280740</td>\n",
       "      <td>Município de Ourém</td>\n",
       "      <td>506378527</td>\n",
       "      <td>NORTEJUVIL, SOCIEDADE DE CONSTRUÇÕES LDA.</td>\n",
       "    </tr>\n",
       "  </tbody>\n",
       "</table>\n",
       "</div>"
      ],
      "text/plain": [
       "   idcontrato   nAnuncio                   tipoContrato  \\\n",
       "1     1541123  1342/2010  Empreitadas de obras públicas   \n",
       "2     1320689  2407/2010          Aquisição de serviços   \n",
       "5     1293929   350/2010          Aquisição de serviços   \n",
       "6     1260153   413/2010  Empreitadas de obras públicas   \n",
       "7     1083754  4890/2010  Empreitadas de obras públicas   \n",
       "\n",
       "                            tipoprocedimento  \\\n",
       "1  Concurso limitado por prévia qualificação   \n",
       "2                           Concurso público   \n",
       "5                           Concurso público   \n",
       "6                           Concurso público   \n",
       "7                           Concurso público   \n",
       "\n",
       "                                     objectoContrato dataPublicacao  \\\n",
       "1  Empreitada de Projecto, Construção e Exploraçã...     2015-09-04   \n",
       "2  Recolha, Transporte e Deposição de resíduos do...     2014-12-09   \n",
       "5  Aquisição de serviços de Reabilitação e operac...     2014-11-07   \n",
       "6  Rede de Drenagem de Águas Residuais Domésticas...     2014-10-02   \n",
       "7  P127/2010/CPA - Remodelação do Antigo Edifício...     2014-05-30   \n",
       "\n",
       "  dataCelebracaoContrato  precoContratual  prazoExecucao  \\\n",
       "1             2014-05-12       2943077.15            690   \n",
       "2             2014-06-30        525004.90           1095   \n",
       "5             2014-07-18       3294000.00            732   \n",
       "6             2014-01-16        856471.75            365   \n",
       "7             2014-05-29        768537.31            365   \n",
       "\n",
       "                                       localExecucao      cpvDOC  \\\n",
       "1                         Portugal, Coimbra, Arganil  45252127-4   \n",
       "2  Portugal, Lisboa, Cascais | Portugal, Lisboa, ...  90512000-9   \n",
       "5                     Portugal, Portugal Continental  50411000-9   \n",
       "6                    Portugal, Castelo Branco, Sertã  45232460-4   \n",
       "7                          Portugal, Santarém, Ourém  45200000-9   \n",
       "\n",
       "                                                 CPV  issuerNIF  \\\n",
       "1  Construção de estação de tratamento de águas r...  506598160   \n",
       "2                 Serviços de transporte de resíduos  503455539   \n",
       "5  Serviços de reparação e manutenção de aparelho...  503237965   \n",
       "6                                Obras de saneamento  506963837   \n",
       "7  Obras de construção total ou parcial e de enge...  501280740   \n",
       "\n",
       "                                          issuerName supplierNIF  \\\n",
       "1  Águas do Mondego - Sistema Mult. de Abast. Águ...   500023875   \n",
       "2           Sanest - Saneamento da Costa Estoril, SA   500512884   \n",
       "5                           Instituto da Água, I. P.   503636452   \n",
       "6                                 Município da Sertã   504870475   \n",
       "7                                 Município de Ourém   506378527   \n",
       "\n",
       "                                        supplierName  \n",
       "1           Casais - Engenharia e Construções, S.A.   \n",
       "2                  EGEO - TECNOLOGIA E AMBIENTE, SA.  \n",
       "5  Bruno &amp; Lopes - Engenheiros Civis Associad...  \n",
       "6                         Lusosicó- Construções, S.A  \n",
       "7          NORTEJUVIL, SOCIEDADE DE CONSTRUÇÕES LDA.  "
      ]
     },
     "execution_count": 29,
     "metadata": {},
     "output_type": "execute_result"
    }
   ],
   "source": [
    "data_play.head()"
   ]
  },
  {
   "cell_type": "markdown",
   "metadata": {},
   "source": [
    "4. Verify that the parsing was successful "
   ]
  },
  {
   "cell_type": "markdown",
   "metadata": {},
   "source": [
    "<b>[Step 4. | 5 points ]</b> Let us do some exploratory analysis of the data. The goal is to develop some familarity with the data, which we will do by answering some simple questions. Knowing which questions to ask is an important step for any successful data science project. In that sense, write down the necessary code to answer the following questions:\n",
    "\n",
    "You can report the results using a meaningful visualization (check out https://pandas.pydata.org/docs/reference/api/pandas.DataFrame.plot.html or the seaborn module)\n",
    "\n",
    "1. What is the total value (precoContratual) of procurements per month?"
   ]
  },
  {
   "cell_type": "code",
   "execution_count": 30,
   "metadata": {},
   "outputs": [],
   "source": [
    "data_play['month'] = data_play['dataCelebracaoContrato'].apply(lambda x: x.month)\n",
    "data_play['monthyear'] = data_play['dataCelebracaoContrato'].apply(lambda x: x.year*100+x.month)\n",
    "data_play['precoContratual_M'] = data_play['precoContratual']/1000000"
   ]
  },
  {
   "cell_type": "code",
   "execution_count": 31,
   "metadata": {},
   "outputs": [
    {
     "data": {
      "image/png": "[encoded data removed]",
      "text/plain": [
       "<Figure size 720x360 with 1 Axes>"
      ]
     },
     "metadata": {
      "needs_background": "light"
     },
     "output_type": "display_data"
    }
   ],
   "source": [
    "plt.figure(figsize=(10,5))\n",
    "data_play.groupby('monthyear').precoContratual_M.agg('sum').plot(kind='bar')\n",
    "plt.title('Total contract amount by month (in millions)')\n",
    "plt.show()"
   ]
  },
  {
   "cell_type": "markdown",
   "metadata": {},
   "source": [
    "2. How many procurements have been issued per **month of year**?"
   ]
  },
  {
   "cell_type": "code",
   "execution_count": 32,
   "metadata": {},
   "outputs": [
    {
     "data": {
      "image/png": "[encoded data removed]",
      "text/plain": [
       "<Figure size 504x360 with 1 Axes>"
      ]
     },
     "metadata": {
      "needs_background": "light"
     },
     "output_type": "display_data"
    }
   ],
   "source": [
    "plt.figure(figsize=(7,5))\n",
    "data_play['month'].value_counts().sort_index().plot(kind='bar')\n",
    "plt.title('Total number of contracts by month year')\n",
    "plt.show()"
   ]
  },
  {
   "cell_type": "markdown",
   "metadata": {},
   "source": [
    "3. What is the distribution of values? In other words, what is the proportion of procurements that have value X?  \n",
    "Can you build a visualization and highlight what you found more interesting and discuss it? \n",
    "\n",
    "**Note:** Consider working with the Logarithm base 10 of values; Consider use predefined bin in the X values."
   ]
  },
  {
   "cell_type": "code",
   "execution_count": 33,
   "metadata": {},
   "outputs": [
    {
     "data": {
      "image/png": "[encoded data removed]",
      "text/plain": [
       "<Figure size 360x360 with 1 Axes>"
      ]
     },
     "metadata": {
      "needs_background": "light"
     },
     "output_type": "display_data"
    }
   ],
   "source": [
    "#because we have contract with value 0 and log of 0 is indetermined I will add 1 euro to each contract\n",
    "data_play['logprecoContratual'] = data_play['precoContratual'].apply(lambda x: np.log10(x+1))\n",
    "sns.displot(data=data_play, x='logprecoContratual', bins = 100)\n",
    "plt.show()"
   ]
  },
  {
   "cell_type": "markdown",
   "metadata": {},
   "source": [
    "4. In the dataset, how many issuing Institutions are there? And how many suppliers?"
   ]
  },
  {
   "cell_type": "code",
   "execution_count": 34,
   "metadata": {},
   "outputs": [
    {
     "name": "stdout",
     "output_type": "stream",
     "text": [
      "There are 5703 issuing Institutions in the dataset\n",
      "There are 42662 suppleirs in the dataset\n"
     ]
    }
   ],
   "source": [
    "print(f'There are {len(data_play.issuerNIF.unique())} issuing Institutions in the dataset')\n",
    "print(f'There are {len(data_play.supplierNIF.unique())} suppleirs in the dataset')"
   ]
  },
  {
   "cell_type": "markdown",
   "metadata": {},
   "source": [
    "5. What services has ISEGI-Inst Superior de Estatistica e Gestão de Informação da UNL (NIF: 502322152) supplied? And who are the top three issuers/beneficiaries of such services?"
   ]
  },
  {
   "cell_type": "code",
   "execution_count": 35,
   "metadata": {},
   "outputs": [
    {
     "name": "stdout",
     "output_type": "stream",
     "text": [
      "['Serviços de TI: consultoria, desenvolvimento de software, Internet e apoio'\n",
      " 'Serviços de ensino e formação' 'Serviços de avaliação dos resultados'\n",
      " 'Serviços de sondagens de opinião' 'Serviços de estudos de mercado'\n",
      " 'Serviços de desenvolvimento de software para sectores específicos']\n"
     ]
    }
   ],
   "source": [
    "# services of ISEGI\n",
    "isegi_serv = data_play.loc[data_play['supplierNIF']=='502322152', 'CPV'].unique()\n",
    "print(isegi_serv)"
   ]
  },
  {
   "cell_type": "code",
   "execution_count": 36,
   "metadata": {},
   "outputs": [
    {
     "data": {
      "text/plain": [
       "issuerNIF\n",
       "509906478    607\n",
       "501886354    563\n",
       "502017368    141\n",
       "Name: CPV, dtype: int64"
      ]
     },
     "execution_count": 36,
     "metadata": {},
     "output_type": "execute_result"
    }
   ],
   "source": [
    "# NIF of top three issuers of these services\n",
    "data_play.loc[data_play['CPV'].isin(isegi_serv)].groupby('issuerNIF').CPV.agg('count').sort_values(ascending=False)[:3]"
   ]
  },
  {
   "cell_type": "code",
   "execution_count": 37,
   "metadata": {},
   "outputs": [
    {
     "data": {
      "text/plain": [
       "supplierNIF\n",
       "506176142    85\n",
       "504857312    56\n",
       "505141019    46\n",
       "Name: CPV, dtype: int64"
      ]
     },
     "execution_count": 37,
     "metadata": {},
     "output_type": "execute_result"
    }
   ],
   "source": [
    "# NIF of top three beneficiaries of these services\n",
    "data_play.loc[data_play['CPV'].isin(isegi_serv)].groupby('supplierNIF').CPV.agg('count').sort_values(ascending=False)[:3]"
   ]
  },
  {
   "cell_type": "code",
   "execution_count": 38,
   "metadata": {},
   "outputs": [],
   "source": [
    "filt_top_iss = list(data_play.loc[data_play['CPV'].isin(isegi_serv)].groupby('issuerNIF').CPV.agg('count').sort_values(ascending=False)[:3].index)\n",
    "filt_top_sup = list(data_play.loc[data_play['CPV'].isin(isegi_serv)].groupby('supplierNIF').CPV.agg('count').sort_values(ascending=False)[:3].index)"
   ]
  },
  {
   "cell_type": "code",
   "execution_count": 39,
   "metadata": {},
   "outputs": [
    {
     "data": {
      "text/plain": [
       "['509906478', '501886354', '502017368']"
      ]
     },
     "execution_count": 39,
     "metadata": {},
     "output_type": "execute_result"
    }
   ],
   "source": [
    "#top three issuers\n",
    "filt_top_iss"
   ]
  },
  {
   "cell_type": "code",
   "execution_count": 40,
   "metadata": {},
   "outputs": [
    {
     "data": {
      "text/plain": [
       "['506176142', '504857312', '505141019']"
      ]
     },
     "execution_count": 40,
     "metadata": {},
     "output_type": "execute_result"
    }
   ],
   "source": [
    "#top three suppliers\n",
    "filt_top_sup"
   ]
  },
  {
   "cell_type": "markdown",
   "metadata": {},
   "source": [
    "6. What are the top five services (CPV) contracted by Hospital de Santa Maria Maior (NIF: 506361381)?"
   ]
  },
  {
   "cell_type": "code",
   "execution_count": 41,
   "metadata": {},
   "outputs": [
    {
     "data": {
      "text/plain": [
       "CPV\n",
       "Medicamentos usados na terapêutica endócrina                   21\n",
       "Medicamentos vários                                            21\n",
       "Vestuário profissional                                         12\n",
       "Medicamentos para o sangue e para os órgãos hematopoiéticos    10\n",
       "Reagentes de laboratório                                        8\n",
       "Name: CPV, dtype: int64"
      ]
     },
     "execution_count": 41,
     "metadata": {},
     "output_type": "execute_result"
    }
   ],
   "source": [
    "data_play.loc[data_play['issuerNIF'].eq('506361381')].groupby('CPV').CPV.agg('count').sort_values(ascending=False)[:5]"
   ]
  },
  {
   "cell_type": "markdown",
   "metadata": {},
   "source": [
    "7. What services (CPV) has Novo Banco, S.A. (NIF: 513204016) supplied? Aggregate the output by CPV and sort by descending order of total value."
   ]
  },
  {
   "cell_type": "code",
   "execution_count": 42,
   "metadata": {},
   "outputs": [
    {
     "data": {
      "text/plain": [
       "CPV\n",
       "Automóveis de passageiros            19918.7\n",
       "Serviços das agências de cobrança    16372.8\n",
       "Name: precoContratual, dtype: float64"
      ]
     },
     "execution_count": 42,
     "metadata": {},
     "output_type": "execute_result"
    }
   ],
   "source": [
    "data_play.loc[data_play['supplierNIF'].eq('513204016')].groupby('CPV').precoContratual.agg('sum').sort_values(ascending=False)"
   ]
  },
  {
   "cell_type": "markdown",
   "metadata": {},
   "source": [
    "8. Can you measure the correlation between the length/duration of contract (\"prazoExecucao\") and the final value (\"precoContratual\")? Are longer contracts more costly?<br>\n",
    "(Remember there might already exist a method to help you out)\n",
    "    \n",
    "    8.1 What if you plot the average price per day as a function of the duration of the contract? What relationship to you obtain?\n",
    "    \n",
    "Note: The objective is to aggregate all contracts with a duration X, and then compute the average cost/value per day of such contracts. What relationship do you observe? Are longer contracts cheaper in a daily cost? Or more expensive?"
   ]
  },
  {
   "cell_type": "code",
   "execution_count": 43,
   "metadata": {
    "scrolled": true
   },
   "outputs": [
    {
     "data": {
      "text/html": [
       "<div>\n",
       "<style scoped>\n",
       "    .dataframe tbody tr th:only-of-type {\n",
       "        vertical-align: middle;\n",
       "    }\n",
       "\n",
       "    .dataframe tbody tr th {\n",
       "        vertical-align: top;\n",
       "    }\n",
       "\n",
       "    .dataframe thead th {\n",
       "        text-align: right;\n",
       "    }\n",
       "</style>\n",
       "<table border=\"1\" class=\"dataframe\">\n",
       "  <thead>\n",
       "    <tr style=\"text-align: right;\">\n",
       "      <th></th>\n",
       "      <th>prazoExecucao</th>\n",
       "      <th>precoContratual</th>\n",
       "    </tr>\n",
       "  </thead>\n",
       "  <tbody>\n",
       "    <tr>\n",
       "      <th>prazoExecucao</th>\n",
       "      <td>1.000000</td>\n",
       "      <td>-0.000022</td>\n",
       "    </tr>\n",
       "    <tr>\n",
       "      <th>precoContratual</th>\n",
       "      <td>-0.000022</td>\n",
       "      <td>1.000000</td>\n",
       "    </tr>\n",
       "  </tbody>\n",
       "</table>\n",
       "</div>"
      ],
      "text/plain": [
       "                 prazoExecucao  precoContratual\n",
       "prazoExecucao         1.000000        -0.000022\n",
       "precoContratual      -0.000022         1.000000"
      ]
     },
     "execution_count": 43,
     "metadata": {},
     "output_type": "execute_result"
    }
   ],
   "source": [
    "#8. Pearson\n",
    "data_play[['prazoExecucao','precoContratual']].corr(method='pearson')"
   ]
  },
  {
   "cell_type": "markdown",
   "metadata": {},
   "source": [
    "<b> R: </b> Even though that the the pearson coefficient is very small giving us the ideia that there is no significant linear correlation between both variables we have a negative direction which implies that longer contracts appear to less costly"
   ]
  },
  {
   "cell_type": "code",
   "execution_count": 44,
   "metadata": {},
   "outputs": [],
   "source": [
    "#8.1\n",
    "#aggregating each value of prazoExecucao and summing precoContratual. as_index = False so I can compute average daily cost\n",
    "new_df = data_play.groupby('prazoExecucao',as_index=False).precoContratual.agg('sum')"
   ]
  },
  {
   "cell_type": "code",
   "execution_count": 45,
   "metadata": {},
   "outputs": [
    {
     "data": {
      "text/html": [
       "<div>\n",
       "<style scoped>\n",
       "    .dataframe tbody tr th:only-of-type {\n",
       "        vertical-align: middle;\n",
       "    }\n",
       "\n",
       "    .dataframe tbody tr th {\n",
       "        vertical-align: top;\n",
       "    }\n",
       "\n",
       "    .dataframe thead th {\n",
       "        text-align: right;\n",
       "    }\n",
       "</style>\n",
       "<table border=\"1\" class=\"dataframe\">\n",
       "  <thead>\n",
       "    <tr style=\"text-align: right;\">\n",
       "      <th></th>\n",
       "      <th>prazoExecucao</th>\n",
       "      <th>precoContratual</th>\n",
       "    </tr>\n",
       "  </thead>\n",
       "  <tbody>\n",
       "    <tr>\n",
       "      <th>0</th>\n",
       "      <td>0</td>\n",
       "      <td>6.040309e+06</td>\n",
       "    </tr>\n",
       "    <tr>\n",
       "      <th>1</th>\n",
       "      <td>1</td>\n",
       "      <td>1.158631e+08</td>\n",
       "    </tr>\n",
       "    <tr>\n",
       "      <th>2</th>\n",
       "      <td>2</td>\n",
       "      <td>6.161627e+07</td>\n",
       "    </tr>\n",
       "    <tr>\n",
       "      <th>3</th>\n",
       "      <td>3</td>\n",
       "      <td>2.809131e+07</td>\n",
       "    </tr>\n",
       "    <tr>\n",
       "      <th>4</th>\n",
       "      <td>4</td>\n",
       "      <td>1.557353e+07</td>\n",
       "    </tr>\n",
       "  </tbody>\n",
       "</table>\n",
       "</div>"
      ],
      "text/plain": [
       "   prazoExecucao  precoContratual\n",
       "0              0     6.040309e+06\n",
       "1              1     1.158631e+08\n",
       "2              2     6.161627e+07\n",
       "3              3     2.809131e+07\n",
       "4              4     1.557353e+07"
      ]
     },
     "execution_count": 45,
     "metadata": {},
     "output_type": "execute_result"
    }
   ],
   "source": [
    "new_df.head()"
   ]
  },
  {
   "cell_type": "code",
   "execution_count": 46,
   "metadata": {},
   "outputs": [],
   "source": [
    "# creating a new variables as the average price per day of contracts \n",
    "new_df['precoDiario'] = new_df['precoContratual']/new_df['prazoExecucao']"
   ]
  },
  {
   "cell_type": "code",
   "execution_count": 47,
   "metadata": {},
   "outputs": [
    {
     "data": {
      "text/plain": [
       "<AxesSubplot:xlabel='precoDiario', ylabel='prazoExecucao'>"
      ]
     },
     "execution_count": 47,
     "metadata": {},
     "output_type": "execute_result"
    },
    {
     "data": {
      "image/png": "[encoded data removed]",
      "text/plain": [
       "<Figure size 504x360 with 1 Axes>"
      ]
     },
     "metadata": {
      "needs_background": "light"
     },
     "output_type": "display_data"
    }
   ],
   "source": [
    "# plot the average daily price as a function of prazoExecucao\n",
    "plt.figure(figsize=(7,5))\n",
    "sns.scatterplot(data=new_df, x='precoDiario', y='prazoExecucao')"
   ]
  },
  {
   "cell_type": "markdown",
   "metadata": {},
   "source": [
    "<b> R: </b> The data presents strong outliers and this may be hidden the relationship of the 2 variables lets look closer"
   ]
  },
  {
   "cell_type": "code",
   "execution_count": 48,
   "metadata": {},
   "outputs": [
    {
     "data": {
      "text/plain": [
       "<seaborn.axisgrid.FacetGrid at 0x170c3f7a550>"
      ]
     },
     "execution_count": 48,
     "metadata": {},
     "output_type": "execute_result"
    },
    {
     "data": {
      "image/png": "[encoded data removed]",
      "text/plain": [
       "<Figure size 360x360 with 1 Axes>"
      ]
     },
     "metadata": {
      "needs_background": "light"
     },
     "output_type": "display_data"
    }
   ],
   "source": [
    "sns.lmplot(data=new_df.loc[(new_df['precoDiario']>1000)&(new_df['precoDiario']<200000)&(new_df['prazoExecucao']<1095)], x='prazoExecucao',y='precoDiario')"
   ]
  },
  {
   "cell_type": "markdown",
   "metadata": {},
   "source": [
    "<b> R: </b> It looks like as pearson coefficient was says theres a slight negative correlation between duration and cost. lets try to investigate further"
   ]
  },
  {
   "cell_type": "code",
   "execution_count": 49,
   "metadata": {},
   "outputs": [],
   "source": [
    "# compute the percentiles of contract durantion\n",
    "new_df['Q_prazoExec'] = pd.qcut(new_df['prazoExecucao'], 10)"
   ]
  },
  {
   "cell_type": "code",
   "execution_count": 50,
   "metadata": {},
   "outputs": [
    {
     "data": {
      "text/plain": [
       "Q_prazoExec\n",
       "(-0.001, 116.8]                   NaN\n",
       "(116.8, 233.6]           87819.186739\n",
       "(233.6, 350.4]           36146.373992\n",
       "(350.4, 468.2]           51079.744960\n",
       "(468.2, 594.0]            9226.094158\n",
       "(594.0, 736.8]            7107.004949\n",
       "(736.8, 909.6]            1553.598061\n",
       "(909.6, 1080.4]           2032.286927\n",
       "(1080.4, 1640.6]          7890.786056\n",
       "(1640.6, 150719240.0]      802.410632\n",
       "Name: precoDiario, dtype: float64"
      ]
     },
     "execution_count": 50,
     "metadata": {},
     "output_type": "execute_result"
    }
   ],
   "source": [
    "# calculating the average cost per day for each percentile\n",
    "new_df.groupby(['Q_prazoExec']).precoDiario.agg('mean')"
   ]
  },
  {
   "cell_type": "markdown",
   "metadata": {},
   "source": [
    "<b>R: </b> Indeed as we saw before longer contracts present a smaller cost per day on average"
   ]
  },
  {
   "cell_type": "markdown",
   "metadata": {},
   "source": [
    "<b>[Step 5. | 5 points ]</b> You probably have noticed that our dataset includes procurements issued by municipalities (Câmara Municipal or Município). Interesting huh?\n",
    "\n",
    "Next, we will explore municipality procurement data a bit more in detail. To that end, we will need to process our procurement dataset, in order to obtain the procurements of each municipality, aggregate the data and obtain the relevant metrics.\n",
    "\n",
    "However, the data is not uniform as some typos lead to the same municipality having different names. Moreover, there are municipal companies that have a different fiscal code than the municipalities. To make it simple, let us ignore municipal companies. Moreover, we have prepared beforehand a .csv file that lists all the NIF ids associated wit each municipality.\n",
    "\n",
    "**NOTE. The file MunicipiosNIF.xlsx is available to download from Moodle.**\n",
    "\n",
    "1. Download the file MunicipiosNIF.xlsx from Moodle and load it into a dataframe;"
   ]
  },
  {
   "cell_type": "code",
   "execution_count": 51,
   "metadata": {},
   "outputs": [],
   "source": [
    "df_municip = pd.read_excel('MunicipiosNIF.xlsx')"
   ]
  },
  {
   "cell_type": "code",
   "execution_count": 52,
   "metadata": {},
   "outputs": [
    {
     "data": {
      "text/html": [
       "<div>\n",
       "<style scoped>\n",
       "    .dataframe tbody tr th:only-of-type {\n",
       "        vertical-align: middle;\n",
       "    }\n",
       "\n",
       "    .dataframe tbody tr th {\n",
       "        vertical-align: top;\n",
       "    }\n",
       "\n",
       "    .dataframe thead th {\n",
       "        text-align: right;\n",
       "    }\n",
       "</style>\n",
       "<table border=\"1\" class=\"dataframe\">\n",
       "  <thead>\n",
       "    <tr style=\"text-align: right;\">\n",
       "      <th></th>\n",
       "      <th>NIF</th>\n",
       "      <th>Municipality</th>\n",
       "    </tr>\n",
       "  </thead>\n",
       "  <tbody>\n",
       "    <tr>\n",
       "      <th>0</th>\n",
       "      <td>500051054</td>\n",
       "      <td>Município de Almada</td>\n",
       "    </tr>\n",
       "    <tr>\n",
       "      <th>1</th>\n",
       "      <td>500051062</td>\n",
       "      <td>Município de Sintra</td>\n",
       "    </tr>\n",
       "    <tr>\n",
       "      <th>2</th>\n",
       "      <td>500051070</td>\n",
       "      <td>Município de Lisboa</td>\n",
       "    </tr>\n",
       "    <tr>\n",
       "      <th>3</th>\n",
       "      <td>500745773</td>\n",
       "      <td>Município de Alcanena</td>\n",
       "    </tr>\n",
       "    <tr>\n",
       "      <th>4</th>\n",
       "      <td>500745943</td>\n",
       "      <td>Município de Oeiras</td>\n",
       "    </tr>\n",
       "  </tbody>\n",
       "</table>\n",
       "</div>"
      ],
      "text/plain": [
       "         NIF           Municipality\n",
       "0  500051054    Município de Almada\n",
       "1  500051062    Município de Sintra\n",
       "2  500051070    Município de Lisboa\n",
       "3  500745773  Município de Alcanena\n",
       "4  500745943    Município de Oeiras"
      ]
     },
     "execution_count": 52,
     "metadata": {},
     "output_type": "execute_result"
    }
   ],
   "source": [
    "df_municip.head()"
   ]
  },
  {
   "cell_type": "markdown",
   "metadata": {},
   "source": [
    "2. Create a new dataframe that contains only the procurements issued by municipalities. Use the dataframe created above to aid your filtering.\n",
    "\n",
    "**Note:** you will end up with situations where the same municipality will have different names, although it has the same NIF. Consider using only the NIF as the unique identifier of a municipality, and if there are multiple names associated to it, to choose one. Explain how did you proceed."
   ]
  },
  {
   "cell_type": "code",
   "execution_count": 53,
   "metadata": {},
   "outputs": [],
   "source": [
    "#changing the NIF to object\n",
    "df_municip.NIF = df_municip.NIF.astype('str')\n",
    "\n",
    "# merging the dataframes by NIF: keep only contracts issued by municipalities\n",
    "df_mproc = pd.merge(left=df_municip, right=data_play, how='inner', left_on='NIF', right_on='issuerNIF')"
   ]
  },
  {
   "cell_type": "code",
   "execution_count": 54,
   "metadata": {},
   "outputs": [
    {
     "data": {
      "text/html": [
       "<div>\n",
       "<style scoped>\n",
       "    .dataframe tbody tr th:only-of-type {\n",
       "        vertical-align: middle;\n",
       "    }\n",
       "\n",
       "    .dataframe tbody tr th {\n",
       "        vertical-align: top;\n",
       "    }\n",
       "\n",
       "    .dataframe thead th {\n",
       "        text-align: right;\n",
       "    }\n",
       "</style>\n",
       "<table border=\"1\" class=\"dataframe\">\n",
       "  <thead>\n",
       "    <tr style=\"text-align: right;\">\n",
       "      <th></th>\n",
       "      <th>NIF</th>\n",
       "      <th>Municipality</th>\n",
       "      <th>idcontrato</th>\n",
       "      <th>nAnuncio</th>\n",
       "      <th>tipoContrato</th>\n",
       "      <th>tipoprocedimento</th>\n",
       "      <th>objectoContrato</th>\n",
       "      <th>dataPublicacao</th>\n",
       "      <th>dataCelebracaoContrato</th>\n",
       "      <th>precoContratual</th>\n",
       "      <th>...</th>\n",
       "      <th>cpvDOC</th>\n",
       "      <th>CPV</th>\n",
       "      <th>issuerNIF</th>\n",
       "      <th>issuerName</th>\n",
       "      <th>supplierNIF</th>\n",
       "      <th>supplierName</th>\n",
       "      <th>month</th>\n",
       "      <th>monthyear</th>\n",
       "      <th>precoContratual_M</th>\n",
       "      <th>logprecoContratual</th>\n",
       "    </tr>\n",
       "  </thead>\n",
       "  <tbody>\n",
       "    <tr>\n",
       "      <th>0</th>\n",
       "      <td>500051054</td>\n",
       "      <td>Município de Almada</td>\n",
       "      <td>1048427</td>\n",
       "      <td>5137/2012</td>\n",
       "      <td>Empreitadas de obras públicas</td>\n",
       "      <td>Concurso público</td>\n",
       "      <td>CONSTRUÇÃO DE UM JARDIM URBANO COM ACESSOS E C...</td>\n",
       "      <td>2014-04-29</td>\n",
       "      <td>2014-04-22</td>\n",
       "      <td>295000.00</td>\n",
       "      <td>...</td>\n",
       "      <td>45112700-2</td>\n",
       "      <td>Trabalhos de paisagismo</td>\n",
       "      <td>500051054</td>\n",
       "      <td>Câmara Municipal de Almada</td>\n",
       "      <td>504338854</td>\n",
       "      <td>Perene, S.A.</td>\n",
       "      <td>4</td>\n",
       "      <td>201404</td>\n",
       "      <td>0.295000</td>\n",
       "      <td>5.469823</td>\n",
       "    </tr>\n",
       "    <tr>\n",
       "      <th>1</th>\n",
       "      <td>500051054</td>\n",
       "      <td>Município de Almada</td>\n",
       "      <td>974822</td>\n",
       "      <td>3856/2013</td>\n",
       "      <td>Aquisição de serviços</td>\n",
       "      <td>Concurso público</td>\n",
       "      <td>Aquisição de Serviços de Fornecimento de Energ...</td>\n",
       "      <td>2014-02-07</td>\n",
       "      <td>2014-01-24</td>\n",
       "      <td>279706.00</td>\n",
       "      <td>...</td>\n",
       "      <td>65300000-6</td>\n",
       "      <td>Serviços de distribuição de electricidade e se...</td>\n",
       "      <td>500051054</td>\n",
       "      <td>Câmara Municipal de Almada</td>\n",
       "      <td>503504564</td>\n",
       "      <td>EDP Comercial, SA</td>\n",
       "      <td>1</td>\n",
       "      <td>201401</td>\n",
       "      <td>0.279706</td>\n",
       "      <td>5.446703</td>\n",
       "    </tr>\n",
       "    <tr>\n",
       "      <th>2</th>\n",
       "      <td>500051054</td>\n",
       "      <td>Município de Almada</td>\n",
       "      <td>943569</td>\n",
       "      <td>3907/2013</td>\n",
       "      <td>Empreitadas de obras públicas</td>\n",
       "      <td>Concurso público</td>\n",
       "      <td>CPN01232E - Empreitada de obras de adaptação d...</td>\n",
       "      <td>2014-01-09</td>\n",
       "      <td>2014-01-06</td>\n",
       "      <td>115953.51</td>\n",
       "      <td>...</td>\n",
       "      <td>45453100-8</td>\n",
       "      <td>Obras de recuperação</td>\n",
       "      <td>500051054</td>\n",
       "      <td>Câmara Municipal de Almada</td>\n",
       "      <td>507909070</td>\n",
       "      <td>TEMPO ANALÓGICO, LDA.</td>\n",
       "      <td>1</td>\n",
       "      <td>201401</td>\n",
       "      <td>0.115954</td>\n",
       "      <td>5.064288</td>\n",
       "    </tr>\n",
       "    <tr>\n",
       "      <th>3</th>\n",
       "      <td>500051054</td>\n",
       "      <td>Município de Almada</td>\n",
       "      <td>966965</td>\n",
       "      <td>4580/2013</td>\n",
       "      <td>Aquisição de serviços</td>\n",
       "      <td>Concurso público</td>\n",
       "      <td>Prestação de serviços de reparação de viaturas...</td>\n",
       "      <td>2014-01-31</td>\n",
       "      <td>2014-01-27</td>\n",
       "      <td>252000.00</td>\n",
       "      <td>...</td>\n",
       "      <td>50110000-9</td>\n",
       "      <td>Serviços de reparação e manutenção de veículos...</td>\n",
       "      <td>500051054</td>\n",
       "      <td>Câmara Municipal de Almada</td>\n",
       "      <td>500595909</td>\n",
       "      <td>Coopban Cooperativa de Produção Operária Metal...</td>\n",
       "      <td>1</td>\n",
       "      <td>201401</td>\n",
       "      <td>0.252000</td>\n",
       "      <td>5.401402</td>\n",
       "    </tr>\n",
       "    <tr>\n",
       "      <th>4</th>\n",
       "      <td>500051054</td>\n",
       "      <td>Município de Almada</td>\n",
       "      <td>1005419</td>\n",
       "      <td>4745/2013</td>\n",
       "      <td>Empreitadas de obras públicas</td>\n",
       "      <td>Concurso público</td>\n",
       "      <td>Concurso Público nº CPN01821E- Empreitada de o...</td>\n",
       "      <td>2014-03-13</td>\n",
       "      <td>2014-03-11</td>\n",
       "      <td>35486.19</td>\n",
       "      <td>...</td>\n",
       "      <td>45453100-8</td>\n",
       "      <td>Obras de recuperação</td>\n",
       "      <td>500051054</td>\n",
       "      <td>Câmara Municipal de Almada</td>\n",
       "      <td>B70278528</td>\n",
       "      <td>Casdiboca, S.L.</td>\n",
       "      <td>3</td>\n",
       "      <td>201403</td>\n",
       "      <td>0.035486</td>\n",
       "      <td>4.550072</td>\n",
       "    </tr>\n",
       "  </tbody>\n",
       "</table>\n",
       "<p>5 rows × 22 columns</p>\n",
       "</div>"
      ],
      "text/plain": [
       "         NIF         Municipality  idcontrato   nAnuncio  \\\n",
       "0  500051054  Município de Almada     1048427  5137/2012   \n",
       "1  500051054  Município de Almada      974822  3856/2013   \n",
       "2  500051054  Município de Almada      943569  3907/2013   \n",
       "3  500051054  Município de Almada      966965  4580/2013   \n",
       "4  500051054  Município de Almada     1005419  4745/2013   \n",
       "\n",
       "                    tipoContrato  tipoprocedimento  \\\n",
       "0  Empreitadas de obras públicas  Concurso público   \n",
       "1          Aquisição de serviços  Concurso público   \n",
       "2  Empreitadas de obras públicas  Concurso público   \n",
       "3          Aquisição de serviços  Concurso público   \n",
       "4  Empreitadas de obras públicas  Concurso público   \n",
       "\n",
       "                                     objectoContrato dataPublicacao  \\\n",
       "0  CONSTRUÇÃO DE UM JARDIM URBANO COM ACESSOS E C...     2014-04-29   \n",
       "1  Aquisição de Serviços de Fornecimento de Energ...     2014-02-07   \n",
       "2  CPN01232E - Empreitada de obras de adaptação d...     2014-01-09   \n",
       "3  Prestação de serviços de reparação de viaturas...     2014-01-31   \n",
       "4  Concurso Público nº CPN01821E- Empreitada de o...     2014-03-13   \n",
       "\n",
       "  dataCelebracaoContrato  precoContratual  ...      cpvDOC  \\\n",
       "0             2014-04-22        295000.00  ...  45112700-2   \n",
       "1             2014-01-24        279706.00  ...  65300000-6   \n",
       "2             2014-01-06        115953.51  ...  45453100-8   \n",
       "3             2014-01-27        252000.00  ...  50110000-9   \n",
       "4             2014-03-11         35486.19  ...  45453100-8   \n",
       "\n",
       "                                                 CPV  issuerNIF  \\\n",
       "0                            Trabalhos de paisagismo  500051054   \n",
       "1  Serviços de distribuição de electricidade e se...  500051054   \n",
       "2                               Obras de recuperação  500051054   \n",
       "3  Serviços de reparação e manutenção de veículos...  500051054   \n",
       "4                               Obras de recuperação  500051054   \n",
       "\n",
       "                   issuerName supplierNIF  \\\n",
       "0  Câmara Municipal de Almada   504338854   \n",
       "1  Câmara Municipal de Almada   503504564   \n",
       "2  Câmara Municipal de Almada   507909070   \n",
       "3  Câmara Municipal de Almada   500595909   \n",
       "4  Câmara Municipal de Almada   B70278528   \n",
       "\n",
       "                                        supplierName month monthyear  \\\n",
       "0                                       Perene, S.A.     4    201404   \n",
       "1                                  EDP Comercial, SA     1    201401   \n",
       "2                              TEMPO ANALÓGICO, LDA.     1    201401   \n",
       "3  Coopban Cooperativa de Produção Operária Metal...     1    201401   \n",
       "4                                    Casdiboca, S.L.     3    201403   \n",
       "\n",
       "   precoContratual_M  logprecoContratual  \n",
       "0           0.295000            5.469823  \n",
       "1           0.279706            5.446703  \n",
       "2           0.115954            5.064288  \n",
       "3           0.252000            5.401402  \n",
       "4           0.035486            4.550072  \n",
       "\n",
       "[5 rows x 22 columns]"
      ]
     },
     "execution_count": 54,
     "metadata": {},
     "output_type": "execute_result"
    }
   ],
   "source": [
    "df_mproc.head()"
   ]
  },
  {
   "cell_type": "markdown",
   "metadata": {},
   "source": [
    "3. What are the top ten suppliers in terms of value (total cost in euros) spent by the municipality of Lisbon?"
   ]
  },
  {
   "cell_type": "code",
   "execution_count": 55,
   "metadata": {},
   "outputs": [
    {
     "data": {
      "text/html": [
       "<div>\n",
       "<style scoped>\n",
       "    .dataframe tbody tr th:only-of-type {\n",
       "        vertical-align: middle;\n",
       "    }\n",
       "\n",
       "    .dataframe tbody tr th {\n",
       "        vertical-align: top;\n",
       "    }\n",
       "\n",
       "    .dataframe thead th {\n",
       "        text-align: right;\n",
       "    }\n",
       "</style>\n",
       "<table border=\"1\" class=\"dataframe\">\n",
       "  <thead>\n",
       "    <tr style=\"text-align: right;\">\n",
       "      <th></th>\n",
       "      <th>NIF</th>\n",
       "      <th>Municipality</th>\n",
       "    </tr>\n",
       "  </thead>\n",
       "  <tbody>\n",
       "    <tr>\n",
       "      <th>2</th>\n",
       "      <td>500051070</td>\n",
       "      <td>Município de Lisboa</td>\n",
       "    </tr>\n",
       "  </tbody>\n",
       "</table>\n",
       "</div>"
      ],
      "text/plain": [
       "         NIF         Municipality\n",
       "2  500051070  Município de Lisboa"
      ]
     },
     "execution_count": 55,
     "metadata": {},
     "output_type": "execute_result"
    }
   ],
   "source": [
    "df_municip[df_municip['Municipality'].str.contains('Lisboa')]"
   ]
  },
  {
   "cell_type": "code",
   "execution_count": 56,
   "metadata": {},
   "outputs": [
    {
     "data": {
      "text/html": [
       "<div>\n",
       "<style scoped>\n",
       "    .dataframe tbody tr th:only-of-type {\n",
       "        vertical-align: middle;\n",
       "    }\n",
       "\n",
       "    .dataframe tbody tr th {\n",
       "        vertical-align: top;\n",
       "    }\n",
       "\n",
       "    .dataframe thead th {\n",
       "        text-align: right;\n",
       "    }\n",
       "</style>\n",
       "<table border=\"1\" class=\"dataframe\">\n",
       "  <thead>\n",
       "    <tr style=\"text-align: right;\">\n",
       "      <th></th>\n",
       "      <th>precoContratual_M</th>\n",
       "      <th>supplierName</th>\n",
       "    </tr>\n",
       "  </thead>\n",
       "  <tbody>\n",
       "    <tr>\n",
       "      <th>3341</th>\n",
       "      <td>5.530271</td>\n",
       "      <td>Habitamega Construções, S.A.</td>\n",
       "    </tr>\n",
       "    <tr>\n",
       "      <th>3996</th>\n",
       "      <td>4.417319</td>\n",
       "      <td>CONSTRUTORA UDRA, LDA.</td>\n",
       "    </tr>\n",
       "    <tr>\n",
       "      <th>2391</th>\n",
       "      <td>3.494400</td>\n",
       "      <td>Teixera, Pinto &amp;amp; Soares, S.A.</td>\n",
       "    </tr>\n",
       "    <tr>\n",
       "      <th>1441</th>\n",
       "      <td>2.913644</td>\n",
       "      <td>EDP Comercial, SA</td>\n",
       "    </tr>\n",
       "    <tr>\n",
       "      <th>3946</th>\n",
       "      <td>2.860192</td>\n",
       "      <td>- IBERDROLA GENERACION, S.A.U.</td>\n",
       "    </tr>\n",
       "    <tr>\n",
       "      <th>1451</th>\n",
       "      <td>2.651348</td>\n",
       "      <td>Securitas - Serviços e Tecnologia de Segurança...</td>\n",
       "    </tr>\n",
       "    <tr>\n",
       "      <th>1449</th>\n",
       "      <td>2.198485</td>\n",
       "      <td>Ferreira - Construção, S.A.</td>\n",
       "    </tr>\n",
       "    <tr>\n",
       "      <th>2254</th>\n",
       "      <td>2.092509</td>\n",
       "      <td>Controp-Congevia,SA</td>\n",
       "    </tr>\n",
       "    <tr>\n",
       "      <th>1469</th>\n",
       "      <td>2.083773</td>\n",
       "      <td>Alexandre Barbosa Borges, S. A.</td>\n",
       "    </tr>\n",
       "    <tr>\n",
       "      <th>2264</th>\n",
       "      <td>1.945001</td>\n",
       "      <td>VODAFONE PORTUGAL - Comunicações Pessoais, S.A.</td>\n",
       "    </tr>\n",
       "  </tbody>\n",
       "</table>\n",
       "</div>"
      ],
      "text/plain": [
       "      precoContratual_M                                       supplierName\n",
       "3341           5.530271                       Habitamega Construções, S.A.\n",
       "3996           4.417319                             CONSTRUTORA UDRA, LDA.\n",
       "2391           3.494400                  Teixera, Pinto &amp; Soares, S.A.\n",
       "1441           2.913644                                  EDP Comercial, SA\n",
       "3946           2.860192                     - IBERDROLA GENERACION, S.A.U.\n",
       "1451           2.651348  Securitas - Serviços e Tecnologia de Segurança...\n",
       "1449           2.198485                        Ferreira - Construção, S.A.\n",
       "2254           2.092509                                Controp-Congevia,SA\n",
       "1469           2.083773                    Alexandre Barbosa Borges, S. A.\n",
       "2264           1.945001    VODAFONE PORTUGAL - Comunicações Pessoais, S.A."
      ]
     },
     "execution_count": 56,
     "metadata": {},
     "output_type": "execute_result"
    }
   ],
   "source": [
    "df_mproc.loc[df_mproc['issuerNIF']=='500051070', ['precoContratual_M', 'supplierName']]\\\n",
    "                                .sort_values(by = 'precoContratual_M', ascending = False)[:10]"
   ]
  },
  {
   "cell_type": "markdown",
   "metadata": {},
   "source": [
    "4. What are the top ten services in terms of value (total cost in euros) supplied to the Municipality of Lisbon?"
   ]
  },
  {
   "cell_type": "code",
   "execution_count": 57,
   "metadata": {},
   "outputs": [
    {
     "data": {
      "text/html": [
       "<div>\n",
       "<style scoped>\n",
       "    .dataframe tbody tr th:only-of-type {\n",
       "        vertical-align: middle;\n",
       "    }\n",
       "\n",
       "    .dataframe tbody tr th {\n",
       "        vertical-align: top;\n",
       "    }\n",
       "\n",
       "    .dataframe thead th {\n",
       "        text-align: right;\n",
       "    }\n",
       "</style>\n",
       "<table border=\"1\" class=\"dataframe\">\n",
       "  <thead>\n",
       "    <tr style=\"text-align: right;\">\n",
       "      <th></th>\n",
       "      <th>precoContratual_M</th>\n",
       "    </tr>\n",
       "    <tr>\n",
       "      <th>CPV</th>\n",
       "      <th></th>\n",
       "    </tr>\n",
       "  </thead>\n",
       "  <tbody>\n",
       "    <tr>\n",
       "      <th>Construção de edifícios destinados à educação ou à investigação</th>\n",
       "      <td>14.856385</td>\n",
       "    </tr>\n",
       "    <tr>\n",
       "      <th>Outros serviços</th>\n",
       "      <td>13.960549</td>\n",
       "    </tr>\n",
       "    <tr>\n",
       "      <th>Construção</th>\n",
       "      <td>10.531445</td>\n",
       "    </tr>\n",
       "    <tr>\n",
       "      <th>Serviços de limpeza</th>\n",
       "      <td>10.471798</td>\n",
       "    </tr>\n",
       "    <tr>\n",
       "      <th>Serviços de vigilância</th>\n",
       "      <td>8.109279</td>\n",
       "    </tr>\n",
       "    <tr>\n",
       "      <th>Trabalhos de paisagismo</th>\n",
       "      <td>7.034760</td>\n",
       "    </tr>\n",
       "    <tr>\n",
       "      <th>Construção de edifícios multifuncionais</th>\n",
       "      <td>6.578227</td>\n",
       "    </tr>\n",
       "    <tr>\n",
       "      <th>Construção de instalações para ocupação de tempos livres</th>\n",
       "      <td>5.530271</td>\n",
       "    </tr>\n",
       "    <tr>\n",
       "      <th>Obras de recuperação</th>\n",
       "      <td>5.459605</td>\n",
       "    </tr>\n",
       "    <tr>\n",
       "      <th>Serviços relacionados com a administração pública, a defesa e a segurança social</th>\n",
       "      <td>4.623270</td>\n",
       "    </tr>\n",
       "  </tbody>\n",
       "</table>\n",
       "</div>"
      ],
      "text/plain": [
       "                                                    precoContratual_M\n",
       "CPV                                                                  \n",
       "Construção de edifícios destinados à educação o...          14.856385\n",
       "Outros serviços                                             13.960549\n",
       "Construção                                                  10.531445\n",
       "Serviços de limpeza                                         10.471798\n",
       "Serviços de vigilância                                       8.109279\n",
       "Trabalhos de paisagismo                                      7.034760\n",
       "Construção de edifícios multifuncionais                      6.578227\n",
       "Construção de instalações para ocupação de temp...           5.530271\n",
       "Obras de recuperação                                         5.459605\n",
       "Serviços relacionados com a administração públi...           4.623270"
      ]
     },
     "execution_count": 57,
     "metadata": {},
     "output_type": "execute_result"
    }
   ],
   "source": [
    "df_mproc.loc[df_mproc['issuerNIF']=='500051070', ['precoContratual_M','CPV']]\\\n",
    "                                .groupby('CPV').agg('sum')\\\n",
    "                                .sort_values(by = 'precoContratual_M', ascending = False)[:10]"
   ]
  },
  {
   "cell_type": "markdown",
   "metadata": {},
   "source": [
    "5. Compute the average value of the procurements (only those contracted by municipalities) per supplier. <br>\n",
    "    5.1 Show as an histogram the number of companies that received a total amount X from municipalities. <br>\n",
    "    5.2 Identify the top 10 companies that received more money from municipalities."
   ]
  },
  {
   "cell_type": "code",
   "execution_count": 59,
   "metadata": {},
   "outputs": [
    {
     "data": {
      "text/plain": [
       "supplierNIF\n",
       "003596308    15375.00\n",
       "025474203    27000.00\n",
       "043253616     7626.40\n",
       "063717106     7424.15\n",
       "06966442H    14750.00\n",
       "Name: precoContratual, dtype: float64"
      ]
     },
     "execution_count": 59,
     "metadata": {},
     "output_type": "execute_result"
    }
   ],
   "source": [
    "#5\n",
    "avg_contract_value = df_mproc.groupby(by = 'supplierNIF')['precoContratual'].mean()\n",
    "avg_contract_value.head()"
   ]
  },
  {
   "cell_type": "code",
   "execution_count": 60,
   "metadata": {},
   "outputs": [
    {
     "data": {
      "image/png": "[encoded data removed]",
      "text/plain": [
       "<Figure size 504x360 with 1 Axes>"
      ]
     },
     "metadata": {
      "needs_background": "light"
     },
     "output_type": "display_data"
    }
   ],
   "source": [
    "#5.1\n",
    "#histograma\n",
    "plt.figure(figsize=(7,5))\n",
    "avg_contract_value[(avg_contract_value>0)&(avg_contract_value<0.4*10**6)].plot(kind='hist', bins=100)\n",
    "plt.show()"
   ]
  },
  {
   "cell_type": "code",
   "execution_count": 61,
   "metadata": {},
   "outputs": [
    {
     "data": {
      "text/plain": [
       "supplierName\n",
       "EDP Comercial, SA                                                              138.003430\n",
       "Galp Energia, SA.                                                               62.174568\n",
       "Uniself Sociedade de Restaurantes Públicos e Privados SA                        44.827723\n",
       "GERTAL - Companhia Geral de Restaurantes e Alimentação, S.A.                    40.688761\n",
       "ECOAMBIENTE, Consultores de Engenharia, Gestão e Prestação de Serviços, Lda     28.781585\n",
       "CIP Construção, S.A.                                                            25.540260\n",
       "EUREST (PORTUGAL) - Sociedade Europeia de Restaurantes,lda.                     25.057899\n",
       "Domingos da Silva Teixeira, S.A.                                                24.069874\n",
       "Repsol Portuguesa, S.A:                                                         23.491197\n",
       "Alexandre Barbosa Borges, S. A.                                                 20.321560\n",
       "Name: precoContratual_M, dtype: float64"
      ]
     },
     "execution_count": 61,
     "metadata": {},
     "output_type": "execute_result"
    }
   ],
   "source": [
    "#5.2\n",
    "df_mproc.groupby(by = 'supplierName')['precoContratual_M'].sum().sort_values(ascending = False)[:10]"
   ]
  },
  {
   "cell_type": "markdown",
   "metadata": {},
   "source": [
    "6. What is the most common \"tipoprocedimento\" of procurements issued by municipalities? <br>\n",
    "    6.1 What if you consider only procurements with a value above 50 000 euros? <br>\n",
    "    6.2 How do you relate/compare these results with those obtained in Question 3 of Step 4?"
   ]
  },
  {
   "cell_type": "code",
   "execution_count": 62,
   "metadata": {},
   "outputs": [
    {
     "name": "stdout",
     "output_type": "stream",
     "text": [
      "Ajuste Direto Regime Geral\n"
     ]
    }
   ],
   "source": [
    "#6\n",
    "print(df_mproc['tipoprocedimento'].mode()[0])"
   ]
  },
  {
   "cell_type": "code",
   "execution_count": 63,
   "metadata": {},
   "outputs": [
    {
     "name": "stdout",
     "output_type": "stream",
     "text": [
      "Ajuste Direto Regime Geral\n"
     ]
    }
   ],
   "source": [
    "#6.1\n",
    "print(df_mproc.loc[df_mproc['precoContratual']> 50*10**3,'tipoprocedimento'].mode()[0])"
   ]
  },
  {
   "cell_type": "code",
   "execution_count": 64,
   "metadata": {},
   "outputs": [
    {
     "name": "stdout",
     "output_type": "stream",
     "text": [
      "tipoprocedimento\n",
      "Ajuste Direto Regime Geral                   54918\n",
      "Concurso público                              5384\n",
      "Ao abrigo de acordo-quadro (art.º 258.º)       371\n",
      "Ao abrigo de acordo-quadro (art.º 259.º)       311\n",
      "Concurso limitado por prévia qualificação       40\n",
      "Name: issuerName, dtype: int64\n",
      "tipoprocedimento\n",
      "Ajuste Direto Regime Geral                   7838\n",
      "Concurso público                             3766\n",
      "Ao abrigo de acordo-quadro (art.º 258.º)      139\n",
      "Ao abrigo de acordo-quadro (art.º 259.º)      107\n",
      "Concurso limitado por prévia qualificação      31\n",
      "Name: issuerName, dtype: int64\n"
     ]
    }
   ],
   "source": [
    "#6.2\n",
    "print(df_mproc.groupby(by = 'tipoprocedimento').issuerName.count().sort_values(ascending = False))\n",
    "print(df_mproc[df_mproc.precoContratual > 50*10**3].groupby(by = 'tipoprocedimento').issuerName.count().sort_values(ascending = False))"
   ]
  },
  {
   "cell_type": "markdown",
   "metadata": {},
   "source": [
    "<b> R: </b> The proportion of tipoprocedimento in the sample is 90% and compared with the sub-sample of contracts with value greater than 50k this proportion is reduced to 66%. <br>\n",
    "Based on 'decreto-lei n.º 18/2008, de 29 de janeiro' 'Ajuste Direto' can be adjudicated directly to aquisition of goods and services with a value under 75k without opening a public tender. So to conclude, makes sense that 'Ajuste Direto' to be the most common procedure for the all sample and to decrease the importance when you only look for contracts with a value higher than 50k"
   ]
  },
  {
   "cell_type": "markdown",
   "metadata": {},
   "source": [
    "<b>[Step 6. | 4 points ]</b> Next, and in the spirit of a vast scientific literature on Urban Scaling Laws (https://tinyurl.com/y8ohmzx7), let us investigate the relationship between the number and value of procurements issued by municipalities and their population size.\n",
    "\n",
    "To that end we will need to download and load an additional dataset that includes the population size of each municipality.<br> \n",
    "This dataset was obtained from the portal pordata. As is the case in many data science projects we don't have a perfect matching key between the population data and the procurement data we have been working so far. \n",
    "\n",
    "**NOTE. The file popsize.csv is available for download from Moodle.**\n",
    "\n",
    "1. Download the file popsize.csv from Moodle and load it to a dataframe. <br>\n",
    "    1.1 Explore the dataframe and explain how can you link this data to the procurement data."
   ]
  },
  {
   "cell_type": "code",
   "execution_count": 65,
   "metadata": {},
   "outputs": [],
   "source": [
    "df_pop = pd.read_csv('popsize.csv', delimiter = \";\")"
   ]
  },
  {
   "cell_type": "code",
   "execution_count": 66,
   "metadata": {},
   "outputs": [
    {
     "data": {
      "text/html": [
       "<div>\n",
       "<style scoped>\n",
       "    .dataframe tbody tr th:only-of-type {\n",
       "        vertical-align: middle;\n",
       "    }\n",
       "\n",
       "    .dataframe tbody tr th {\n",
       "        vertical-align: top;\n",
       "    }\n",
       "\n",
       "    .dataframe thead th {\n",
       "        text-align: right;\n",
       "    }\n",
       "</style>\n",
       "<table border=\"1\" class=\"dataframe\">\n",
       "  <thead>\n",
       "    <tr style=\"text-align: right;\">\n",
       "      <th></th>\n",
       "      <th>Location</th>\n",
       "      <th>Population</th>\n",
       "    </tr>\n",
       "  </thead>\n",
       "  <tbody>\n",
       "    <tr>\n",
       "      <th>158</th>\n",
       "      <td>Abrantes</td>\n",
       "      <td>37 895</td>\n",
       "    </tr>\n",
       "    <tr>\n",
       "      <th>138</th>\n",
       "      <td>Aguiar da Beira</td>\n",
       "      <td>5 266</td>\n",
       "    </tr>\n",
       "    <tr>\n",
       "      <th>248</th>\n",
       "      <td>Alandroal</td>\n",
       "      <td>5 634</td>\n",
       "    </tr>\n",
       "    <tr>\n",
       "      <th>99</th>\n",
       "      <td>Albergaria-a-Velha</td>\n",
       "      <td>24 816</td>\n",
       "    </tr>\n",
       "    <tr>\n",
       "      <th>262</th>\n",
       "      <td>Albufeira</td>\n",
       "      <td>40 119</td>\n",
       "    </tr>\n",
       "    <tr>\n",
       "      <th>...</th>\n",
       "      <td>...</td>\n",
       "      <td>...</td>\n",
       "    </tr>\n",
       "    <tr>\n",
       "      <th>151</th>\n",
       "      <td>Vouzela</td>\n",
       "      <td>10 282</td>\n",
       "    </tr>\n",
       "    <tr>\n",
       "      <th>98</th>\n",
       "      <td>Águeda</td>\n",
       "      <td>47 249</td>\n",
       "    </tr>\n",
       "    <tr>\n",
       "      <th>252</th>\n",
       "      <td>Évora</td>\n",
       "      <td>55 339</td>\n",
       "    </tr>\n",
       "    <tr>\n",
       "      <th>103</th>\n",
       "      <td>Ílhavo</td>\n",
       "      <td>38 456</td>\n",
       "    </tr>\n",
       "    <tr>\n",
       "      <th>94</th>\n",
       "      <td>Óbidos</td>\n",
       "      <td>11 726</td>\n",
       "    </tr>\n",
       "  </tbody>\n",
       "</table>\n",
       "<p>308 rows × 2 columns</p>\n",
       "</div>"
      ],
      "text/plain": [
       "               Location Population\n",
       "158            Abrantes     37 895\n",
       "138     Aguiar da Beira      5 266\n",
       "248           Alandroal      5 634\n",
       "99   Albergaria-a-Velha     24 816\n",
       "262           Albufeira     40 119\n",
       "..                  ...        ...\n",
       "151             Vouzela     10 282\n",
       "98               Águeda     47 249\n",
       "252               Évora     55 339\n",
       "103              Ílhavo     38 456\n",
       "94               Óbidos     11 726\n",
       "\n",
       "[308 rows x 2 columns]"
      ]
     },
     "execution_count": 66,
     "metadata": {},
     "output_type": "execute_result"
    }
   ],
   "source": [
    "df_pop.sort_values('Location')"
   ]
  },
  {
   "cell_type": "code",
   "execution_count": 67,
   "metadata": {},
   "outputs": [],
   "source": [
    "# replace the Location to match Municipality\n",
    "df_pop['Location'].replace('Calheta [R.A.A.]','Calheta São Jorge', inplace=True)\n",
    "df_pop['Location'].replace('Calheta [R.A.M.]','Calheta', inplace=True)\n",
    "df_pop['Location'].replace('Lagoa [R.A.A.]','Lagoa - Açores', inplace=True)\n",
    "df_pop['Location'].replace('Castanheira de Pêra','Castanheira de Pera', inplace=True)\n",
    "df_pop['Location'].replace('Vila da Praia da Vitória','Praia da Vitória', inplace=True)"
   ]
  },
  {
   "cell_type": "markdown",
   "metadata": {},
   "source": [
    "Explanation: In the procument data (df_mproc) I have a column named Municipality and I will create a new variable that will be key for the procument data and population datasets where we only leave the municipality name and we will merge the 2 datasets"
   ]
  },
  {
   "cell_type": "markdown",
   "metadata": {},
   "source": [
    "2. Create a new dataframe in which contracts are aggregated by municipality. You should have a dataframe in which the columns correspond to: NIF; Municipality Name; Population Size; Number of Issued Procurements; Total Value of Issued Procurements. \n",
    "\n",
    "**Note:** You will have to merge at least two dataframes, and apply several aggregations."
   ]
  },
  {
   "cell_type": "code",
   "execution_count": 68,
   "metadata": {},
   "outputs": [],
   "source": [
    "# copying the municipality data and contracts\n",
    "df_mproc_copy = df_mproc.copy()"
   ]
  },
  {
   "cell_type": "code",
   "execution_count": 69,
   "metadata": {},
   "outputs": [],
   "source": [
    "# function to remove the start of the string and leave only the names\n",
    "def municip_filter(x):\n",
    "    removal_list = [\"Município de \",\"Município da \",\"Município do \",\"Município das \", \"Município dos \", \" – Câmara Municipal\"]\n",
    "    for words in removal_list:\n",
    "        x = x.replace(words, \"\")\n",
    "    return x "
   ]
  },
  {
   "cell_type": "code",
   "execution_count": 70,
   "metadata": {},
   "outputs": [],
   "source": [
    "df_mproc_copy['Municip_Key'] = df_mproc_copy['Municipality'].map(municip_filter)"
   ]
  },
  {
   "cell_type": "code",
   "execution_count": 71,
   "metadata": {},
   "outputs": [],
   "source": [
    "df_mproc_copy['Municip_Key'].replace('Vila Velha de Rádío','Vila Velha de Ródão', inplace=True)"
   ]
  },
  {
   "cell_type": "code",
   "execution_count": 72,
   "metadata": {},
   "outputs": [
    {
     "data": {
      "text/html": [
       "<div>\n",
       "<style scoped>\n",
       "    .dataframe tbody tr th:only-of-type {\n",
       "        vertical-align: middle;\n",
       "    }\n",
       "\n",
       "    .dataframe tbody tr th {\n",
       "        vertical-align: top;\n",
       "    }\n",
       "\n",
       "    .dataframe thead th {\n",
       "        text-align: right;\n",
       "    }\n",
       "</style>\n",
       "<table border=\"1\" class=\"dataframe\">\n",
       "  <thead>\n",
       "    <tr style=\"text-align: right;\">\n",
       "      <th></th>\n",
       "      <th>issuerNIF</th>\n",
       "      <th>Municipality</th>\n",
       "      <th>Municip_Key</th>\n",
       "      <th>count</th>\n",
       "      <th>sum</th>\n",
       "    </tr>\n",
       "  </thead>\n",
       "  <tbody>\n",
       "    <tr>\n",
       "      <th>107</th>\n",
       "      <td>505456010</td>\n",
       "      <td>Município da Amadora</td>\n",
       "      <td>Amadora</td>\n",
       "      <td>582</td>\n",
       "      <td>45.887736</td>\n",
       "    </tr>\n",
       "    <tr>\n",
       "      <th>55</th>\n",
       "      <td>501290206</td>\n",
       "      <td>Município da Batalha</td>\n",
       "      <td>Batalha</td>\n",
       "      <td>107</td>\n",
       "      <td>5.689477</td>\n",
       "    </tr>\n",
       "    <tr>\n",
       "      <th>59</th>\n",
       "      <td>501305564</td>\n",
       "      <td>Município da Chamusca</td>\n",
       "      <td>Chamusca</td>\n",
       "      <td>44</td>\n",
       "      <td>3.261138</td>\n",
       "    </tr>\n",
       "    <tr>\n",
       "      <th>101</th>\n",
       "      <td>505330768</td>\n",
       "      <td>Município da Covilhã</td>\n",
       "      <td>Covilhã</td>\n",
       "      <td>211</td>\n",
       "      <td>10.963042</td>\n",
       "    </tr>\n",
       "    <tr>\n",
       "      <th>279</th>\n",
       "      <td>511233620</td>\n",
       "      <td>Município da Câmara de Lobos</td>\n",
       "      <td>Câmara de Lobos</td>\n",
       "      <td>93</td>\n",
       "      <td>11.670486</td>\n",
       "    </tr>\n",
       "  </tbody>\n",
       "</table>\n",
       "</div>"
      ],
      "text/plain": [
       "     issuerNIF                  Municipality      Municip_Key  count  \\\n",
       "107  505456010          Município da Amadora          Amadora    582   \n",
       "55   501290206          Município da Batalha          Batalha    107   \n",
       "59   501305564         Município da Chamusca         Chamusca     44   \n",
       "101  505330768          Município da Covilhã          Covilhã    211   \n",
       "279  511233620  Município da Câmara de Lobos  Câmara de Lobos     93   \n",
       "\n",
       "           sum  \n",
       "107  45.887736  \n",
       "55    5.689477  \n",
       "59    3.261138  \n",
       "101  10.963042  \n",
       "279  11.670486  "
      ]
     },
     "execution_count": 72,
     "metadata": {},
     "output_type": "execute_result"
    }
   ],
   "source": [
    "number_procs = df_mproc_copy.groupby(['issuerNIF','Municipality','Municip_Key'], as_index=False).precoContratual_M.agg(['count', 'sum']).reset_index()\n",
    "number_procs.sort_values(by='Municipality').head()"
   ]
  },
  {
   "cell_type": "code",
   "execution_count": 73,
   "metadata": {},
   "outputs": [],
   "source": [
    "df_mproc_pop = pd.merge(left=df_mproc_copy, right=df_pop, how='left', left_on='Municip_Key', right_on='Location')"
   ]
  },
  {
   "cell_type": "code",
   "execution_count": 74,
   "metadata": {},
   "outputs": [
    {
     "data": {
      "text/html": [
       "<div>\n",
       "<style scoped>\n",
       "    .dataframe tbody tr th:only-of-type {\n",
       "        vertical-align: middle;\n",
       "    }\n",
       "\n",
       "    .dataframe tbody tr th {\n",
       "        vertical-align: top;\n",
       "    }\n",
       "\n",
       "    .dataframe thead th {\n",
       "        text-align: right;\n",
       "    }\n",
       "</style>\n",
       "<table border=\"1\" class=\"dataframe\">\n",
       "  <thead>\n",
       "    <tr style=\"text-align: right;\">\n",
       "      <th></th>\n",
       "      <th>NIF</th>\n",
       "      <th>Municipality</th>\n",
       "      <th>idcontrato</th>\n",
       "      <th>nAnuncio</th>\n",
       "      <th>tipoContrato</th>\n",
       "      <th>tipoprocedimento</th>\n",
       "      <th>objectoContrato</th>\n",
       "      <th>dataPublicacao</th>\n",
       "      <th>dataCelebracaoContrato</th>\n",
       "      <th>precoContratual</th>\n",
       "      <th>...</th>\n",
       "      <th>issuerName</th>\n",
       "      <th>supplierNIF</th>\n",
       "      <th>supplierName</th>\n",
       "      <th>month</th>\n",
       "      <th>monthyear</th>\n",
       "      <th>precoContratual_M</th>\n",
       "      <th>logprecoContratual</th>\n",
       "      <th>Municip_Key</th>\n",
       "      <th>Location</th>\n",
       "      <th>Population</th>\n",
       "    </tr>\n",
       "  </thead>\n",
       "  <tbody>\n",
       "    <tr>\n",
       "      <th>0</th>\n",
       "      <td>500051054</td>\n",
       "      <td>Município de Almada</td>\n",
       "      <td>1048427</td>\n",
       "      <td>5137/2012</td>\n",
       "      <td>Empreitadas de obras públicas</td>\n",
       "      <td>Concurso público</td>\n",
       "      <td>CONSTRUÇÃO DE UM JARDIM URBANO COM ACESSOS E C...</td>\n",
       "      <td>2014-04-29</td>\n",
       "      <td>2014-04-22</td>\n",
       "      <td>295000.00</td>\n",
       "      <td>...</td>\n",
       "      <td>Câmara Municipal de Almada</td>\n",
       "      <td>504338854</td>\n",
       "      <td>Perene, S.A.</td>\n",
       "      <td>4</td>\n",
       "      <td>201404</td>\n",
       "      <td>0.295000</td>\n",
       "      <td>5.469823</td>\n",
       "      <td>Almada</td>\n",
       "      <td>Almada</td>\n",
       "      <td>171 481</td>\n",
       "    </tr>\n",
       "    <tr>\n",
       "      <th>1</th>\n",
       "      <td>500051054</td>\n",
       "      <td>Município de Almada</td>\n",
       "      <td>974822</td>\n",
       "      <td>3856/2013</td>\n",
       "      <td>Aquisição de serviços</td>\n",
       "      <td>Concurso público</td>\n",
       "      <td>Aquisição de Serviços de Fornecimento de Energ...</td>\n",
       "      <td>2014-02-07</td>\n",
       "      <td>2014-01-24</td>\n",
       "      <td>279706.00</td>\n",
       "      <td>...</td>\n",
       "      <td>Câmara Municipal de Almada</td>\n",
       "      <td>503504564</td>\n",
       "      <td>EDP Comercial, SA</td>\n",
       "      <td>1</td>\n",
       "      <td>201401</td>\n",
       "      <td>0.279706</td>\n",
       "      <td>5.446703</td>\n",
       "      <td>Almada</td>\n",
       "      <td>Almada</td>\n",
       "      <td>171 481</td>\n",
       "    </tr>\n",
       "    <tr>\n",
       "      <th>2</th>\n",
       "      <td>500051054</td>\n",
       "      <td>Município de Almada</td>\n",
       "      <td>943569</td>\n",
       "      <td>3907/2013</td>\n",
       "      <td>Empreitadas de obras públicas</td>\n",
       "      <td>Concurso público</td>\n",
       "      <td>CPN01232E - Empreitada de obras de adaptação d...</td>\n",
       "      <td>2014-01-09</td>\n",
       "      <td>2014-01-06</td>\n",
       "      <td>115953.51</td>\n",
       "      <td>...</td>\n",
       "      <td>Câmara Municipal de Almada</td>\n",
       "      <td>507909070</td>\n",
       "      <td>TEMPO ANALÓGICO, LDA.</td>\n",
       "      <td>1</td>\n",
       "      <td>201401</td>\n",
       "      <td>0.115954</td>\n",
       "      <td>5.064288</td>\n",
       "      <td>Almada</td>\n",
       "      <td>Almada</td>\n",
       "      <td>171 481</td>\n",
       "    </tr>\n",
       "    <tr>\n",
       "      <th>3</th>\n",
       "      <td>500051054</td>\n",
       "      <td>Município de Almada</td>\n",
       "      <td>966965</td>\n",
       "      <td>4580/2013</td>\n",
       "      <td>Aquisição de serviços</td>\n",
       "      <td>Concurso público</td>\n",
       "      <td>Prestação de serviços de reparação de viaturas...</td>\n",
       "      <td>2014-01-31</td>\n",
       "      <td>2014-01-27</td>\n",
       "      <td>252000.00</td>\n",
       "      <td>...</td>\n",
       "      <td>Câmara Municipal de Almada</td>\n",
       "      <td>500595909</td>\n",
       "      <td>Coopban Cooperativa de Produção Operária Metal...</td>\n",
       "      <td>1</td>\n",
       "      <td>201401</td>\n",
       "      <td>0.252000</td>\n",
       "      <td>5.401402</td>\n",
       "      <td>Almada</td>\n",
       "      <td>Almada</td>\n",
       "      <td>171 481</td>\n",
       "    </tr>\n",
       "    <tr>\n",
       "      <th>4</th>\n",
       "      <td>500051054</td>\n",
       "      <td>Município de Almada</td>\n",
       "      <td>1005419</td>\n",
       "      <td>4745/2013</td>\n",
       "      <td>Empreitadas de obras públicas</td>\n",
       "      <td>Concurso público</td>\n",
       "      <td>Concurso Público nº CPN01821E- Empreitada de o...</td>\n",
       "      <td>2014-03-13</td>\n",
       "      <td>2014-03-11</td>\n",
       "      <td>35486.19</td>\n",
       "      <td>...</td>\n",
       "      <td>Câmara Municipal de Almada</td>\n",
       "      <td>B70278528</td>\n",
       "      <td>Casdiboca, S.L.</td>\n",
       "      <td>3</td>\n",
       "      <td>201403</td>\n",
       "      <td>0.035486</td>\n",
       "      <td>4.550072</td>\n",
       "      <td>Almada</td>\n",
       "      <td>Almada</td>\n",
       "      <td>171 481</td>\n",
       "    </tr>\n",
       "  </tbody>\n",
       "</table>\n",
       "<p>5 rows × 25 columns</p>\n",
       "</div>"
      ],
      "text/plain": [
       "         NIF         Municipality  idcontrato   nAnuncio  \\\n",
       "0  500051054  Município de Almada     1048427  5137/2012   \n",
       "1  500051054  Município de Almada      974822  3856/2013   \n",
       "2  500051054  Município de Almada      943569  3907/2013   \n",
       "3  500051054  Município de Almada      966965  4580/2013   \n",
       "4  500051054  Município de Almada     1005419  4745/2013   \n",
       "\n",
       "                    tipoContrato  tipoprocedimento  \\\n",
       "0  Empreitadas de obras públicas  Concurso público   \n",
       "1          Aquisição de serviços  Concurso público   \n",
       "2  Empreitadas de obras públicas  Concurso público   \n",
       "3          Aquisição de serviços  Concurso público   \n",
       "4  Empreitadas de obras públicas  Concurso público   \n",
       "\n",
       "                                     objectoContrato dataPublicacao  \\\n",
       "0  CONSTRUÇÃO DE UM JARDIM URBANO COM ACESSOS E C...     2014-04-29   \n",
       "1  Aquisição de Serviços de Fornecimento de Energ...     2014-02-07   \n",
       "2  CPN01232E - Empreitada de obras de adaptação d...     2014-01-09   \n",
       "3  Prestação de serviços de reparação de viaturas...     2014-01-31   \n",
       "4  Concurso Público nº CPN01821E- Empreitada de o...     2014-03-13   \n",
       "\n",
       "  dataCelebracaoContrato  precoContratual  ...                  issuerName  \\\n",
       "0             2014-04-22        295000.00  ...  Câmara Municipal de Almada   \n",
       "1             2014-01-24        279706.00  ...  Câmara Municipal de Almada   \n",
       "2             2014-01-06        115953.51  ...  Câmara Municipal de Almada   \n",
       "3             2014-01-27        252000.00  ...  Câmara Municipal de Almada   \n",
       "4             2014-03-11         35486.19  ...  Câmara Municipal de Almada   \n",
       "\n",
       "  supplierNIF                                       supplierName month  \\\n",
       "0   504338854                                       Perene, S.A.     4   \n",
       "1   503504564                                  EDP Comercial, SA     1   \n",
       "2   507909070                              TEMPO ANALÓGICO, LDA.     1   \n",
       "3   500595909  Coopban Cooperativa de Produção Operária Metal...     1   \n",
       "4   B70278528                                    Casdiboca, S.L.     3   \n",
       "\n",
       "  monthyear precoContratual_M logprecoContratual Municip_Key  Location  \\\n",
       "0    201404          0.295000           5.469823      Almada    Almada   \n",
       "1    201401          0.279706           5.446703      Almada    Almada   \n",
       "2    201401          0.115954           5.064288      Almada    Almada   \n",
       "3    201401          0.252000           5.401402      Almada    Almada   \n",
       "4    201403          0.035486           4.550072      Almada    Almada   \n",
       "\n",
       "   Population  \n",
       "0     171 481  \n",
       "1     171 481  \n",
       "2     171 481  \n",
       "3     171 481  \n",
       "4     171 481  \n",
       "\n",
       "[5 rows x 25 columns]"
      ]
     },
     "execution_count": 74,
     "metadata": {},
     "output_type": "execute_result"
    }
   ],
   "source": [
    "df_mproc_pop.head()"
   ]
  },
  {
   "cell_type": "code",
   "execution_count": 75,
   "metadata": {},
   "outputs": [
    {
     "data": {
      "text/plain": [
       "0"
      ]
     },
     "execution_count": 75,
     "metadata": {},
     "output_type": "execute_result"
    }
   ],
   "source": [
    "## 0 nans: the merge was successfull\n",
    "df_mproc_pop['Population'].isna().sum()"
   ]
  },
  {
   "cell_type": "code",
   "execution_count": 76,
   "metadata": {},
   "outputs": [],
   "source": [
    "#NIF; Municipality Name; Population Size; Number of Issued Procurements; Total Value of Issued Procurements.\n",
    "data_pop = df_mproc_pop.groupby(['NIF','Municipality','Population'], as_index=False).precoContratual.agg(['count', 'sum']).reset_index()"
   ]
  },
  {
   "cell_type": "code",
   "execution_count": 77,
   "metadata": {},
   "outputs": [
    {
     "data": {
      "text/html": [
       "<div>\n",
       "<style scoped>\n",
       "    .dataframe tbody tr th:only-of-type {\n",
       "        vertical-align: middle;\n",
       "    }\n",
       "\n",
       "    .dataframe tbody tr th {\n",
       "        vertical-align: top;\n",
       "    }\n",
       "\n",
       "    .dataframe thead th {\n",
       "        text-align: right;\n",
       "    }\n",
       "</style>\n",
       "<table border=\"1\" class=\"dataframe\">\n",
       "  <thead>\n",
       "    <tr style=\"text-align: right;\">\n",
       "      <th></th>\n",
       "      <th>NIF</th>\n",
       "      <th>Municipality</th>\n",
       "      <th>Population</th>\n",
       "      <th>Number_Procurements_Issued</th>\n",
       "      <th>Total_Value_Issued</th>\n",
       "    </tr>\n",
       "  </thead>\n",
       "  <tbody>\n",
       "    <tr>\n",
       "      <th>0</th>\n",
       "      <td>500051054</td>\n",
       "      <td>Município de Almada</td>\n",
       "      <td>171 481</td>\n",
       "      <td>725</td>\n",
       "      <td>2.793470e+07</td>\n",
       "    </tr>\n",
       "    <tr>\n",
       "      <th>1</th>\n",
       "      <td>500051062</td>\n",
       "      <td>Município de Sintra</td>\n",
       "      <td>379 860</td>\n",
       "      <td>710</td>\n",
       "      <td>5.900182e+07</td>\n",
       "    </tr>\n",
       "    <tr>\n",
       "      <th>2</th>\n",
       "      <td>500051070</td>\n",
       "      <td>Município de Lisboa</td>\n",
       "      <td>520 549</td>\n",
       "      <td>2861</td>\n",
       "      <td>2.001943e+08</td>\n",
       "    </tr>\n",
       "    <tr>\n",
       "      <th>3</th>\n",
       "      <td>500745773</td>\n",
       "      <td>Município de Alcanena</td>\n",
       "      <td>13 490</td>\n",
       "      <td>66</td>\n",
       "      <td>2.706821e+06</td>\n",
       "    </tr>\n",
       "    <tr>\n",
       "      <th>4</th>\n",
       "      <td>500745943</td>\n",
       "      <td>Município de Oeiras</td>\n",
       "      <td>172 689</td>\n",
       "      <td>1062</td>\n",
       "      <td>6.120665e+07</td>\n",
       "    </tr>\n",
       "    <tr>\n",
       "      <th>...</th>\n",
       "      <td>...</td>\n",
       "      <td>...</td>\n",
       "      <td>...</td>\n",
       "      <td>...</td>\n",
       "      <td>...</td>\n",
       "    </tr>\n",
       "    <tr>\n",
       "      <th>303</th>\n",
       "      <td>512074410</td>\n",
       "      <td>Município de Lagoa - Açores</td>\n",
       "      <td>14 636</td>\n",
       "      <td>116</td>\n",
       "      <td>2.233646e+06</td>\n",
       "    </tr>\n",
       "    <tr>\n",
       "      <th>304</th>\n",
       "      <td>512074771</td>\n",
       "      <td>Município de São Roque do Pico</td>\n",
       "      <td>3 371</td>\n",
       "      <td>36</td>\n",
       "      <td>1.605109e+06</td>\n",
       "    </tr>\n",
       "    <tr>\n",
       "      <th>305</th>\n",
       "      <td>512074836</td>\n",
       "      <td>Município de Lajes das Flores</td>\n",
       "      <td>1 527</td>\n",
       "      <td>20</td>\n",
       "      <td>4.843389e+06</td>\n",
       "    </tr>\n",
       "    <tr>\n",
       "      <th>306</th>\n",
       "      <td>512075506</td>\n",
       "      <td>Município das Velas</td>\n",
       "      <td>5 347</td>\n",
       "      <td>29</td>\n",
       "      <td>2.369482e+06</td>\n",
       "    </tr>\n",
       "    <tr>\n",
       "      <th>307</th>\n",
       "      <td>512079110</td>\n",
       "      <td>Município de Santa Cruz das Flores</td>\n",
       "      <td>2 248</td>\n",
       "      <td>26</td>\n",
       "      <td>1.858503e+06</td>\n",
       "    </tr>\n",
       "  </tbody>\n",
       "</table>\n",
       "<p>308 rows × 5 columns</p>\n",
       "</div>"
      ],
      "text/plain": [
       "           NIF                        Municipality Population  \\\n",
       "0    500051054                 Município de Almada    171 481   \n",
       "1    500051062                 Município de Sintra    379 860   \n",
       "2    500051070                 Município de Lisboa    520 549   \n",
       "3    500745773               Município de Alcanena     13 490   \n",
       "4    500745943                 Município de Oeiras    172 689   \n",
       "..         ...                                 ...        ...   \n",
       "303  512074410         Município de Lagoa - Açores     14 636   \n",
       "304  512074771      Município de São Roque do Pico      3 371   \n",
       "305  512074836       Município de Lajes das Flores      1 527   \n",
       "306  512075506                 Município das Velas      5 347   \n",
       "307  512079110  Município de Santa Cruz das Flores      2 248   \n",
       "\n",
       "     Number_Procurements_Issued  Total_Value_Issued  \n",
       "0                           725        2.793470e+07  \n",
       "1                           710        5.900182e+07  \n",
       "2                          2861        2.001943e+08  \n",
       "3                            66        2.706821e+06  \n",
       "4                          1062        6.120665e+07  \n",
       "..                          ...                 ...  \n",
       "303                         116        2.233646e+06  \n",
       "304                          36        1.605109e+06  \n",
       "305                          20        4.843389e+06  \n",
       "306                          29        2.369482e+06  \n",
       "307                          26        1.858503e+06  \n",
       "\n",
       "[308 rows x 5 columns]"
      ]
     },
     "execution_count": 77,
     "metadata": {},
     "output_type": "execute_result"
    }
   ],
   "source": [
    "data_pop = data_pop.rename(columns ={'count':'Number_Procurements_Issued', 'sum':'Total_Value_Issued'})\n",
    "data_pop"
   ]
  },
  {
   "cell_type": "markdown",
   "metadata": {},
   "source": [
    "3. It is common procedure to compare not the absolute values of the different dimensions but their Logarithm. In that sense, create three new columns in your dataframe that correspond to: <br>\n",
    "    i) The Logarithm of base 10 of the Total Value of Issue Procurements; <br>\n",
    "    ii) Number of Issued Procurements; <br>\n",
    "    iii) Population Size."
   ]
  },
  {
   "cell_type": "code",
   "execution_count": 78,
   "metadata": {},
   "outputs": [],
   "source": [
    "# removing whitespaces in Population\n",
    "data_pop['Population'] = data_pop['Population'].apply(lambda x: str(x).replace(' ', '')).astype(int)"
   ]
  },
  {
   "cell_type": "code",
   "execution_count": 79,
   "metadata": {},
   "outputs": [],
   "source": [
    "data_pop['logTotal_Value'] = data_pop['Total_Value_Issued'].map(lambda x: np.log10(x+1))\n",
    "data_pop['logNumber_Procurements'] = data_pop['Number_Procurements_Issued'].map(lambda x: np.log10(x+1))\n",
    "data_pop['logPopulation'] = data_pop['Population'].astype(float).map(lambda x: np.log10(x+1))"
   ]
  },
  {
   "cell_type": "code",
   "execution_count": 80,
   "metadata": {},
   "outputs": [
    {
     "data": {
      "text/html": [
       "<div>\n",
       "<style scoped>\n",
       "    .dataframe tbody tr th:only-of-type {\n",
       "        vertical-align: middle;\n",
       "    }\n",
       "\n",
       "    .dataframe tbody tr th {\n",
       "        vertical-align: top;\n",
       "    }\n",
       "\n",
       "    .dataframe thead th {\n",
       "        text-align: right;\n",
       "    }\n",
       "</style>\n",
       "<table border=\"1\" class=\"dataframe\">\n",
       "  <thead>\n",
       "    <tr style=\"text-align: right;\">\n",
       "      <th></th>\n",
       "      <th>NIF</th>\n",
       "      <th>Municipality</th>\n",
       "      <th>Population</th>\n",
       "      <th>Number_Procurements_Issued</th>\n",
       "      <th>Total_Value_Issued</th>\n",
       "      <th>logTotal_Value</th>\n",
       "      <th>logNumber_Procurements</th>\n",
       "      <th>logPopulation</th>\n",
       "    </tr>\n",
       "  </thead>\n",
       "  <tbody>\n",
       "    <tr>\n",
       "      <th>0</th>\n",
       "      <td>500051054</td>\n",
       "      <td>Município de Almada</td>\n",
       "      <td>171481</td>\n",
       "      <td>725</td>\n",
       "      <td>2.793470e+07</td>\n",
       "      <td>7.446144</td>\n",
       "      <td>2.860937</td>\n",
       "      <td>5.234219</td>\n",
       "    </tr>\n",
       "    <tr>\n",
       "      <th>1</th>\n",
       "      <td>500051062</td>\n",
       "      <td>Município de Sintra</td>\n",
       "      <td>379860</td>\n",
       "      <td>710</td>\n",
       "      <td>5.900182e+07</td>\n",
       "      <td>7.770865</td>\n",
       "      <td>2.851870</td>\n",
       "      <td>5.579625</td>\n",
       "    </tr>\n",
       "    <tr>\n",
       "      <th>2</th>\n",
       "      <td>500051070</td>\n",
       "      <td>Município de Lisboa</td>\n",
       "      <td>520549</td>\n",
       "      <td>2861</td>\n",
       "      <td>2.001943e+08</td>\n",
       "      <td>8.301452</td>\n",
       "      <td>3.456670</td>\n",
       "      <td>5.716462</td>\n",
       "    </tr>\n",
       "    <tr>\n",
       "      <th>3</th>\n",
       "      <td>500745773</td>\n",
       "      <td>Município de Alcanena</td>\n",
       "      <td>13490</td>\n",
       "      <td>66</td>\n",
       "      <td>2.706821e+06</td>\n",
       "      <td>6.432460</td>\n",
       "      <td>1.826075</td>\n",
       "      <td>4.130044</td>\n",
       "    </tr>\n",
       "    <tr>\n",
       "      <th>4</th>\n",
       "      <td>500745943</td>\n",
       "      <td>Município de Oeiras</td>\n",
       "      <td>172689</td>\n",
       "      <td>1062</td>\n",
       "      <td>6.120665e+07</td>\n",
       "      <td>7.786799</td>\n",
       "      <td>3.026533</td>\n",
       "      <td>5.237267</td>\n",
       "    </tr>\n",
       "  </tbody>\n",
       "</table>\n",
       "</div>"
      ],
      "text/plain": [
       "         NIF           Municipality  Population  Number_Procurements_Issued  \\\n",
       "0  500051054    Município de Almada      171481                         725   \n",
       "1  500051062    Município de Sintra      379860                         710   \n",
       "2  500051070    Município de Lisboa      520549                        2861   \n",
       "3  500745773  Município de Alcanena       13490                          66   \n",
       "4  500745943    Município de Oeiras      172689                        1062   \n",
       "\n",
       "   Total_Value_Issued  logTotal_Value  logNumber_Procurements  logPopulation  \n",
       "0        2.793470e+07        7.446144                2.860937       5.234219  \n",
       "1        5.900182e+07        7.770865                2.851870       5.579625  \n",
       "2        2.001943e+08        8.301452                3.456670       5.716462  \n",
       "3        2.706821e+06        6.432460                1.826075       4.130044  \n",
       "4        6.120665e+07        7.786799                3.026533       5.237267  "
      ]
     },
     "execution_count": 80,
     "metadata": {},
     "output_type": "execute_result"
    }
   ],
   "source": [
    "data_pop.head()"
   ]
  },
  {
   "cell_type": "markdown",
   "metadata": {},
   "source": [
    "4. Compute the pearson correlation between the municipalities Log of the Population Size with: <br>\n",
    "    i) the Log of Total Number of Issued Procurements; <br>\n",
    "    ii) the Log of the Total Value of Issued Procurements. \n",
    "    \n",
    "    Use the columns you pre computed in the previous question.\n",
    "    \n",
    "    4.1 **Make a scatter plot** for each pair of variables to assess the identified relationship."
   ]
  },
  {
   "cell_type": "code",
   "execution_count": 81,
   "metadata": {},
   "outputs": [
    {
     "data": {
      "text/html": [
       "<div>\n",
       "<style scoped>\n",
       "    .dataframe tbody tr th:only-of-type {\n",
       "        vertical-align: middle;\n",
       "    }\n",
       "\n",
       "    .dataframe tbody tr th {\n",
       "        vertical-align: top;\n",
       "    }\n",
       "\n",
       "    .dataframe thead th {\n",
       "        text-align: right;\n",
       "    }\n",
       "</style>\n",
       "<table border=\"1\" class=\"dataframe\">\n",
       "  <thead>\n",
       "    <tr style=\"text-align: right;\">\n",
       "      <th></th>\n",
       "      <th>logPopulation</th>\n",
       "      <th>logNumber_Procurements</th>\n",
       "    </tr>\n",
       "  </thead>\n",
       "  <tbody>\n",
       "    <tr>\n",
       "      <th>logPopulation</th>\n",
       "      <td>1.000000</td>\n",
       "      <td>0.700337</td>\n",
       "    </tr>\n",
       "    <tr>\n",
       "      <th>logNumber_Procurements</th>\n",
       "      <td>0.700337</td>\n",
       "      <td>1.000000</td>\n",
       "    </tr>\n",
       "  </tbody>\n",
       "</table>\n",
       "</div>"
      ],
      "text/plain": [
       "                        logPopulation  logNumber_Procurements\n",
       "logPopulation                1.000000                0.700337\n",
       "logNumber_Procurements       0.700337                1.000000"
      ]
     },
     "execution_count": 81,
     "metadata": {},
     "output_type": "execute_result"
    }
   ],
   "source": [
    "#i\n",
    "data_pop[['logPopulation','logNumber_Procurements']].corr(method='pearson')"
   ]
  },
  {
   "cell_type": "code",
   "execution_count": 82,
   "metadata": {},
   "outputs": [
    {
     "data": {
      "text/html": [
       "<div>\n",
       "<style scoped>\n",
       "    .dataframe tbody tr th:only-of-type {\n",
       "        vertical-align: middle;\n",
       "    }\n",
       "\n",
       "    .dataframe tbody tr th {\n",
       "        vertical-align: top;\n",
       "    }\n",
       "\n",
       "    .dataframe thead th {\n",
       "        text-align: right;\n",
       "    }\n",
       "</style>\n",
       "<table border=\"1\" class=\"dataframe\">\n",
       "  <thead>\n",
       "    <tr style=\"text-align: right;\">\n",
       "      <th></th>\n",
       "      <th>logPopulation</th>\n",
       "      <th>logTotal_Value</th>\n",
       "    </tr>\n",
       "  </thead>\n",
       "  <tbody>\n",
       "    <tr>\n",
       "      <th>logPopulation</th>\n",
       "      <td>1.000000</td>\n",
       "      <td>0.762824</td>\n",
       "    </tr>\n",
       "    <tr>\n",
       "      <th>logTotal_Value</th>\n",
       "      <td>0.762824</td>\n",
       "      <td>1.000000</td>\n",
       "    </tr>\n",
       "  </tbody>\n",
       "</table>\n",
       "</div>"
      ],
      "text/plain": [
       "                logPopulation  logTotal_Value\n",
       "logPopulation        1.000000        0.762824\n",
       "logTotal_Value       0.762824        1.000000"
      ]
     },
     "execution_count": 82,
     "metadata": {},
     "output_type": "execute_result"
    }
   ],
   "source": [
    "# ii\n",
    "data_pop[['logPopulation','logTotal_Value']].corr(method='pearson')"
   ]
  },
  {
   "cell_type": "code",
   "execution_count": 83,
   "metadata": {},
   "outputs": [
    {
     "data": {
      "text/plain": [
       "<Figure size 504x360 with 0 Axes>"
      ]
     },
     "metadata": {},
     "output_type": "display_data"
    },
    {
     "data": {
      "image/png": "[encoded data removed]",
      "text/plain": [
       "<Figure size 360x360 with 1 Axes>"
      ]
     },
     "metadata": {
      "needs_background": "light"
     },
     "output_type": "display_data"
    }
   ],
   "source": [
    "# 4.1\n",
    "#i\n",
    "plt.figure(figsize=(7,5))\n",
    "sns.lmplot(data=data_pop, x='logPopulation', y='logNumber_Procurements')\n",
    "plt.title('Relation between Population and Number of Procurements')\n",
    "plt.show()"
   ]
  },
  {
   "cell_type": "code",
   "execution_count": 84,
   "metadata": {},
   "outputs": [
    {
     "data": {
      "text/plain": [
       "<Figure size 504x360 with 0 Axes>"
      ]
     },
     "metadata": {},
     "output_type": "display_data"
    },
    {
     "data": {
      "image/png": "[encoded data removed]",
      "text/plain": [
       "<Figure size 360x360 with 1 Axes>"
      ]
     },
     "metadata": {
      "needs_background": "light"
     },
     "output_type": "display_data"
    }
   ],
   "source": [
    "# 4.1\n",
    "#ii\n",
    "plt.figure(figsize=(7,5))\n",
    "sns.lmplot(data=data_pop, x='logPopulation', y='logTotal_Value')\n",
    "plt.title('Relation between Population and the Total Value')\n",
    "plt.show()"
   ]
  },
  {
   "cell_type": "markdown",
   "metadata": {},
   "source": [
    "5. Can you build a linear model using the library Statsmodel that regresses the Logarithms of the Total Value of issued procurements as a funcion of the population size? What coefficient did you find? <br>\n",
    "**Tip:** You might to to look for some inspiration in the final part of Lab 7"
   ]
  },
  {
   "cell_type": "code",
   "execution_count": 85,
   "metadata": {},
   "outputs": [],
   "source": [
    "import statsmodels.api as sm"
   ]
  },
  {
   "cell_type": "code",
   "execution_count": 86,
   "metadata": {},
   "outputs": [],
   "source": [
    "data_pop['Intercept'] = 1\n",
    "X = data_pop[['Intercept','logPopulation']]\n",
    "y = data_pop['logTotal_Value']\n",
    "\n",
    "model_OLS = sm.OLS(y, X).fit()"
   ]
  },
  {
   "cell_type": "code",
   "execution_count": 87,
   "metadata": {},
   "outputs": [
    {
     "data": {
      "text/html": [
       "<table class=\"simpletable\">\n",
       "<caption>OLS Regression Results</caption>\n",
       "<tr>\n",
       "  <th>Dep. Variable:</th>     <td>logTotal_Value</td>  <th>  R-squared:         </th> <td>   0.582</td>\n",
       "</tr>\n",
       "<tr>\n",
       "  <th>Model:</th>                   <td>OLS</td>       <th>  Adj. R-squared:    </th> <td>   0.581</td>\n",
       "</tr>\n",
       "<tr>\n",
       "  <th>Method:</th>             <td>Least Squares</td>  <th>  F-statistic:       </th> <td>   425.9</td>\n",
       "</tr>\n",
       "<tr>\n",
       "  <th>Date:</th>             <td>Fri, 29 Oct 2021</td> <th>  Prob (F-statistic):</th> <td>6.78e-60</td>\n",
       "</tr>\n",
       "<tr>\n",
       "  <th>Time:</th>                 <td>19:08:14</td>     <th>  Log-Likelihood:    </th> <td> -47.798</td>\n",
       "</tr>\n",
       "<tr>\n",
       "  <th>No. Observations:</th>      <td>   308</td>      <th>  AIC:               </th> <td>   99.60</td>\n",
       "</tr>\n",
       "<tr>\n",
       "  <th>Df Residuals:</th>          <td>   306</td>      <th>  BIC:               </th> <td>   107.1</td>\n",
       "</tr>\n",
       "<tr>\n",
       "  <th>Df Model:</th>              <td>     1</td>      <th>                     </th>     <td> </td>   \n",
       "</tr>\n",
       "<tr>\n",
       "  <th>Covariance Type:</th>      <td>nonrobust</td>    <th>                     </th>     <td> </td>   \n",
       "</tr>\n",
       "</table>\n",
       "<table class=\"simpletable\">\n",
       "<tr>\n",
       "        <td></td>           <th>coef</th>     <th>std err</th>      <th>t</th>      <th>P>|t|</th>  <th>[0.025</th>    <th>0.975]</th>  \n",
       "</tr>\n",
       "<tr>\n",
       "  <th>Intercept</th>     <td>    3.9685</td> <td>    0.138</td> <td>   28.762</td> <td> 0.000</td> <td>    3.697</td> <td>    4.240</td>\n",
       "</tr>\n",
       "<tr>\n",
       "  <th>logPopulation</th> <td>    0.6703</td> <td>    0.032</td> <td>   20.637</td> <td> 0.000</td> <td>    0.606</td> <td>    0.734</td>\n",
       "</tr>\n",
       "</table>\n",
       "<table class=\"simpletable\">\n",
       "<tr>\n",
       "  <th>Omnibus:</th>       <td>25.731</td> <th>  Durbin-Watson:     </th> <td>   1.845</td>\n",
       "</tr>\n",
       "<tr>\n",
       "  <th>Prob(Omnibus):</th> <td> 0.000</td> <th>  Jarque-Bera (JB):  </th> <td>  31.888</td>\n",
       "</tr>\n",
       "<tr>\n",
       "  <th>Skew:</th>          <td>-0.646</td> <th>  Prob(JB):          </th> <td>1.19e-07</td>\n",
       "</tr>\n",
       "<tr>\n",
       "  <th>Kurtosis:</th>      <td> 3.904</td> <th>  Cond. No.          </th> <td>    38.3</td>\n",
       "</tr>\n",
       "</table><br/><br/>Notes:<br/>[1] Standard Errors assume that the covariance matrix of the errors is correctly specified."
      ],
      "text/plain": [
       "<class 'statsmodels.iolib.summary.Summary'>\n",
       "\"\"\"\n",
       "                            OLS Regression Results                            \n",
       "==============================================================================\n",
       "Dep. Variable:         logTotal_Value   R-squared:                       0.582\n",
       "Model:                            OLS   Adj. R-squared:                  0.581\n",
       "Method:                 Least Squares   F-statistic:                     425.9\n",
       "Date:                Fri, 29 Oct 2021   Prob (F-statistic):           6.78e-60\n",
       "Time:                        19:08:14   Log-Likelihood:                -47.798\n",
       "No. Observations:                 308   AIC:                             99.60\n",
       "Df Residuals:                     306   BIC:                             107.1\n",
       "Df Model:                           1                                         \n",
       "Covariance Type:            nonrobust                                         \n",
       "=================================================================================\n",
       "                    coef    std err          t      P>|t|      [0.025      0.975]\n",
       "---------------------------------------------------------------------------------\n",
       "Intercept         3.9685      0.138     28.762      0.000       3.697       4.240\n",
       "logPopulation     0.6703      0.032     20.637      0.000       0.606       0.734\n",
       "==============================================================================\n",
       "Omnibus:                       25.731   Durbin-Watson:                   1.845\n",
       "Prob(Omnibus):                  0.000   Jarque-Bera (JB):               31.888\n",
       "Skew:                          -0.646   Prob(JB):                     1.19e-07\n",
       "Kurtosis:                       3.904   Cond. No.                         38.3\n",
       "==============================================================================\n",
       "\n",
       "Notes:\n",
       "[1] Standard Errors assume that the covariance matrix of the errors is correctly specified.\n",
       "\"\"\""
      ]
     },
     "execution_count": 87,
     "metadata": {},
     "output_type": "execute_result"
    }
   ],
   "source": [
    "model_OLS.summary()"
   ]
  },
  {
   "cell_type": "markdown",
   "metadata": {},
   "source": [
    "<b>R:</b> Population size has a coef ~ 0.7. This means that by each 1% increase in population size we expect the total value of the contracts will increase by 0.7 percentual points, ceteris paribus."
   ]
  },
  {
   "cell_type": "markdown",
   "metadata": {},
   "source": [
    "6. What if instead of the Total Value of issued procurments you had the Value per capita (per capita means per person in the local population)? How would that impact the results in points 6.4 and 6.5?<br>\n"
   ]
  },
  {
   "cell_type": "code",
   "execution_count": 88,
   "metadata": {},
   "outputs": [],
   "source": [
    "data_pop['Total_Value_percapita'] = data_pop['Total_Value_Issued']/data_pop['Population']\n",
    "data_pop['logTotal_Value_percapita'] = data_pop['Total_Value_percapita'].map(lambda x: np.log10(x+1))"
   ]
  },
  {
   "cell_type": "code",
   "execution_count": 89,
   "metadata": {},
   "outputs": [
    {
     "data": {
      "text/html": [
       "<div>\n",
       "<style scoped>\n",
       "    .dataframe tbody tr th:only-of-type {\n",
       "        vertical-align: middle;\n",
       "    }\n",
       "\n",
       "    .dataframe tbody tr th {\n",
       "        vertical-align: top;\n",
       "    }\n",
       "\n",
       "    .dataframe thead th {\n",
       "        text-align: right;\n",
       "    }\n",
       "</style>\n",
       "<table border=\"1\" class=\"dataframe\">\n",
       "  <thead>\n",
       "    <tr style=\"text-align: right;\">\n",
       "      <th></th>\n",
       "      <th>NIF</th>\n",
       "      <th>Municipality</th>\n",
       "      <th>Population</th>\n",
       "      <th>Number_Procurements_Issued</th>\n",
       "      <th>Total_Value_Issued</th>\n",
       "      <th>logTotal_Value</th>\n",
       "      <th>logNumber_Procurements</th>\n",
       "      <th>logPopulation</th>\n",
       "      <th>Intercept</th>\n",
       "      <th>Total_Value_percapita</th>\n",
       "      <th>logTotal_Value_percapita</th>\n",
       "    </tr>\n",
       "  </thead>\n",
       "  <tbody>\n",
       "    <tr>\n",
       "      <th>0</th>\n",
       "      <td>500051054</td>\n",
       "      <td>Município de Almada</td>\n",
       "      <td>171481</td>\n",
       "      <td>725</td>\n",
       "      <td>2.793470e+07</td>\n",
       "      <td>7.446144</td>\n",
       "      <td>2.860937</td>\n",
       "      <td>5.234219</td>\n",
       "      <td>1</td>\n",
       "      <td>162.902592</td>\n",
       "      <td>2.214586</td>\n",
       "    </tr>\n",
       "    <tr>\n",
       "      <th>1</th>\n",
       "      <td>500051062</td>\n",
       "      <td>Município de Sintra</td>\n",
       "      <td>379860</td>\n",
       "      <td>710</td>\n",
       "      <td>5.900182e+07</td>\n",
       "      <td>7.770865</td>\n",
       "      <td>2.851870</td>\n",
       "      <td>5.579625</td>\n",
       "      <td>1</td>\n",
       "      <td>155.325168</td>\n",
       "      <td>2.194029</td>\n",
       "    </tr>\n",
       "    <tr>\n",
       "      <th>2</th>\n",
       "      <td>500051070</td>\n",
       "      <td>Município de Lisboa</td>\n",
       "      <td>520549</td>\n",
       "      <td>2861</td>\n",
       "      <td>2.001943e+08</td>\n",
       "      <td>8.301452</td>\n",
       "      <td>3.456670</td>\n",
       "      <td>5.716462</td>\n",
       "      <td>1</td>\n",
       "      <td>384.583089</td>\n",
       "      <td>2.586118</td>\n",
       "    </tr>\n",
       "  </tbody>\n",
       "</table>\n",
       "</div>"
      ],
      "text/plain": [
       "         NIF         Municipality  Population  Number_Procurements_Issued  \\\n",
       "0  500051054  Município de Almada      171481                         725   \n",
       "1  500051062  Município de Sintra      379860                         710   \n",
       "2  500051070  Município de Lisboa      520549                        2861   \n",
       "\n",
       "   Total_Value_Issued  logTotal_Value  logNumber_Procurements  logPopulation  \\\n",
       "0        2.793470e+07        7.446144                2.860937       5.234219   \n",
       "1        5.900182e+07        7.770865                2.851870       5.579625   \n",
       "2        2.001943e+08        8.301452                3.456670       5.716462   \n",
       "\n",
       "   Intercept  Total_Value_percapita  logTotal_Value_percapita  \n",
       "0          1             162.902592                  2.214586  \n",
       "1          1             155.325168                  2.194029  \n",
       "2          1             384.583089                  2.586118  "
      ]
     },
     "execution_count": 89,
     "metadata": {},
     "output_type": "execute_result"
    }
   ],
   "source": [
    "data_pop.head(3)"
   ]
  },
  {
   "cell_type": "code",
   "execution_count": 90,
   "metadata": {},
   "outputs": [
    {
     "data": {
      "text/plain": [
       "<Figure size 504x360 with 0 Axes>"
      ]
     },
     "metadata": {},
     "output_type": "display_data"
    },
    {
     "data": {
      "image/png": "[encoded data removed]",
      "text/plain": [
       "<Figure size 360x360 with 1 Axes>"
      ]
     },
     "metadata": {
      "needs_background": "light"
     },
     "output_type": "display_data"
    }
   ],
   "source": [
    "plt.figure(figsize=(7,5))\n",
    "sns.lmplot(data=data_pop, x='logPopulation', y='logTotal_Value_percapita')\n",
    "plt.title('Relation between Population and the Total Value per capita')\n",
    "plt.show()"
   ]
  },
  {
   "cell_type": "code",
   "execution_count": 91,
   "metadata": {},
   "outputs": [],
   "source": [
    "y2 = data_pop['logTotal_Value_percapita']"
   ]
  },
  {
   "cell_type": "code",
   "execution_count": 92,
   "metadata": {},
   "outputs": [],
   "source": [
    "model_OLS2 = sm.OLS(y2, X).fit()"
   ]
  },
  {
   "cell_type": "code",
   "execution_count": 93,
   "metadata": {},
   "outputs": [
    {
     "data": {
      "text/html": [
       "<table class=\"simpletable\">\n",
       "<caption>OLS Regression Results</caption>\n",
       "<tr>\n",
       "  <th>Dep. Variable:</th>    <td>logTotal_Value_percapita</td> <th>  R-squared:         </th> <td>   0.252</td>\n",
       "</tr>\n",
       "<tr>\n",
       "  <th>Model:</th>                       <td>OLS</td>           <th>  Adj. R-squared:    </th> <td>   0.250</td>\n",
       "</tr>\n",
       "<tr>\n",
       "  <th>Method:</th>                 <td>Least Squares</td>      <th>  F-statistic:       </th> <td>   103.3</td>\n",
       "</tr>\n",
       "<tr>\n",
       "  <th>Date:</th>                 <td>Fri, 29 Oct 2021</td>     <th>  Prob (F-statistic):</th> <td>4.26e-21</td>\n",
       "</tr>\n",
       "<tr>\n",
       "  <th>Time:</th>                     <td>19:08:19</td>         <th>  Log-Likelihood:    </th> <td> -46.698</td>\n",
       "</tr>\n",
       "<tr>\n",
       "  <th>No. Observations:</th>          <td>   308</td>          <th>  AIC:               </th> <td>   97.40</td>\n",
       "</tr>\n",
       "<tr>\n",
       "  <th>Df Residuals:</th>              <td>   306</td>          <th>  BIC:               </th> <td>   104.9</td>\n",
       "</tr>\n",
       "<tr>\n",
       "  <th>Df Model:</th>                  <td>     1</td>          <th>                     </th>     <td> </td>   \n",
       "</tr>\n",
       "<tr>\n",
       "  <th>Covariance Type:</th>          <td>nonrobust</td>        <th>                     </th>     <td> </td>   \n",
       "</tr>\n",
       "</table>\n",
       "<table class=\"simpletable\">\n",
       "<tr>\n",
       "        <td></td>           <th>coef</th>     <th>std err</th>      <th>t</th>      <th>P>|t|</th>  <th>[0.025</th>    <th>0.975]</th>  \n",
       "</tr>\n",
       "<tr>\n",
       "  <th>Intercept</th>     <td>    3.9670</td> <td>    0.137</td> <td>   28.854</td> <td> 0.000</td> <td>    3.696</td> <td>    4.238</td>\n",
       "</tr>\n",
       "<tr>\n",
       "  <th>logPopulation</th> <td>   -0.3289</td> <td>    0.032</td> <td>  -10.163</td> <td> 0.000</td> <td>   -0.393</td> <td>   -0.265</td>\n",
       "</tr>\n",
       "</table>\n",
       "<table class=\"simpletable\">\n",
       "<tr>\n",
       "  <th>Omnibus:</th>       <td>25.269</td> <th>  Durbin-Watson:     </th> <td>   1.845</td>\n",
       "</tr>\n",
       "<tr>\n",
       "  <th>Prob(Omnibus):</th> <td> 0.000</td> <th>  Jarque-Bera (JB):  </th> <td>  31.168</td>\n",
       "</tr>\n",
       "<tr>\n",
       "  <th>Skew:</th>          <td>-0.639</td> <th>  Prob(JB):          </th> <td>1.71e-07</td>\n",
       "</tr>\n",
       "<tr>\n",
       "  <th>Kurtosis:</th>      <td> 3.893</td> <th>  Cond. No.          </th> <td>    38.3</td>\n",
       "</tr>\n",
       "</table><br/><br/>Notes:<br/>[1] Standard Errors assume that the covariance matrix of the errors is correctly specified."
      ],
      "text/plain": [
       "<class 'statsmodels.iolib.summary.Summary'>\n",
       "\"\"\"\n",
       "                               OLS Regression Results                               \n",
       "====================================================================================\n",
       "Dep. Variable:     logTotal_Value_percapita   R-squared:                       0.252\n",
       "Model:                                  OLS   Adj. R-squared:                  0.250\n",
       "Method:                       Least Squares   F-statistic:                     103.3\n",
       "Date:                      Fri, 29 Oct 2021   Prob (F-statistic):           4.26e-21\n",
       "Time:                              19:08:19   Log-Likelihood:                -46.698\n",
       "No. Observations:                       308   AIC:                             97.40\n",
       "Df Residuals:                           306   BIC:                             104.9\n",
       "Df Model:                                 1                                         \n",
       "Covariance Type:                  nonrobust                                         \n",
       "=================================================================================\n",
       "                    coef    std err          t      P>|t|      [0.025      0.975]\n",
       "---------------------------------------------------------------------------------\n",
       "Intercept         3.9670      0.137     28.854      0.000       3.696       4.238\n",
       "logPopulation    -0.3289      0.032    -10.163      0.000      -0.393      -0.265\n",
       "==============================================================================\n",
       "Omnibus:                       25.269   Durbin-Watson:                   1.845\n",
       "Prob(Omnibus):                  0.000   Jarque-Bera (JB):               31.168\n",
       "Skew:                          -0.639   Prob(JB):                     1.71e-07\n",
       "Kurtosis:                       3.893   Cond. No.                         38.3\n",
       "==============================================================================\n",
       "\n",
       "Notes:\n",
       "[1] Standard Errors assume that the covariance matrix of the errors is correctly specified.\n",
       "\"\"\""
      ]
     },
     "execution_count": 93,
     "metadata": {},
     "output_type": "execute_result"
    }
   ],
   "source": [
    "model_OLS2.summary()"
   ]
  },
  {
   "cell_type": "markdown",
   "metadata": {},
   "source": [
    "<b>R:</b> The direction of the relationship changed from positive to negative, ie. the increase in population size has a negative effect on contract value per capita. Now by each 1% increase in population size we expect total value per capita to deacrese by 0.33 percentual points, ceteris paribus. "
   ]
  },
  {
   "cell_type": "markdown",
   "metadata": {},
   "source": [
    "<b>[Step 7. | 2 point ]</b> Open Question. <br>\n",
    "Given the dataset you have been exploring, and the analysis conducted over the municipalities procurement dataset with the population data. Can you think about a question that you consider interesting to explore? Does it require to obtain additional data from, for instance, pordata?\n",
    "\n",
    "**On this final step you have full control. Be creative and show us your ability to raise a question, identify which data you require to explore it, and report the results. Be as objective and clear as possible with your answer.**\n",
    "\n",
    "Use as many cells as necessary."
   ]
  },
  {
   "cell_type": "code",
   "execution_count": 94,
   "metadata": {},
   "outputs": [],
   "source": [
    "df_2009 = pd.read_excel('pordata_votos_2009.xlsx', sheet_name = 'Votos')\n",
    "df_2013 = pd.read_excel('pordata_votos_2013.xlsx', sheet_name = 'Votos')"
   ]
  },
  {
   "cell_type": "code",
   "execution_count": 100,
   "metadata": {},
   "outputs": [],
   "source": [
    "df_2009.set_index('Municipios', inplace=True)"
   ]
  },
  {
   "cell_type": "code",
   "execution_count": 110,
   "metadata": {},
   "outputs": [],
   "source": [
    "df_posse = pd.DataFrame(df_2009.idxmax(axis=1), columns=['Partido_Posse'])"
   ]
  },
  {
   "cell_type": "code",
   "execution_count": 111,
   "metadata": {},
   "outputs": [
    {
     "data": {
      "text/html": [
       "<div>\n",
       "<style scoped>\n",
       "    .dataframe tbody tr th:only-of-type {\n",
       "        vertical-align: middle;\n",
       "    }\n",
       "\n",
       "    .dataframe tbody tr th {\n",
       "        vertical-align: top;\n",
       "    }\n",
       "\n",
       "    .dataframe thead th {\n",
       "        text-align: right;\n",
       "    }\n",
       "</style>\n",
       "<table border=\"1\" class=\"dataframe\">\n",
       "  <thead>\n",
       "    <tr style=\"text-align: right;\">\n",
       "      <th></th>\n",
       "      <th>Partido_Posse</th>\n",
       "    </tr>\n",
       "    <tr>\n",
       "      <th>Municipios</th>\n",
       "      <th></th>\n",
       "    </tr>\n",
       "  </thead>\n",
       "  <tbody>\n",
       "    <tr>\n",
       "      <th>Arcos de Valdevez</th>\n",
       "      <td>PPD/PSD</td>\n",
       "    </tr>\n",
       "    <tr>\n",
       "      <th>Caminha</th>\n",
       "      <td>PPD/PSD</td>\n",
       "    </tr>\n",
       "    <tr>\n",
       "      <th>Melgaço</th>\n",
       "      <td>PS</td>\n",
       "    </tr>\n",
       "    <tr>\n",
       "      <th>Monção</th>\n",
       "      <td>PS</td>\n",
       "    </tr>\n",
       "    <tr>\n",
       "      <th>Paredes de Coura</th>\n",
       "      <td>PS</td>\n",
       "    </tr>\n",
       "    <tr>\n",
       "      <th>...</th>\n",
       "      <td>...</td>\n",
       "    </tr>\n",
       "    <tr>\n",
       "      <th>Ribeira Brava</th>\n",
       "      <td>PPD/PSD</td>\n",
       "    </tr>\n",
       "    <tr>\n",
       "      <th>Santa Cruz</th>\n",
       "      <td>PPD/PSD</td>\n",
       "    </tr>\n",
       "    <tr>\n",
       "      <th>Santana</th>\n",
       "      <td>PPD/PSD</td>\n",
       "    </tr>\n",
       "    <tr>\n",
       "      <th>São Vicente</th>\n",
       "      <td>PPD/PSD</td>\n",
       "    </tr>\n",
       "    <tr>\n",
       "      <th>Porto Santo</th>\n",
       "      <td>PPD/PSD</td>\n",
       "    </tr>\n",
       "  </tbody>\n",
       "</table>\n",
       "<p>308 rows × 1 columns</p>\n",
       "</div>"
      ],
      "text/plain": [
       "                  Partido_Posse\n",
       "Municipios                     \n",
       "Arcos de Valdevez       PPD/PSD\n",
       "Caminha                 PPD/PSD\n",
       "Melgaço                      PS\n",
       "Monção                       PS\n",
       "Paredes de Coura             PS\n",
       "...                         ...\n",
       "Ribeira Brava           PPD/PSD\n",
       "Santa Cruz              PPD/PSD\n",
       "Santana                 PPD/PSD\n",
       "São Vicente             PPD/PSD\n",
       "Porto Santo             PPD/PSD\n",
       "\n",
       "[308 rows x 1 columns]"
      ]
     },
     "execution_count": 111,
     "metadata": {},
     "output_type": "execute_result"
    }
   ],
   "source": [
    "df_posse"
   ]
  },
  {
   "cell_type": "code",
   "execution_count": 112,
   "metadata": {},
   "outputs": [],
   "source": [
    "df_2013.set_index('Municipios', inplace=True)"
   ]
  },
  {
   "cell_type": "code",
   "execution_count": 113,
   "metadata": {},
   "outputs": [],
   "source": [
    "df_posse2 = pd.DataFrame(df_2013.idxmax(axis=1), columns=['Partido_Vencedor'])"
   ]
  },
  {
   "cell_type": "code",
   "execution_count": 119,
   "metadata": {},
   "outputs": [
    {
     "data": {
      "text/html": [
       "<div>\n",
       "<style scoped>\n",
       "    .dataframe tbody tr th:only-of-type {\n",
       "        vertical-align: middle;\n",
       "    }\n",
       "\n",
       "    .dataframe tbody tr th {\n",
       "        vertical-align: top;\n",
       "    }\n",
       "\n",
       "    .dataframe thead th {\n",
       "        text-align: right;\n",
       "    }\n",
       "</style>\n",
       "<table border=\"1\" class=\"dataframe\">\n",
       "  <thead>\n",
       "    <tr style=\"text-align: right;\">\n",
       "      <th></th>\n",
       "      <th>NIF</th>\n",
       "      <th>Municipality</th>\n",
       "      <th>idcontrato</th>\n",
       "      <th>nAnuncio</th>\n",
       "      <th>tipoContrato</th>\n",
       "      <th>tipoprocedimento</th>\n",
       "      <th>objectoContrato</th>\n",
       "      <th>dataPublicacao</th>\n",
       "      <th>dataCelebracaoContrato</th>\n",
       "      <th>precoContratual</th>\n",
       "      <th>...</th>\n",
       "      <th>issuerName</th>\n",
       "      <th>supplierNIF</th>\n",
       "      <th>supplierName</th>\n",
       "      <th>month</th>\n",
       "      <th>monthyear</th>\n",
       "      <th>precoContratual_M</th>\n",
       "      <th>logprecoContratual</th>\n",
       "      <th>Municip_Key</th>\n",
       "      <th>Location</th>\n",
       "      <th>Population</th>\n",
       "    </tr>\n",
       "  </thead>\n",
       "  <tbody>\n",
       "    <tr>\n",
       "      <th>0</th>\n",
       "      <td>500051054</td>\n",
       "      <td>Município de Almada</td>\n",
       "      <td>1048427</td>\n",
       "      <td>5137/2012</td>\n",
       "      <td>Empreitadas de obras públicas</td>\n",
       "      <td>Concurso público</td>\n",
       "      <td>CONSTRUÇÃO DE UM JARDIM URBANO COM ACESSOS E C...</td>\n",
       "      <td>2014-04-29</td>\n",
       "      <td>2014-04-22</td>\n",
       "      <td>295000.00</td>\n",
       "      <td>...</td>\n",
       "      <td>Câmara Municipal de Almada</td>\n",
       "      <td>504338854</td>\n",
       "      <td>Perene, S.A.</td>\n",
       "      <td>4</td>\n",
       "      <td>201404</td>\n",
       "      <td>0.295000</td>\n",
       "      <td>5.469823</td>\n",
       "      <td>Almada</td>\n",
       "      <td>Almada</td>\n",
       "      <td>171 481</td>\n",
       "    </tr>\n",
       "    <tr>\n",
       "      <th>1</th>\n",
       "      <td>500051054</td>\n",
       "      <td>Município de Almada</td>\n",
       "      <td>974822</td>\n",
       "      <td>3856/2013</td>\n",
       "      <td>Aquisição de serviços</td>\n",
       "      <td>Concurso público</td>\n",
       "      <td>Aquisição de Serviços de Fornecimento de Energ...</td>\n",
       "      <td>2014-02-07</td>\n",
       "      <td>2014-01-24</td>\n",
       "      <td>279706.00</td>\n",
       "      <td>...</td>\n",
       "      <td>Câmara Municipal de Almada</td>\n",
       "      <td>503504564</td>\n",
       "      <td>EDP Comercial, SA</td>\n",
       "      <td>1</td>\n",
       "      <td>201401</td>\n",
       "      <td>0.279706</td>\n",
       "      <td>5.446703</td>\n",
       "      <td>Almada</td>\n",
       "      <td>Almada</td>\n",
       "      <td>171 481</td>\n",
       "    </tr>\n",
       "    <tr>\n",
       "      <th>2</th>\n",
       "      <td>500051054</td>\n",
       "      <td>Município de Almada</td>\n",
       "      <td>943569</td>\n",
       "      <td>3907/2013</td>\n",
       "      <td>Empreitadas de obras públicas</td>\n",
       "      <td>Concurso público</td>\n",
       "      <td>CPN01232E - Empreitada de obras de adaptação d...</td>\n",
       "      <td>2014-01-09</td>\n",
       "      <td>2014-01-06</td>\n",
       "      <td>115953.51</td>\n",
       "      <td>...</td>\n",
       "      <td>Câmara Municipal de Almada</td>\n",
       "      <td>507909070</td>\n",
       "      <td>TEMPO ANALÓGICO, LDA.</td>\n",
       "      <td>1</td>\n",
       "      <td>201401</td>\n",
       "      <td>0.115954</td>\n",
       "      <td>5.064288</td>\n",
       "      <td>Almada</td>\n",
       "      <td>Almada</td>\n",
       "      <td>171 481</td>\n",
       "    </tr>\n",
       "    <tr>\n",
       "      <th>3</th>\n",
       "      <td>500051054</td>\n",
       "      <td>Município de Almada</td>\n",
       "      <td>966965</td>\n",
       "      <td>4580/2013</td>\n",
       "      <td>Aquisição de serviços</td>\n",
       "      <td>Concurso público</td>\n",
       "      <td>Prestação de serviços de reparação de viaturas...</td>\n",
       "      <td>2014-01-31</td>\n",
       "      <td>2014-01-27</td>\n",
       "      <td>252000.00</td>\n",
       "      <td>...</td>\n",
       "      <td>Câmara Municipal de Almada</td>\n",
       "      <td>500595909</td>\n",
       "      <td>Coopban Cooperativa de Produção Operária Metal...</td>\n",
       "      <td>1</td>\n",
       "      <td>201401</td>\n",
       "      <td>0.252000</td>\n",
       "      <td>5.401402</td>\n",
       "      <td>Almada</td>\n",
       "      <td>Almada</td>\n",
       "      <td>171 481</td>\n",
       "    </tr>\n",
       "    <tr>\n",
       "      <th>4</th>\n",
       "      <td>500051054</td>\n",
       "      <td>Município de Almada</td>\n",
       "      <td>1005419</td>\n",
       "      <td>4745/2013</td>\n",
       "      <td>Empreitadas de obras públicas</td>\n",
       "      <td>Concurso público</td>\n",
       "      <td>Concurso Público nº CPN01821E- Empreitada de o...</td>\n",
       "      <td>2014-03-13</td>\n",
       "      <td>2014-03-11</td>\n",
       "      <td>35486.19</td>\n",
       "      <td>...</td>\n",
       "      <td>Câmara Municipal de Almada</td>\n",
       "      <td>B70278528</td>\n",
       "      <td>Casdiboca, S.L.</td>\n",
       "      <td>3</td>\n",
       "      <td>201403</td>\n",
       "      <td>0.035486</td>\n",
       "      <td>4.550072</td>\n",
       "      <td>Almada</td>\n",
       "      <td>Almada</td>\n",
       "      <td>171 481</td>\n",
       "    </tr>\n",
       "  </tbody>\n",
       "</table>\n",
       "<p>5 rows × 25 columns</p>\n",
       "</div>"
      ],
      "text/plain": [
       "         NIF         Municipality  idcontrato   nAnuncio  \\\n",
       "0  500051054  Município de Almada     1048427  5137/2012   \n",
       "1  500051054  Município de Almada      974822  3856/2013   \n",
       "2  500051054  Município de Almada      943569  3907/2013   \n",
       "3  500051054  Município de Almada      966965  4580/2013   \n",
       "4  500051054  Município de Almada     1005419  4745/2013   \n",
       "\n",
       "                    tipoContrato  tipoprocedimento  \\\n",
       "0  Empreitadas de obras públicas  Concurso público   \n",
       "1          Aquisição de serviços  Concurso público   \n",
       "2  Empreitadas de obras públicas  Concurso público   \n",
       "3          Aquisição de serviços  Concurso público   \n",
       "4  Empreitadas de obras públicas  Concurso público   \n",
       "\n",
       "                                     objectoContrato dataPublicacao  \\\n",
       "0  CONSTRUÇÃO DE UM JARDIM URBANO COM ACESSOS E C...     2014-04-29   \n",
       "1  Aquisição de Serviços de Fornecimento de Energ...     2014-02-07   \n",
       "2  CPN01232E - Empreitada de obras de adaptação d...     2014-01-09   \n",
       "3  Prestação de serviços de reparação de viaturas...     2014-01-31   \n",
       "4  Concurso Público nº CPN01821E- Empreitada de o...     2014-03-13   \n",
       "\n",
       "  dataCelebracaoContrato  precoContratual  ...                  issuerName  \\\n",
       "0             2014-04-22        295000.00  ...  Câmara Municipal de Almada   \n",
       "1             2014-01-24        279706.00  ...  Câmara Municipal de Almada   \n",
       "2             2014-01-06        115953.51  ...  Câmara Municipal de Almada   \n",
       "3             2014-01-27        252000.00  ...  Câmara Municipal de Almada   \n",
       "4             2014-03-11         35486.19  ...  Câmara Municipal de Almada   \n",
       "\n",
       "  supplierNIF                                       supplierName month  \\\n",
       "0   504338854                                       Perene, S.A.     4   \n",
       "1   503504564                                  EDP Comercial, SA     1   \n",
       "2   507909070                              TEMPO ANALÓGICO, LDA.     1   \n",
       "3   500595909  Coopban Cooperativa de Produção Operária Metal...     1   \n",
       "4   B70278528                                    Casdiboca, S.L.     3   \n",
       "\n",
       "  monthyear precoContratual_M logprecoContratual Municip_Key  Location  \\\n",
       "0    201404          0.295000           5.469823      Almada    Almada   \n",
       "1    201401          0.279706           5.446703      Almada    Almada   \n",
       "2    201401          0.115954           5.064288      Almada    Almada   \n",
       "3    201401          0.252000           5.401402      Almada    Almada   \n",
       "4    201403          0.035486           4.550072      Almada    Almada   \n",
       "\n",
       "   Population  \n",
       "0     171 481  \n",
       "1     171 481  \n",
       "2     171 481  \n",
       "3     171 481  \n",
       "4     171 481  \n",
       "\n",
       "[5 rows x 25 columns]"
      ]
     },
     "execution_count": 119,
     "metadata": {},
     "output_type": "execute_result"
    }
   ],
   "source": [
    "df_mproc_pop.head()"
   ]
  },
  {
   "cell_type": "code",
   "execution_count": 126,
   "metadata": {},
   "outputs": [],
   "source": [
    "df_posse_final = pd.concat([df_posse,df_posse2], axis=1)"
   ]
  },
  {
   "cell_type": "code",
   "execution_count": 130,
   "metadata": {},
   "outputs": [],
   "source": [
    "df_posse_final.reset_index(inplace=True)"
   ]
  },
  {
   "cell_type": "code",
   "execution_count": 131,
   "metadata": {},
   "outputs": [
    {
     "data": {
      "text/html": [
       "<div>\n",
       "<style scoped>\n",
       "    .dataframe tbody tr th:only-of-type {\n",
       "        vertical-align: middle;\n",
       "    }\n",
       "\n",
       "    .dataframe tbody tr th {\n",
       "        vertical-align: top;\n",
       "    }\n",
       "\n",
       "    .dataframe thead th {\n",
       "        text-align: right;\n",
       "    }\n",
       "</style>\n",
       "<table border=\"1\" class=\"dataframe\">\n",
       "  <thead>\n",
       "    <tr style=\"text-align: right;\">\n",
       "      <th></th>\n",
       "      <th>Municipios</th>\n",
       "      <th>Partido_Posse</th>\n",
       "      <th>Partido_Vencedor</th>\n",
       "    </tr>\n",
       "  </thead>\n",
       "  <tbody>\n",
       "    <tr>\n",
       "      <th>0</th>\n",
       "      <td>Arcos de Valdevez</td>\n",
       "      <td>PPD/PSD</td>\n",
       "      <td>PPD/PSD</td>\n",
       "    </tr>\n",
       "    <tr>\n",
       "      <th>1</th>\n",
       "      <td>Caminha</td>\n",
       "      <td>PPD/PSD</td>\n",
       "      <td>PS</td>\n",
       "    </tr>\n",
       "    <tr>\n",
       "      <th>2</th>\n",
       "      <td>Melgaço</td>\n",
       "      <td>PS</td>\n",
       "      <td>PS</td>\n",
       "    </tr>\n",
       "    <tr>\n",
       "      <th>3</th>\n",
       "      <td>Monção</td>\n",
       "      <td>PS</td>\n",
       "      <td>PS</td>\n",
       "    </tr>\n",
       "    <tr>\n",
       "      <th>4</th>\n",
       "      <td>Paredes de Coura</td>\n",
       "      <td>PS</td>\n",
       "      <td>PS</td>\n",
       "    </tr>\n",
       "    <tr>\n",
       "      <th>...</th>\n",
       "      <td>...</td>\n",
       "      <td>...</td>\n",
       "      <td>...</td>\n",
       "    </tr>\n",
       "    <tr>\n",
       "      <th>303</th>\n",
       "      <td>Ribeira Brava</td>\n",
       "      <td>PPD/PSD</td>\n",
       "      <td>PPD/PSD</td>\n",
       "    </tr>\n",
       "    <tr>\n",
       "      <th>304</th>\n",
       "      <td>Santa Cruz</td>\n",
       "      <td>PPD/PSD</td>\n",
       "      <td>Grupo de cidadãos</td>\n",
       "    </tr>\n",
       "    <tr>\n",
       "      <th>305</th>\n",
       "      <td>Santana</td>\n",
       "      <td>PPD/PSD</td>\n",
       "      <td>CDS-PP</td>\n",
       "    </tr>\n",
       "    <tr>\n",
       "      <th>306</th>\n",
       "      <td>São Vicente</td>\n",
       "      <td>PPD/PSD</td>\n",
       "      <td>Grupo de cidadãos</td>\n",
       "    </tr>\n",
       "    <tr>\n",
       "      <th>307</th>\n",
       "      <td>Porto Santo</td>\n",
       "      <td>PPD/PSD</td>\n",
       "      <td>PS</td>\n",
       "    </tr>\n",
       "  </tbody>\n",
       "</table>\n",
       "<p>308 rows × 3 columns</p>\n",
       "</div>"
      ],
      "text/plain": [
       "            Municipios Partido_Posse   Partido_Vencedor\n",
       "0    Arcos de Valdevez       PPD/PSD            PPD/PSD\n",
       "1              Caminha       PPD/PSD                 PS\n",
       "2              Melgaço            PS                 PS\n",
       "3               Monção            PS                 PS\n",
       "4     Paredes de Coura            PS                 PS\n",
       "..                 ...           ...                ...\n",
       "303      Ribeira Brava       PPD/PSD            PPD/PSD\n",
       "304         Santa Cruz       PPD/PSD  Grupo de cidadãos\n",
       "305            Santana       PPD/PSD             CDS-PP\n",
       "306        São Vicente       PPD/PSD  Grupo de cidadãos\n",
       "307        Porto Santo       PPD/PSD                 PS\n",
       "\n",
       "[308 rows x 3 columns]"
      ]
     },
     "execution_count": 131,
     "metadata": {},
     "output_type": "execute_result"
    }
   ],
   "source": [
    "df_posse_final"
   ]
  },
  {
   "cell_type": "code",
   "execution_count": 133,
   "metadata": {},
   "outputs": [],
   "source": [
    "# replace the Location to match Municipality\n",
    "df_posse_final['Municipios'].replace('Calheta [R.A.A.]','Calheta São Jorge', inplace=True)\n",
    "df_posse_final['Municipios'].replace('Calheta [R.A.M.]','Calheta', inplace=True)\n",
    "df_posse_final['Municipios'].replace('Lagoa [R.A.A.]','Lagoa - Açores', inplace=True)\n",
    "df_posse_final['Municipios'].replace('Castanheira de Pêra','Castanheira de Pera', inplace=True)\n",
    "df_posse_final['Municipios'].replace('Vila da Praia da Vitória','Praia da Vitória', inplace=True)"
   ]
  },
  {
   "cell_type": "code",
   "execution_count": 135,
   "metadata": {},
   "outputs": [
    {
     "data": {
      "text/plain": [
       "['Abrantes',\n",
       " 'Aguiar da Beira',\n",
       " 'Alandroal',\n",
       " 'Albergaria-a-Velha',\n",
       " 'Albufeira',\n",
       " 'Alcanena',\n",
       " 'Alcobaça',\n",
       " 'Alcochete',\n",
       " 'Alcoutim',\n",
       " 'Alcácer do Sal',\n",
       " 'Alenquer',\n",
       " 'Alfândega da Fé',\n",
       " 'Alijó',\n",
       " 'Aljezur',\n",
       " 'Aljustrel',\n",
       " 'Almada',\n",
       " 'Almeida',\n",
       " 'Almeirim',\n",
       " 'Almodôvar',\n",
       " 'Alpiarça',\n",
       " 'Alter do Chão',\n",
       " 'Alvaiázere',\n",
       " 'Alvito',\n",
       " 'Amadora',\n",
       " 'Amarante',\n",
       " 'Amares',\n",
       " 'Anadia',\n",
       " 'Angra do Heroísmo',\n",
       " 'Ansião',\n",
       " 'Arcos de Valdevez',\n",
       " 'Arganil',\n",
       " 'Armamar',\n",
       " 'Arouca',\n",
       " 'Arraiolos',\n",
       " 'Arronches',\n",
       " 'Arruda dos Vinhos',\n",
       " 'Aveiro',\n",
       " 'Avis',\n",
       " 'Azambuja',\n",
       " 'Baião',\n",
       " 'Barcelos',\n",
       " 'Barrancos',\n",
       " 'Barreiro',\n",
       " 'Batalha',\n",
       " 'Beja',\n",
       " 'Belmonte',\n",
       " 'Benavente',\n",
       " 'Bombarral',\n",
       " 'Borba',\n",
       " 'Boticas',\n",
       " 'Braga',\n",
       " 'Bragança',\n",
       " 'Cabeceiras de Basto',\n",
       " 'Cadaval',\n",
       " 'Caldas da Rainha',\n",
       " 'Calheta',\n",
       " 'Calheta São Jorge',\n",
       " 'Caminha',\n",
       " 'Campo Maior',\n",
       " 'Cantanhede',\n",
       " 'Carrazeda de Ansiães',\n",
       " 'Carregal do Sal',\n",
       " 'Cartaxo',\n",
       " 'Cascais',\n",
       " 'Castanheira de Pera',\n",
       " 'Castelo Branco',\n",
       " 'Castelo de Paiva',\n",
       " 'Castelo de Vide',\n",
       " 'Castro Daire',\n",
       " 'Castro Marim',\n",
       " 'Castro Verde',\n",
       " 'Celorico da Beira',\n",
       " 'Celorico de Basto',\n",
       " 'Chamusca',\n",
       " 'Chaves',\n",
       " 'Cinfães',\n",
       " 'Coimbra',\n",
       " 'Condeixa-a-Nova',\n",
       " 'Constância',\n",
       " 'Coruche',\n",
       " 'Corvo',\n",
       " 'Covilhã',\n",
       " 'Crato',\n",
       " 'Cuba',\n",
       " 'Câmara de Lobos',\n",
       " 'Elvas',\n",
       " 'Entroncamento',\n",
       " 'Espinho',\n",
       " 'Esposende',\n",
       " 'Estarreja',\n",
       " 'Estremoz',\n",
       " 'Fafe',\n",
       " 'Faro',\n",
       " 'Felgueiras',\n",
       " 'Ferreira do Alentejo',\n",
       " 'Ferreira do Zêzere',\n",
       " 'Figueira da Foz',\n",
       " 'Figueira de Castelo Rodrigo',\n",
       " 'Figueiró dos Vinhos',\n",
       " 'Fornos de Algodres',\n",
       " 'Freixo de Espada à Cinta',\n",
       " 'Fronteira',\n",
       " 'Funchal',\n",
       " 'Fundão',\n",
       " 'Gavião',\n",
       " 'Golegã',\n",
       " 'Gondomar',\n",
       " 'Gouveia',\n",
       " 'Grândola',\n",
       " 'Guarda',\n",
       " 'Guimarães',\n",
       " 'Góis',\n",
       " 'Horta',\n",
       " 'Idanha-a-Nova',\n",
       " 'Lagoa',\n",
       " 'Lagoa - Açores',\n",
       " 'Lagos',\n",
       " 'Lajes das Flores',\n",
       " 'Lajes do Pico',\n",
       " 'Lamego',\n",
       " 'Leiria',\n",
       " 'Lisboa',\n",
       " 'Loulé',\n",
       " 'Loures',\n",
       " 'Lourinhã',\n",
       " 'Lousada',\n",
       " 'Lousã',\n",
       " 'Macedo de Cavaleiros',\n",
       " 'Machico',\n",
       " 'Madalena',\n",
       " 'Mafra',\n",
       " 'Maia',\n",
       " 'Mangualde',\n",
       " 'Manteigas',\n",
       " 'Marco de Canaveses',\n",
       " 'Marinha Grande',\n",
       " 'Marvão',\n",
       " 'Matosinhos',\n",
       " 'Mação',\n",
       " 'Mealhada',\n",
       " 'Melgaço',\n",
       " 'Mesão Frio',\n",
       " 'Mira',\n",
       " 'Miranda do Corvo',\n",
       " 'Miranda do Douro',\n",
       " 'Mirandela',\n",
       " 'Mogadouro',\n",
       " 'Moimenta da Beira',\n",
       " 'Moita',\n",
       " 'Monchique',\n",
       " 'Mondim de Basto',\n",
       " 'Monforte',\n",
       " 'Montalegre',\n",
       " 'Montemor-o-Novo',\n",
       " 'Montemor-o-Velho',\n",
       " 'Montijo',\n",
       " 'Monção',\n",
       " 'Mora',\n",
       " 'Mortágua',\n",
       " 'Moura',\n",
       " 'Mourão',\n",
       " 'Murtosa',\n",
       " 'Murça',\n",
       " 'Mértola',\n",
       " 'Mêda',\n",
       " 'Nazaré',\n",
       " 'Nelas',\n",
       " 'Nisa',\n",
       " 'Nordeste',\n",
       " 'Odemira',\n",
       " 'Odivelas',\n",
       " 'Oeiras',\n",
       " 'Oleiros',\n",
       " 'Olhão',\n",
       " 'Oliveira de Azeméis',\n",
       " 'Oliveira de Frades',\n",
       " 'Oliveira do Bairro',\n",
       " 'Oliveira do Hospital',\n",
       " 'Ourique',\n",
       " 'Ourém',\n",
       " 'Ovar',\n",
       " 'Palmela',\n",
       " 'Pampilhosa da Serra',\n",
       " 'Paredes',\n",
       " 'Paredes de Coura',\n",
       " 'Paços de Ferreira',\n",
       " 'Pedrógão Grande',\n",
       " 'Penacova',\n",
       " 'Penafiel',\n",
       " 'Penalva do Castelo',\n",
       " 'Penamacor',\n",
       " 'Penedono',\n",
       " 'Penela',\n",
       " 'Peniche',\n",
       " 'Peso da Régua',\n",
       " 'Pinhel',\n",
       " 'Pombal',\n",
       " 'Ponta Delgada',\n",
       " 'Ponta do Sol',\n",
       " 'Ponte da Barca',\n",
       " 'Ponte de Lima',\n",
       " 'Ponte de Sor',\n",
       " 'Portalegre',\n",
       " 'Portel',\n",
       " 'Portimão',\n",
       " 'Porto',\n",
       " 'Porto Moniz',\n",
       " 'Porto Santo',\n",
       " 'Porto de Mós',\n",
       " 'Povoação',\n",
       " 'Praia da Vitória',\n",
       " 'Proença-a-Nova',\n",
       " 'Póvoa de Lanhoso',\n",
       " 'Póvoa de Varzim',\n",
       " 'Redondo',\n",
       " 'Reguengos de Monsaraz',\n",
       " 'Resende',\n",
       " 'Ribeira Brava',\n",
       " 'Ribeira Grande',\n",
       " 'Ribeira de Pena',\n",
       " 'Rio Maior',\n",
       " 'Sabrosa',\n",
       " 'Sabugal',\n",
       " 'Salvaterra de Magos',\n",
       " 'Santa Comba Dão',\n",
       " 'Santa Cruz',\n",
       " 'Santa Cruz da Graciosa',\n",
       " 'Santa Cruz das Flores',\n",
       " 'Santa Maria da Feira',\n",
       " 'Santa Marta de Penaguião',\n",
       " 'Santana',\n",
       " 'Santarém',\n",
       " 'Santiago do Cacém',\n",
       " 'Santo Tirso',\n",
       " 'Sardoal',\n",
       " 'Seia',\n",
       " 'Seixal',\n",
       " 'Sernancelhe',\n",
       " 'Serpa',\n",
       " 'Sertã',\n",
       " 'Sesimbra',\n",
       " 'Setúbal',\n",
       " 'Sever do Vouga',\n",
       " 'Silves',\n",
       " 'Sines',\n",
       " 'Sintra',\n",
       " 'Sobral de Monte Agraço',\n",
       " 'Soure',\n",
       " 'Sousel',\n",
       " 'Sátão',\n",
       " 'São Brás de Alportel',\n",
       " 'São João da Madeira',\n",
       " 'São João da Pesqueira',\n",
       " 'São Pedro do Sul',\n",
       " 'São Roque do Pico',\n",
       " 'São Vicente',\n",
       " 'Tabuaço',\n",
       " 'Tarouca',\n",
       " 'Tavira',\n",
       " 'Terras de Bouro',\n",
       " 'Tomar',\n",
       " 'Tondela',\n",
       " 'Torre de Moncorvo',\n",
       " 'Torres Novas',\n",
       " 'Torres Vedras',\n",
       " 'Trancoso',\n",
       " 'Trofa',\n",
       " 'Tábua',\n",
       " 'Vagos',\n",
       " 'Vale de Cambra',\n",
       " 'Valença',\n",
       " 'Valongo',\n",
       " 'Valpaços',\n",
       " 'Velas',\n",
       " 'Vendas Novas',\n",
       " 'Viana do Alentejo',\n",
       " 'Viana do Castelo',\n",
       " 'Vidigueira',\n",
       " 'Vieira do Minho',\n",
       " 'Vila Flor',\n",
       " 'Vila Franca de Xira',\n",
       " 'Vila Franca do Campo',\n",
       " 'Vila Nova da Barquinha',\n",
       " 'Vila Nova de Cerveira',\n",
       " 'Vila Nova de Famalicão',\n",
       " 'Vila Nova de Foz Côa',\n",
       " 'Vila Nova de Gaia',\n",
       " 'Vila Nova de Paiva',\n",
       " 'Vila Nova de Poiares',\n",
       " 'Vila Pouca de Aguiar',\n",
       " 'Vila Real',\n",
       " 'Vila Real de Santo António',\n",
       " 'Vila Velha de Ródão',\n",
       " 'Vila Verde',\n",
       " 'Vila Viçosa',\n",
       " 'Vila de Rei',\n",
       " 'Vila do Bispo',\n",
       " 'Vila do Conde',\n",
       " 'Vila do Porto',\n",
       " 'Vimioso',\n",
       " 'Vinhais',\n",
       " 'Viseu',\n",
       " 'Vizela',\n",
       " 'Vouzela',\n",
       " 'Águeda',\n",
       " 'Évora',\n",
       " 'Ílhavo',\n",
       " 'Óbidos']"
      ]
     },
     "execution_count": 135,
     "metadata": {},
     "output_type": "execute_result"
    }
   ],
   "source": [
    "sorted(list(df_posse_final['Municipios'].unique()))"
   ]
  },
  {
   "cell_type": "code",
   "execution_count": 199,
   "metadata": {},
   "outputs": [],
   "source": [
    "## merge procurement data with votes\n",
    "df_mproc_votes = pd.merge(left=df_mproc_copy, right=df_posse_final, how='left', left_on='Municip_Key', right_on='Municipios')"
   ]
  },
  {
   "cell_type": "code",
   "execution_count": 200,
   "metadata": {},
   "outputs": [],
   "source": [
    "df_mproc_votes2 = df_mproc_votes.loc[df_mproc_votes['dataPublicacao'] <= '2013-09-29', ['Municipality','precoContratual','Partido_Posse','Partido_Vencedor']]"
   ]
  },
  {
   "cell_type": "code",
   "execution_count": 202,
   "metadata": {},
   "outputs": [],
   "source": [
    "df_mproc_votes3= df_mproc_votes2.groupby(['Municipality','Partido_Posse','Partido_Vencedor'], as_index=False).precoContratual.agg('sum')"
   ]
  },
  {
   "cell_type": "code",
   "execution_count": 204,
   "metadata": {},
   "outputs": [],
   "source": [
    "def build_target(df,col1,col2):\n",
    "    target = []\n",
    "    for i in range(len(df)):\n",
    "        if str(df[col1][i])[:2] == str(df[col2][i])[:2]:\n",
    "            target.append(1)\n",
    "        else:\n",
    "            target.append(0)\n",
    "            \n",
    "    return pd.Series(target) \n",
    "            "
   ]
  },
  {
   "cell_type": "code",
   "execution_count": 205,
   "metadata": {},
   "outputs": [],
   "source": [
    "df_mproc_votes3['Target'] = build_target(df_mproc_votes3,'Partido_Posse','Partido_Vencedor')"
   ]
  },
  {
   "cell_type": "code",
   "execution_count": 206,
   "metadata": {},
   "outputs": [],
   "source": [
    "df_mproc_votes3['Total_Value_percapita'] = df_mproc_votes3['precoContratual']/data_pop['Population']\n",
    "df_mproc_votes3['logTotal_Value_percapita'] = df_mproc_votes3['Total_Value_percapita'].map(lambda x: np.log10(x+1))"
   ]
  },
  {
   "cell_type": "code",
   "execution_count": 207,
   "metadata": {},
   "outputs": [
    {
     "data": {
      "text/html": [
       "<div>\n",
       "<style scoped>\n",
       "    .dataframe tbody tr th:only-of-type {\n",
       "        vertical-align: middle;\n",
       "    }\n",
       "\n",
       "    .dataframe tbody tr th {\n",
       "        vertical-align: top;\n",
       "    }\n",
       "\n",
       "    .dataframe thead th {\n",
       "        text-align: right;\n",
       "    }\n",
       "</style>\n",
       "<table border=\"1\" class=\"dataframe\">\n",
       "  <thead>\n",
       "    <tr style=\"text-align: right;\">\n",
       "      <th></th>\n",
       "      <th>Municipality</th>\n",
       "      <th>Partido_Posse</th>\n",
       "      <th>Partido_Vencedor</th>\n",
       "      <th>precoContratual</th>\n",
       "      <th>Target</th>\n",
       "      <th>Total_Value_percapita</th>\n",
       "      <th>logTotal_Value_percapita</th>\n",
       "    </tr>\n",
       "  </thead>\n",
       "  <tbody>\n",
       "    <tr>\n",
       "      <th>0</th>\n",
       "      <td>Município da Amadora</td>\n",
       "      <td>PS</td>\n",
       "      <td>PS</td>\n",
       "      <td>28738070.14</td>\n",
       "      <td>1</td>\n",
       "      <td>167.587489</td>\n",
       "      <td>2.226825</td>\n",
       "    </tr>\n",
       "    <tr>\n",
       "      <th>1</th>\n",
       "      <td>Município da Batalha</td>\n",
       "      <td>PPD/PSD</td>\n",
       "      <td>PPD/PSD</td>\n",
       "      <td>3007493.27</td>\n",
       "      <td>1</td>\n",
       "      <td>7.917373</td>\n",
       "      <td>0.950237</td>\n",
       "    </tr>\n",
       "    <tr>\n",
       "      <th>2</th>\n",
       "      <td>Município da Chamusca</td>\n",
       "      <td>PCP-PEV</td>\n",
       "      <td>PS</td>\n",
       "      <td>826999.47</td>\n",
       "      <td>0</td>\n",
       "      <td>1.588706</td>\n",
       "      <td>0.413083</td>\n",
       "    </tr>\n",
       "    <tr>\n",
       "      <th>3</th>\n",
       "      <td>Município da Covilhã</td>\n",
       "      <td>PPD/PSD</td>\n",
       "      <td>PS</td>\n",
       "      <td>6302237.15</td>\n",
       "      <td>0</td>\n",
       "      <td>467.178440</td>\n",
       "      <td>2.670411</td>\n",
       "    </tr>\n",
       "    <tr>\n",
       "      <th>4</th>\n",
       "      <td>Município da Câmara de Lobos</td>\n",
       "      <td>PPD/PSD</td>\n",
       "      <td>PPD/PSD</td>\n",
       "      <td>6626432.61</td>\n",
       "      <td>1</td>\n",
       "      <td>38.372060</td>\n",
       "      <td>1.595188</td>\n",
       "    </tr>\n",
       "  </tbody>\n",
       "</table>\n",
       "</div>"
      ],
      "text/plain": [
       "                   Municipality Partido_Posse Partido_Vencedor  \\\n",
       "0          Município da Amadora            PS               PS   \n",
       "1          Município da Batalha       PPD/PSD          PPD/PSD   \n",
       "2         Município da Chamusca       PCP-PEV               PS   \n",
       "3          Município da Covilhã       PPD/PSD               PS   \n",
       "4  Município da Câmara de Lobos       PPD/PSD          PPD/PSD   \n",
       "\n",
       "   precoContratual  Target  Total_Value_percapita  logTotal_Value_percapita  \n",
       "0      28738070.14       1             167.587489                  2.226825  \n",
       "1       3007493.27       1               7.917373                  0.950237  \n",
       "2        826999.47       0               1.588706                  0.413083  \n",
       "3       6302237.15       0             467.178440                  2.670411  \n",
       "4       6626432.61       1              38.372060                  1.595188  "
      ]
     },
     "execution_count": 207,
     "metadata": {},
     "output_type": "execute_result"
    }
   ],
   "source": [
    "df_mproc_votes3.head()"
   ]
  },
  {
   "cell_type": "code",
   "execution_count": 209,
   "metadata": {},
   "outputs": [],
   "source": [
    "df_mproc_votes3['Intercept'] = 1\n",
    "X = df_mproc_votes3.loc[:,['Intercept','logTotal_Value_percapita']]\n",
    "y = df_mproc_votes3.Target"
   ]
  },
  {
   "cell_type": "code",
   "execution_count": 217,
   "metadata": {},
   "outputs": [],
   "source": [
    "binomial_model = sm.GLM(y, X, family=sm.families.Binomial()).fit()"
   ]
  },
  {
   "cell_type": "code",
   "execution_count": 218,
   "metadata": {},
   "outputs": [
    {
     "data": {
      "text/html": [
       "<table class=\"simpletable\">\n",
       "<caption>Generalized Linear Model Regression Results</caption>\n",
       "<tr>\n",
       "  <th>Dep. Variable:</th>   <td><statsmodels.genmod.generalized_linear_model.GLMResultsWrapper object at 0x00000170D2637490></td> <th>  No. Observations:  </th>  <td>   308</td> \n",
       "</tr>\n",
       "<tr>\n",
       "  <th>Model:</th>                                                        <td>GLM</td>                                             <th>  Df Residuals:      </th>  <td>   306</td> \n",
       "</tr>\n",
       "<tr>\n",
       "  <th>Model Family:</th>                                              <td>Binomial</td>                                           <th>  Df Model:          </th>  <td>     1</td> \n",
       "</tr>\n",
       "<tr>\n",
       "  <th>Link Function:</th>                                               <td>logit</td>                                            <th>  Scale:             </th> <td>  1.0000</td>\n",
       "</tr>\n",
       "<tr>\n",
       "  <th>Method:</th>                                                      <td>IRLS</td>                                             <th>  Log-Likelihood:    </th> <td> -179.51</td>\n",
       "</tr>\n",
       "<tr>\n",
       "  <th>Date:</th>                                                  <td>Fri, 29 Oct 2021</td>                                       <th>  Deviance:          </th> <td>  359.02</td>\n",
       "</tr>\n",
       "<tr>\n",
       "  <th>Time:</th>                                                      <td>20:11:09</td>                                           <th>  Pearson chi2:      </th>  <td>  308.</td> \n",
       "</tr>\n",
       "<tr>\n",
       "  <th>No. Iterations:</th>                                                <td>4</td>                                              <th>                     </th>     <td> </td>   \n",
       "</tr>\n",
       "<tr>\n",
       "  <th>Covariance Type:</th>                                           <td>nonrobust</td>                                          <th>                     </th>     <td> </td>   \n",
       "</tr>\n",
       "</table>\n",
       "<table class=\"simpletable\">\n",
       "<tr>\n",
       "              <td></td>                <th>coef</th>     <th>std err</th>      <th>z</th>      <th>P>|z|</th>  <th>[0.025</th>    <th>0.975]</th>  \n",
       "</tr>\n",
       "<tr>\n",
       "  <th>Intercept</th>                <td>    0.3656</td> <td>    0.457</td> <td>    0.799</td> <td> 0.424</td> <td>   -0.531</td> <td>    1.262</td>\n",
       "</tr>\n",
       "<tr>\n",
       "  <th>logTotal_Value_percapita</th> <td>    0.2728</td> <td>    0.197</td> <td>    1.385</td> <td> 0.166</td> <td>   -0.113</td> <td>    0.659</td>\n",
       "</tr>\n",
       "</table>"
      ],
      "text/plain": [
       "<class 'statsmodels.iolib.summary.Summary'>\n",
       "\"\"\"\n",
       "                                                      Generalized Linear Model Regression Results                                                       \n",
       "========================================================================================================================================================\n",
       "Dep. Variable:     <statsmodels.genmod.generalized_linear_model.GLMResultsWrapper object at 0x00000170D2637490>   No. Observations:                  308\n",
       "Model:                                                                                                      GLM   Df Residuals:                      306\n",
       "Model Family:                                                                                          Binomial   Df Model:                            1\n",
       "Link Function:                                                                                            logit   Scale:                          1.0000\n",
       "Method:                                                                                                    IRLS   Log-Likelihood:                -179.51\n",
       "Date:                                                                                          Fri, 29 Oct 2021   Deviance:                       359.02\n",
       "Time:                                                                                                  20:11:09   Pearson chi2:                     308.\n",
       "No. Iterations:                                                                                               4                                         \n",
       "Covariance Type:                                                                                      nonrobust                                         \n",
       "============================================================================================\n",
       "                               coef    std err          z      P>|z|      [0.025      0.975]\n",
       "--------------------------------------------------------------------------------------------\n",
       "Intercept                    0.3656      0.457      0.799      0.424      -0.531       1.262\n",
       "logTotal_Value_percapita     0.2728      0.197      1.385      0.166      -0.113       0.659\n",
       "============================================================================================\n",
       "\"\"\""
      ]
     },
     "execution_count": 218,
     "metadata": {},
     "output_type": "execute_result"
    }
   ],
   "source": [
    "binomial_model.summary(binomial_model)"
   ]
  },
  {
   "cell_type": "code",
   "execution_count": 224,
   "metadata": {},
   "outputs": [
    {
     "data": {
      "text/plain": [
       "1.31"
      ]
     },
     "execution_count": 224,
     "metadata": {},
     "output_type": "execute_result"
    }
   ],
   "source": [
    "round(np.exp(0.2728),2)"
   ]
  },
  {
   "cell_type": "markdown",
   "metadata": {},
   "source": [
    "## End\n",
    "\n",
    "Submit this notebook in Moodle along with a statement of authorship in a single .zip archive."
   ]
  }
 ],
 "metadata": {
  "kernelspec": {
   "display_name": "Python 3",
   "language": "python",
   "name": "python3"
  },
  "language_info": {
   "codemirror_mode": {
    "name": "ipython",
    "version": 3
   },
   "file_extension": ".py",
   "mimetype": "text/x-python",
   "name": "python",
   "nbconvert_exporter": "python",
   "pygments_lexer": "ipython3",
   "version": "3.8.5"
  }
 },
 "nbformat": 4,
 "nbformat_minor": 2
}
