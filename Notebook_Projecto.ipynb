{
 "cells": [
  {
   "cell_type": "markdown",
   "metadata": {},
   "source": [
    "# Programming for Data Science Practical Examination\n",
    "## Introduction \n",
    "\n",
    "The challenge of this pratical is to explore the public procurement data available in the portal www.base.gov.pt. <br>\n",
    "Public Procurements are contracts establish between a public institutions (the issuer of a procurement) and a third-party supplier. <br>\n",
    "Each contract is classified using the Common Procurement Vocabulary (CPV). The CPV classification aims at establishing a single classification system for public procurement in Europe, helping in comparative statistics and regulation. The CPV is a five level hierarchical classification encoded in a nine digit string. For instance the first two digits identify the division, the first three the groups, and so on. You can find more information about the CPVs at https://simap.ted.europa.eu/cpv\n",
    "\n",
    "\n",
    "We will use a sample dataset extracted from the portal BASE (www.base.gov.pt) that contains information on public procurements executed between 2012 and 2014. Below you can find a step-by-step instructions of what the tasks you need to perform in order to analyse this dataset. Each step indicates the amount of points you can score. Make sure you comment all your code and provide, when requested, a discussion about what you have done and the results obtained.\n",
    "\n",
    "This examination does not intend to test your ability to:<br>\n",
    ". perform complex data analysis;<br>\n",
    ". develop complex data-driven models; <br>\n",
    ". write optimal algorithmic solutions to a problem. <br>\n",
    "\n",
    "**Instead**, it aims to test your ability to implement a pre-planned step by step project in python.\n",
    "\n",
    "Your submission will be graded according to the following guidelines:\n",
    "1. Execution (does your program does what is asked from the exercise?)\n",
    "2. Objectivity (are you using the adequate libraries? are you using a libraries not in the scope of exercise?)\n",
    "3. Readibility of your code (is your code correctly documented? is variable naming adequate?)\n",
    "\n",
    "This is an individual activity!\n",
    "\n",
    "## Submission Details\n",
    "\n",
    "The deadline for the submission is the 30th of October at 11:59 (am), and submission must be done through the corresponding activity in moodle. Your submission should consist of an archive **(zip file)** containing the following files: <br>\n",
    "1) A copy of this notebook with your answers; <br>\n",
    "2) A html version of the notebook with your answers (File -> Download As -> html); <br>\n",
    "3) An Authorship Statement; <br> \n",
    "\n",
    "**Submissions done in .rar archives will not be graded. <br>\n",
    "Submissions delivered that are not in a jupyter notebook format will not be graded.**\n",
    "\n",
    "Good Luck, and enjoy!\n",
    "\n",
    "**PLEASE FILL THE BELOW CELLS WITH THE GROUP MEMBERS INFORMATION:** <br>"
   ]
  },
  {
   "cell_type": "code",
   "execution_count": null,
   "metadata": {},
   "outputs": [],
   "source": [
    "# Student ID: M20211300\n",
    "# Student Name: Miguel Lince"
   ]
  },
  {
   "cell_type": "code",
   "execution_count": null,
   "metadata": {},
   "outputs": [],
   "source": [
    "# Student ID: M20210664\n",
    "# Student Name: Tomás Jordão"
   ]
  },
  {
   "cell_type": "code",
   "execution_count": null,
   "metadata": {},
   "outputs": [],
   "source": [
    "# Student ID:\n",
    "# Student Name:"
   ]
  },
  {
   "cell_type": "markdown",
   "metadata": {},
   "source": [
    "**Important NOTE**\n",
    "\n",
    "Any reference to the value of procurement, refers to the price or cost of the contract which is in the column \"precoContratual\""
   ]
  },
  {
   "cell_type": "markdown",
   "metadata": {},
   "source": [
    "## Boilerplate\n",
    "\n",
    "Before you start, let us make sure you have all the necessary packages in your working environment. To that end run the following cells to install and load all the necessary libraries.\n",
    "\n",
    "**Note** You only need to run this cell once, not everytime you open the notebook."
   ]
  },
  {
   "cell_type": "code",
   "execution_count": 1,
   "metadata": {},
   "outputs": [
    {
     "name": "stdout",
     "output_type": "stream",
     "text": [
      "Requirement already satisfied: pip in c:\\programdata\\anaconda3\\lib\\site-packages (21.2.2)\n",
      "Collecting pip\n",
      "  Downloading pip-21.3.1-py3-none-any.whl (1.7 MB)\n",
      "Installing collected packages: pip\n",
      "Successfully installed pip-21.3.1\n"
     ]
    },
    {
     "name": "stderr",
     "output_type": "stream",
     "text": [
      "  WARNING: The scripts pip.exe, pip3.8.exe and pip3.exe are installed in 'C:\\Users\\u86004\\AppData\\Roaming\\Python\\Python38\\Scripts' which is not on PATH.\n",
      "  Consider adding this directory to PATH or, if you prefer to suppress this warning, use --no-warn-script-location.\n"
     ]
    },
    {
     "name": "stdout",
     "output_type": "stream",
     "text": [
      "Requirement already satisfied: xlrd in c:\\programdata\\anaconda3\\lib\\site-packages (2.0.1)\n",
      "Requirement already satisfied: requests in c:\\programdata\\anaconda3\\lib\\site-packages (2.25.1)\n",
      "Requirement already satisfied: urllib3<1.27,>=1.21.1 in c:\\programdata\\anaconda3\\lib\\site-packages (from requests) (1.26.6)\n",
      "Requirement already satisfied: chardet<5,>=3.0.2 in c:\\programdata\\anaconda3\\lib\\site-packages (from requests) (4.0.0)\n",
      "Requirement already satisfied: idna<3,>=2.5 in c:\\programdata\\anaconda3\\lib\\site-packages (from requests) (2.10)\n",
      "Requirement already satisfied: certifi>=2017.4.17 in c:\\programdata\\anaconda3\\lib\\site-packages (from requests) (2021.5.30)\n",
      "Requirement already satisfied: seaborn in c:\\programdata\\anaconda3\\lib\\site-packages (0.11.1)\n",
      "Requirement already satisfied: scipy>=1.0 in c:\\programdata\\anaconda3\\lib\\site-packages (from seaborn) (1.6.2)\n",
      "Requirement already satisfied: pandas>=0.23 in c:\\programdata\\anaconda3\\lib\\site-packages (from seaborn) (1.3.0)\n",
      "Requirement already satisfied: numpy>=1.15 in c:\\programdata\\anaconda3\\lib\\site-packages (from seaborn) (1.20.3)\n",
      "Requirement already satisfied: matplotlib>=2.2 in c:\\programdata\\anaconda3\\lib\\site-packages (from seaborn) (3.4.2)\n",
      "Requirement already satisfied: kiwisolver>=1.0.1 in c:\\programdata\\anaconda3\\lib\\site-packages (from matplotlib>=2.2->seaborn) (1.3.1)\n",
      "Requirement already satisfied: python-dateutil>=2.7 in c:\\programdata\\anaconda3\\lib\\site-packages (from matplotlib>=2.2->seaborn) (2.8.2)\n",
      "Requirement already satisfied: pillow>=6.2.0 in c:\\programdata\\anaconda3\\lib\\site-packages (from matplotlib>=2.2->seaborn) (8.3.1)\n",
      "Requirement already satisfied: cycler>=0.10 in c:\\programdata\\anaconda3\\lib\\site-packages (from matplotlib>=2.2->seaborn) (0.10.0)\n",
      "Requirement already satisfied: pyparsing>=2.2.1 in c:\\programdata\\anaconda3\\lib\\site-packages (from matplotlib>=2.2->seaborn) (2.4.7)\n",
      "Requirement already satisfied: pytz>=2017.3 in c:\\programdata\\anaconda3\\lib\\site-packages (from pandas>=0.23->seaborn) (2021.1)\n",
      "Requirement already satisfied: six in c:\\programdata\\anaconda3\\lib\\site-packages (from cycler>=0.10->matplotlib>=2.2->seaborn) (1.16.0)\n"
     ]
    }
   ],
   "source": [
    "# Run this cell only if you are missing any of the packages below\n",
    "import sys\n",
    "!{sys.executable} -m pip install --upgrade pip --user\n",
    "!{sys.executable} -m pip install xlrd\n",
    "!{sys.executable} -m pip install requests\n",
    "!{sys.executable} -m pip install seaborn"
   ]
  },
  {
   "cell_type": "markdown",
   "metadata": {},
   "source": [
    "Then we load the necessary libraries to execute each of the steps below."
   ]
  },
  {
   "cell_type": "code",
   "execution_count": 1,
   "metadata": {},
   "outputs": [],
   "source": [
    "import pandas as pd\n",
    "import numpy as np\n",
    "import scipy as sp\n",
    "import seaborn as sns\n",
    "import matplotlib.pyplot as plt\n",
    "import statsmodels as sm\n",
    "import os\n",
    "from zipfile import ZipFile"
   ]
  },
  {
   "cell_type": "code",
   "execution_count": 2,
   "metadata": {},
   "outputs": [],
   "source": [
    "import requests"
   ]
  },
  {
   "cell_type": "code",
   "execution_count": 3,
   "metadata": {
    "scrolled": false
   },
   "outputs": [
    {
     "name": "stdout",
     "output_type": "stream",
     "text": [
      "Pandas version  1.3.0\n",
      "Numpy version  1.20.3\n",
      "Scipy version  1.6.2\n",
      "Seaborn version  0.11.1\n",
      "StatsModels version  0.12.2\n"
     ]
    }
   ],
   "source": [
    "print('Pandas version ',pd.__version__)\n",
    "print('Numpy version ',np.__version__)\n",
    "print('Scipy version ',sp.__version__)\n",
    "print('Seaborn version ',sns.__version__)\n",
    "print('StatsModels version ',sm.__version__)"
   ]
  },
  {
   "cell_type": "markdown",
   "metadata": {},
   "source": [
    "In the following steps, please use the alias defined at this step. This will help us to correct your answers and track your steps. Students that fail to use the pre-defined aliases will be penalized. \n",
    "\n",
    "Finally, the following cell downloads the dataset for this project. <br>"
   ]
  },
  {
   "cell_type": "code",
   "execution_count": 4,
   "metadata": {},
   "outputs": [],
   "source": [
    "r = requests.get('https://www.dropbox.com/s/43jqravvvddaljb/PDS2021_Data.zip?dl=1', allow_redirects=True)\n",
    "open('Data.zip', 'wb').write(r.content);\n",
    "with ZipFile('Data.zip', 'r') as zipObj:\n",
    "    zipObj.extractall('DATA')"
   ]
  },
  {
   "cell_type": "markdown",
   "metadata": {},
   "source": [
    "The above code will store the datafiles in a folder called \"DATA\" that is in the same filepath as this notebook. <br>\n",
    "The dataset consists of three xlsx files containing all contracts available in 2018 concerning the contracts issued in 2012, 2013, and 2014 that where available in BASE."
   ]
  },
  {
   "cell_type": "markdown",
   "metadata": {},
   "source": [
    "## Exercises (The action starts here)\n",
    "\n",
    "<b>[Step 1. | 0.5 points ]</b> Load all the procurement datafiles (contratos2012.xlsx, contratos2013.xlsx, and contratos2014.xlsx) into a single dataframe named <i>data</i>.<br>\n",
    "Notes: This operation might take a while. When reading data from excel it is safer to always specify the Sheet you want to read. You might need to reset the indexes and drop a column of the final dataframe to obtain a more workable dataframe."
   ]
  },
  {
   "cell_type": "code",
   "execution_count": 5,
   "metadata": {
    "scrolled": true
   },
   "outputs": [
    {
     "data": {
      "text/plain": [
       "['DATA/contratos2012.xlsx',\n",
       " 'DATA/contratos2013.xlsx',\n",
       " 'DATA/contratos2014.xlsx']"
      ]
     },
     "execution_count": 5,
     "metadata": {},
     "output_type": "execute_result"
    }
   ],
   "source": [
    "path = os.getcwd()\n",
    "files = os.listdir('DATA')\n",
    "files_xlsx = [\"DATA/\" + f for f in files if f[:9] == 'contratos']\n",
    "files_xlsx"
   ]
  },
  {
   "cell_type": "code",
   "execution_count": 6,
   "metadata": {
    "scrolled": true
   },
   "outputs": [],
   "source": [
    "data = pd.DataFrame()\n",
    "for f in files_xlsx:\n",
    "    df = pd.read_excel(f, sheet_name='Folha1')\n",
    "    data = df.append(data)"
   ]
  },
  {
   "cell_type": "code",
   "execution_count": 7,
   "metadata": {},
   "outputs": [
    {
     "data": {
      "text/html": [
       "<div>\n",
       "<style scoped>\n",
       "    .dataframe tbody tr th:only-of-type {\n",
       "        vertical-align: middle;\n",
       "    }\n",
       "\n",
       "    .dataframe tbody tr th {\n",
       "        vertical-align: top;\n",
       "    }\n",
       "\n",
       "    .dataframe thead th {\n",
       "        text-align: right;\n",
       "    }\n",
       "</style>\n",
       "<table border=\"1\" class=\"dataframe\">\n",
       "  <thead>\n",
       "    <tr style=\"text-align: right;\">\n",
       "      <th></th>\n",
       "      <th>idcontrato</th>\n",
       "      <th>nAnuncio</th>\n",
       "      <th>tipoContrato</th>\n",
       "      <th>tipoprocedimento</th>\n",
       "      <th>objectoContrato</th>\n",
       "      <th>adjudicantes</th>\n",
       "      <th>adjudicatarios</th>\n",
       "      <th>dataPublicacao</th>\n",
       "      <th>dataCelebracaoContrato</th>\n",
       "      <th>precoContratual</th>\n",
       "      <th>cpv</th>\n",
       "      <th>prazoExecucao</th>\n",
       "      <th>localExecucao</th>\n",
       "      <th>fundamentacao</th>\n",
       "    </tr>\n",
       "  </thead>\n",
       "  <tbody>\n",
       "    <tr>\n",
       "      <th>0</th>\n",
       "      <td>1541104</td>\n",
       "      <td>1242/2010</td>\n",
       "      <td>Empreitadas de obras públicas</td>\n",
       "      <td>Concurso limitado por prévia qualificação</td>\n",
       "      <td>Empreitada de Projecto, Construção e Exploraçã...</td>\n",
       "      <td>506598160 - Águas do Mondego - Sistema Mult. d...</td>\n",
       "      <td>500738793 - JOSÉ MARQUES GRÁCIO SA. | 50115734...</td>\n",
       "      <td>2015-09-04</td>\n",
       "      <td>2014-05-07</td>\n",
       "      <td>1639025.08</td>\n",
       "      <td>45252127-4 - Construção de estação de tratamen...</td>\n",
       "      <td>690</td>\n",
       "      <td>Portugal, Coimbra, Coimbra | Portugal, Coimbra...</td>\n",
       "      <td>Artigo 31.º, n.º 1 do Código dos Contratos Púb...</td>\n",
       "    </tr>\n",
       "    <tr>\n",
       "      <th>1</th>\n",
       "      <td>1541123</td>\n",
       "      <td>1342/2010</td>\n",
       "      <td>Empreitadas de obras públicas</td>\n",
       "      <td>Concurso limitado por prévia qualificação</td>\n",
       "      <td>Empreitada de Projecto, Construção e Exploraçã...</td>\n",
       "      <td>506598160 - Águas do Mondego - Sistema Mult. d...</td>\n",
       "      <td>500023875 - Casais - Engenharia e Construções,...</td>\n",
       "      <td>2015-09-04</td>\n",
       "      <td>2014-05-12</td>\n",
       "      <td>2943077.15</td>\n",
       "      <td>45252127-4 - Construção de estação de tratamen...</td>\n",
       "      <td>690</td>\n",
       "      <td>Portugal, Coimbra, Arganil</td>\n",
       "      <td>Artigo 31.º, n.º 1 do Código dos Contratos Púb...</td>\n",
       "    </tr>\n",
       "    <tr>\n",
       "      <th>2</th>\n",
       "      <td>1320689</td>\n",
       "      <td>2407/2010</td>\n",
       "      <td>Aquisição de serviços</td>\n",
       "      <td>Concurso público</td>\n",
       "      <td>Recolha, Transporte e Deposição de resíduos do...</td>\n",
       "      <td>503455539 - Sanest - Saneamento da Costa Estor...</td>\n",
       "      <td>500512884 - EGEO - TECNOLOGIA E AMBIENTE, SA.</td>\n",
       "      <td>2014-12-09</td>\n",
       "      <td>2014-06-30</td>\n",
       "      <td>525004.90</td>\n",
       "      <td>90512000-9 - Serviços de transporte de resíduos</td>\n",
       "      <td>1095</td>\n",
       "      <td>Portugal, Lisboa, Cascais | Portugal, Lisboa, ...</td>\n",
       "      <td>Artigo 20.º, n.º 1, alínea b) do Código dos Co...</td>\n",
       "    </tr>\n",
       "    <tr>\n",
       "      <th>3</th>\n",
       "      <td>1157167</td>\n",
       "      <td>3350/2010</td>\n",
       "      <td>Empreitadas de obras públicas</td>\n",
       "      <td>Concurso público</td>\n",
       "      <td>O contrato tem por objecto a construção da Est...</td>\n",
       "      <td>505176300 - Águas do Algarve, S.A.</td>\n",
       "      <td>500091366 - Eduardo Pinto Contreiras &amp;amp; Fil...</td>\n",
       "      <td>2014-08-22</td>\n",
       "      <td>2014-07-29</td>\n",
       "      <td>1806005.15</td>\n",
       "      <td>45232423-3 - Construção de estações de bombage...</td>\n",
       "      <td>300</td>\n",
       "      <td>Portugal, Faro, Albufeira</td>\n",
       "      <td>Artigo 19.º, alínea b) do Código dos Contratos...</td>\n",
       "    </tr>\n",
       "    <tr>\n",
       "      <th>4</th>\n",
       "      <td>1229022</td>\n",
       "      <td>3494/2010</td>\n",
       "      <td>Empreitadas de obras públicas</td>\n",
       "      <td>Concurso público</td>\n",
       "      <td>Empreitada para Reabilitação da Célula de Lama...</td>\n",
       "      <td>508608015 - Administração da Região Hidrográfi...</td>\n",
       "      <td>500285608 - TOMÁS DE OLIVEIRA, EMPREITEIROS, S...</td>\n",
       "      <td>2014-09-15</td>\n",
       "      <td>2014-04-15</td>\n",
       "      <td>3844399.53</td>\n",
       "      <td>45232422-6 - Estação de tratamento de lamas</td>\n",
       "      <td>610</td>\n",
       "      <td>Portugal, Santarém, Alcanena</td>\n",
       "      <td>Artigo 19.º, alínea b) do Código dos Contratos...</td>\n",
       "    </tr>\n",
       "  </tbody>\n",
       "</table>\n",
       "</div>"
      ],
      "text/plain": [
       "   idcontrato   nAnuncio                   tipoContrato  \\\n",
       "0     1541104  1242/2010  Empreitadas de obras públicas   \n",
       "1     1541123  1342/2010  Empreitadas de obras públicas   \n",
       "2     1320689  2407/2010          Aquisição de serviços   \n",
       "3     1157167  3350/2010  Empreitadas de obras públicas   \n",
       "4     1229022  3494/2010  Empreitadas de obras públicas   \n",
       "\n",
       "                            tipoprocedimento  \\\n",
       "0  Concurso limitado por prévia qualificação   \n",
       "1  Concurso limitado por prévia qualificação   \n",
       "2                           Concurso público   \n",
       "3                           Concurso público   \n",
       "4                           Concurso público   \n",
       "\n",
       "                                     objectoContrato  \\\n",
       "0  Empreitada de Projecto, Construção e Exploraçã...   \n",
       "1  Empreitada de Projecto, Construção e Exploraçã...   \n",
       "2  Recolha, Transporte e Deposição de resíduos do...   \n",
       "3  O contrato tem por objecto a construção da Est...   \n",
       "4  Empreitada para Reabilitação da Célula de Lama...   \n",
       "\n",
       "                                        adjudicantes  \\\n",
       "0  506598160 - Águas do Mondego - Sistema Mult. d...   \n",
       "1  506598160 - Águas do Mondego - Sistema Mult. d...   \n",
       "2  503455539 - Sanest - Saneamento da Costa Estor...   \n",
       "3                 505176300 - Águas do Algarve, S.A.   \n",
       "4  508608015 - Administração da Região Hidrográfi...   \n",
       "\n",
       "                                      adjudicatarios dataPublicacao  \\\n",
       "0  500738793 - JOSÉ MARQUES GRÁCIO SA. | 50115734...     2015-09-04   \n",
       "1  500023875 - Casais - Engenharia e Construções,...     2015-09-04   \n",
       "2      500512884 - EGEO - TECNOLOGIA E AMBIENTE, SA.     2014-12-09   \n",
       "3  500091366 - Eduardo Pinto Contreiras &amp; Fil...     2014-08-22   \n",
       "4  500285608 - TOMÁS DE OLIVEIRA, EMPREITEIROS, S...     2014-09-15   \n",
       "\n",
       "  dataCelebracaoContrato  precoContratual  \\\n",
       "0             2014-05-07       1639025.08   \n",
       "1             2014-05-12       2943077.15   \n",
       "2             2014-06-30        525004.90   \n",
       "3             2014-07-29       1806005.15   \n",
       "4             2014-04-15       3844399.53   \n",
       "\n",
       "                                                 cpv  prazoExecucao  \\\n",
       "0  45252127-4 - Construção de estação de tratamen...            690   \n",
       "1  45252127-4 - Construção de estação de tratamen...            690   \n",
       "2    90512000-9 - Serviços de transporte de resíduos           1095   \n",
       "3  45232423-3 - Construção de estações de bombage...            300   \n",
       "4        45232422-6 - Estação de tratamento de lamas            610   \n",
       "\n",
       "                                       localExecucao  \\\n",
       "0  Portugal, Coimbra, Coimbra | Portugal, Coimbra...   \n",
       "1                         Portugal, Coimbra, Arganil   \n",
       "2  Portugal, Lisboa, Cascais | Portugal, Lisboa, ...   \n",
       "3                          Portugal, Faro, Albufeira   \n",
       "4                       Portugal, Santarém, Alcanena   \n",
       "\n",
       "                                       fundamentacao  \n",
       "0  Artigo 31.º, n.º 1 do Código dos Contratos Púb...  \n",
       "1  Artigo 31.º, n.º 1 do Código dos Contratos Púb...  \n",
       "2  Artigo 20.º, n.º 1, alínea b) do Código dos Co...  \n",
       "3  Artigo 19.º, alínea b) do Código dos Contratos...  \n",
       "4  Artigo 19.º, alínea b) do Código dos Contratos...  "
      ]
     },
     "execution_count": 7,
     "metadata": {},
     "output_type": "execute_result"
    }
   ],
   "source": [
    "data.head()"
   ]
  },
  {
   "cell_type": "code",
   "execution_count": 62,
   "metadata": {},
   "outputs": [],
   "source": [
    "# fazer uma cópia para nao mexer nos originais\n",
    "df_copy = data.copy()"
   ]
  },
  {
   "cell_type": "code",
   "execution_count": 63,
   "metadata": {},
   "outputs": [
    {
     "data": {
      "text/html": [
       "<div>\n",
       "<style scoped>\n",
       "    .dataframe tbody tr th:only-of-type {\n",
       "        vertical-align: middle;\n",
       "    }\n",
       "\n",
       "    .dataframe tbody tr th {\n",
       "        vertical-align: top;\n",
       "    }\n",
       "\n",
       "    .dataframe thead th {\n",
       "        text-align: right;\n",
       "    }\n",
       "</style>\n",
       "<table border=\"1\" class=\"dataframe\">\n",
       "  <thead>\n",
       "    <tr style=\"text-align: right;\">\n",
       "      <th></th>\n",
       "      <th>idcontrato</th>\n",
       "      <th>nAnuncio</th>\n",
       "      <th>tipoContrato</th>\n",
       "      <th>tipoprocedimento</th>\n",
       "      <th>objectoContrato</th>\n",
       "      <th>adjudicantes</th>\n",
       "      <th>adjudicatarios</th>\n",
       "      <th>dataPublicacao</th>\n",
       "      <th>dataCelebracaoContrato</th>\n",
       "      <th>precoContratual</th>\n",
       "      <th>cpv</th>\n",
       "      <th>prazoExecucao</th>\n",
       "      <th>localExecucao</th>\n",
       "    </tr>\n",
       "  </thead>\n",
       "  <tbody>\n",
       "    <tr>\n",
       "      <th>0</th>\n",
       "      <td>1541104</td>\n",
       "      <td>1242/2010</td>\n",
       "      <td>Empreitadas de obras públicas</td>\n",
       "      <td>Concurso limitado por prévia qualificação</td>\n",
       "      <td>Empreitada de Projecto, Construção e Exploraçã...</td>\n",
       "      <td>506598160 - Águas do Mondego - Sistema Mult. d...</td>\n",
       "      <td>500738793 - JOSÉ MARQUES GRÁCIO SA. | 50115734...</td>\n",
       "      <td>2015-09-04</td>\n",
       "      <td>2014-05-07</td>\n",
       "      <td>1639025.08</td>\n",
       "      <td>45252127-4 - Construção de estação de tratamen...</td>\n",
       "      <td>690</td>\n",
       "      <td>Portugal, Coimbra, Coimbra | Portugal, Coimbra...</td>\n",
       "    </tr>\n",
       "    <tr>\n",
       "      <th>1</th>\n",
       "      <td>1541123</td>\n",
       "      <td>1342/2010</td>\n",
       "      <td>Empreitadas de obras públicas</td>\n",
       "      <td>Concurso limitado por prévia qualificação</td>\n",
       "      <td>Empreitada de Projecto, Construção e Exploraçã...</td>\n",
       "      <td>506598160 - Águas do Mondego - Sistema Mult. d...</td>\n",
       "      <td>500023875 - Casais - Engenharia e Construções,...</td>\n",
       "      <td>2015-09-04</td>\n",
       "      <td>2014-05-12</td>\n",
       "      <td>2943077.15</td>\n",
       "      <td>45252127-4 - Construção de estação de tratamen...</td>\n",
       "      <td>690</td>\n",
       "      <td>Portugal, Coimbra, Arganil</td>\n",
       "    </tr>\n",
       "    <tr>\n",
       "      <th>2</th>\n",
       "      <td>1320689</td>\n",
       "      <td>2407/2010</td>\n",
       "      <td>Aquisição de serviços</td>\n",
       "      <td>Concurso público</td>\n",
       "      <td>Recolha, Transporte e Deposição de resíduos do...</td>\n",
       "      <td>503455539 - Sanest - Saneamento da Costa Estor...</td>\n",
       "      <td>500512884 - EGEO - TECNOLOGIA E AMBIENTE, SA.</td>\n",
       "      <td>2014-12-09</td>\n",
       "      <td>2014-06-30</td>\n",
       "      <td>525004.90</td>\n",
       "      <td>90512000-9 - Serviços de transporte de resíduos</td>\n",
       "      <td>1095</td>\n",
       "      <td>Portugal, Lisboa, Cascais | Portugal, Lisboa, ...</td>\n",
       "    </tr>\n",
       "    <tr>\n",
       "      <th>3</th>\n",
       "      <td>1157167</td>\n",
       "      <td>3350/2010</td>\n",
       "      <td>Empreitadas de obras públicas</td>\n",
       "      <td>Concurso público</td>\n",
       "      <td>O contrato tem por objecto a construção da Est...</td>\n",
       "      <td>505176300 - Águas do Algarve, S.A.</td>\n",
       "      <td>500091366 - Eduardo Pinto Contreiras &amp;amp; Fil...</td>\n",
       "      <td>2014-08-22</td>\n",
       "      <td>2014-07-29</td>\n",
       "      <td>1806005.15</td>\n",
       "      <td>45232423-3 - Construção de estações de bombage...</td>\n",
       "      <td>300</td>\n",
       "      <td>Portugal, Faro, Albufeira</td>\n",
       "    </tr>\n",
       "    <tr>\n",
       "      <th>4</th>\n",
       "      <td>1229022</td>\n",
       "      <td>3494/2010</td>\n",
       "      <td>Empreitadas de obras públicas</td>\n",
       "      <td>Concurso público</td>\n",
       "      <td>Empreitada para Reabilitação da Célula de Lama...</td>\n",
       "      <td>508608015 - Administração da Região Hidrográfi...</td>\n",
       "      <td>500285608 - TOMÁS DE OLIVEIRA, EMPREITEIROS, S...</td>\n",
       "      <td>2014-09-15</td>\n",
       "      <td>2014-04-15</td>\n",
       "      <td>3844399.53</td>\n",
       "      <td>45232422-6 - Estação de tratamento de lamas</td>\n",
       "      <td>610</td>\n",
       "      <td>Portugal, Santarém, Alcanena</td>\n",
       "    </tr>\n",
       "  </tbody>\n",
       "</table>\n",
       "</div>"
      ],
      "text/plain": [
       "   idcontrato   nAnuncio                   tipoContrato  \\\n",
       "0     1541104  1242/2010  Empreitadas de obras públicas   \n",
       "1     1541123  1342/2010  Empreitadas de obras públicas   \n",
       "2     1320689  2407/2010          Aquisição de serviços   \n",
       "3     1157167  3350/2010  Empreitadas de obras públicas   \n",
       "4     1229022  3494/2010  Empreitadas de obras públicas   \n",
       "\n",
       "                            tipoprocedimento  \\\n",
       "0  Concurso limitado por prévia qualificação   \n",
       "1  Concurso limitado por prévia qualificação   \n",
       "2                           Concurso público   \n",
       "3                           Concurso público   \n",
       "4                           Concurso público   \n",
       "\n",
       "                                     objectoContrato  \\\n",
       "0  Empreitada de Projecto, Construção e Exploraçã...   \n",
       "1  Empreitada de Projecto, Construção e Exploraçã...   \n",
       "2  Recolha, Transporte e Deposição de resíduos do...   \n",
       "3  O contrato tem por objecto a construção da Est...   \n",
       "4  Empreitada para Reabilitação da Célula de Lama...   \n",
       "\n",
       "                                        adjudicantes  \\\n",
       "0  506598160 - Águas do Mondego - Sistema Mult. d...   \n",
       "1  506598160 - Águas do Mondego - Sistema Mult. d...   \n",
       "2  503455539 - Sanest - Saneamento da Costa Estor...   \n",
       "3                 505176300 - Águas do Algarve, S.A.   \n",
       "4  508608015 - Administração da Região Hidrográfi...   \n",
       "\n",
       "                                      adjudicatarios dataPublicacao  \\\n",
       "0  500738793 - JOSÉ MARQUES GRÁCIO SA. | 50115734...     2015-09-04   \n",
       "1  500023875 - Casais - Engenharia e Construções,...     2015-09-04   \n",
       "2      500512884 - EGEO - TECNOLOGIA E AMBIENTE, SA.     2014-12-09   \n",
       "3  500091366 - Eduardo Pinto Contreiras &amp; Fil...     2014-08-22   \n",
       "4  500285608 - TOMÁS DE OLIVEIRA, EMPREITEIROS, S...     2014-09-15   \n",
       "\n",
       "  dataCelebracaoContrato  precoContratual  \\\n",
       "0             2014-05-07       1639025.08   \n",
       "1             2014-05-12       2943077.15   \n",
       "2             2014-06-30        525004.90   \n",
       "3             2014-07-29       1806005.15   \n",
       "4             2014-04-15       3844399.53   \n",
       "\n",
       "                                                 cpv  prazoExecucao  \\\n",
       "0  45252127-4 - Construção de estação de tratamen...            690   \n",
       "1  45252127-4 - Construção de estação de tratamen...            690   \n",
       "2    90512000-9 - Serviços de transporte de resíduos           1095   \n",
       "3  45232423-3 - Construção de estações de bombage...            300   \n",
       "4        45232422-6 - Estação de tratamento de lamas            610   \n",
       "\n",
       "                                       localExecucao  \n",
       "0  Portugal, Coimbra, Coimbra | Portugal, Coimbra...  \n",
       "1                         Portugal, Coimbra, Arganil  \n",
       "2  Portugal, Lisboa, Cascais | Portugal, Lisboa, ...  \n",
       "3                          Portugal, Faro, Albufeira  \n",
       "4                       Portugal, Santarém, Alcanena  "
      ]
     },
     "execution_count": 63,
     "metadata": {},
     "output_type": "execute_result"
    }
   ],
   "source": [
    "df_copy.reset_index(inplace = True)\n",
    "df_copy.drop(columns = ['index', 'fundamentacao'], inplace = True)\n",
    "df_copy.head()"
   ]
  },
  {
   "cell_type": "markdown",
   "metadata": {},
   "source": [
    "<b>[Step 2. | 0.5 points ]</b> Perform some quick inspection of the data file in order to answer the following questions:\n",
    "1. How many records does the dataset include?"
   ]
  },
  {
   "cell_type": "code",
   "execution_count": 10,
   "metadata": {},
   "outputs": [
    {
     "data": {
      "text/plain": [
       "250092"
      ]
     },
     "execution_count": 10,
     "metadata": {},
     "output_type": "execute_result"
    }
   ],
   "source": [
    "df_copy.shape[0]"
   ]
  },
  {
   "cell_type": "markdown",
   "metadata": {},
   "source": [
    "2. What are the fields names?"
   ]
  },
  {
   "cell_type": "code",
   "execution_count": 11,
   "metadata": {
    "scrolled": true
   },
   "outputs": [
    {
     "data": {
      "text/plain": [
       "Index(['idcontrato', 'nAnuncio', 'tipoContrato', 'tipoprocedimento',\n",
       "       'objectoContrato', 'adjudicantes', 'adjudicatarios', 'dataPublicacao',\n",
       "       'dataCelebracaoContrato', 'precoContratual', 'cpv', 'prazoExecucao',\n",
       "       'localExecucao'],\n",
       "      dtype='object')"
      ]
     },
     "execution_count": 11,
     "metadata": {},
     "output_type": "execute_result"
    }
   ],
   "source": [
    "df_copy.columns"
   ]
  },
  {
   "cell_type": "markdown",
   "metadata": {},
   "source": [
    "3. What are the datatypes of each field?"
   ]
  },
  {
   "cell_type": "code",
   "execution_count": 12,
   "metadata": {},
   "outputs": [
    {
     "name": "stdout",
     "output_type": "stream",
     "text": [
      "<class 'pandas.core.frame.DataFrame'>\n",
      "RangeIndex: 250092 entries, 0 to 250091\n",
      "Data columns (total 13 columns):\n",
      " #   Column                  Non-Null Count   Dtype         \n",
      "---  ------                  --------------   -----         \n",
      " 0   idcontrato              250092 non-null  int64         \n",
      " 1   nAnuncio                16740 non-null   object        \n",
      " 2   tipoContrato            250092 non-null  object        \n",
      " 3   tipoprocedimento        250092 non-null  object        \n",
      " 4   objectoContrato         250075 non-null  object        \n",
      " 5   adjudicantes            250092 non-null  object        \n",
      " 6   adjudicatarios          250085 non-null  object        \n",
      " 7   dataPublicacao          250092 non-null  datetime64[ns]\n",
      " 8   dataCelebracaoContrato  250092 non-null  datetime64[ns]\n",
      " 9   precoContratual         250092 non-null  float64       \n",
      " 10  cpv                     250035 non-null  object        \n",
      " 11  prazoExecucao           250092 non-null  int64         \n",
      " 12  localExecucao           250092 non-null  object        \n",
      "dtypes: datetime64[ns](2), float64(1), int64(2), object(8)\n",
      "memory usage: 24.8+ MB\n"
     ]
    }
   ],
   "source": [
    "df_copy.info()"
   ]
  },
  {
   "cell_type": "markdown",
   "metadata": {},
   "source": [
    "<b>[Step 3. | 3 points ]</b> As you have probably noticed our raw data is not exactly the cleanest dataset in the block. Indeed, we will need to perform some parsing in order to obtain a good working data. In that sense, write the necessary code to perform the following steps: <br>\n",
    "1. Break the field <i>cpv</i> into two columns named <i>cpvDOC</i> and <i>CPV</i>.<br>\n",
    "   The field <i>cpvDOC</i> should retain the CPV id, while the <i>CPV</i> its Description <br>\n",
    "   For instance, a record with value \"72416000-9, Fornecedores de aplicações\" should lead to a <i>cpvDOC</i> equal to \"72416000-9\" and a <i>CPV</i> equal to \"Fornecedores de aplicações\" <br>\n",
    "   \n",
    "   \n",
    "Use the head command to display the top 10 rows of these new columns (and only these new columns)."
   ]
  },
  {
   "cell_type": "code",
   "execution_count": 69,
   "metadata": {},
   "outputs": [],
   "source": [
    "# existem 3350 contratos com mais de um cpv\n",
    "filter_cpv = []\n",
    "for i in df_copy['cpv']:\n",
    "    if '|' in str(i):\n",
    "        filter_cpv.append(False)\n",
    "    else:\n",
    "        filter_cpv.append(True)"
   ]
  },
  {
   "cell_type": "code",
   "execution_count": 70,
   "metadata": {},
   "outputs": [
    {
     "data": {
      "text/plain": [
       "3350"
      ]
     },
     "execution_count": 70,
     "metadata": {},
     "output_type": "execute_result"
    }
   ],
   "source": [
    "filter_cpv.count(False)"
   ]
  },
  {
   "cell_type": "code",
   "execution_count": 71,
   "metadata": {},
   "outputs": [],
   "source": [
    "# vou remover estas linhas\n",
    "df_copy = df_copy[filter_cpv]"
   ]
  },
  {
   "cell_type": "code",
   "execution_count": 86,
   "metadata": {},
   "outputs": [
    {
     "name": "stdout",
     "output_type": "stream",
     "text": [
      "We dropped 1.34 % of the procurements in our original data\n"
     ]
    }
   ],
   "source": [
    "print(f'We dropped {round(100-(len(df_copy)/len(data))*100,2)} % of the procurements in our original data')"
   ]
  },
  {
   "cell_type": "code",
   "execution_count": 75,
   "metadata": {},
   "outputs": [],
   "source": [
    "# compute new columns\n",
    "df_copy['cpvDOC'] = df_copy['cpv'].map(lambda x: str(x)[0:10])\n",
    "df_copy['CPV'] = df_copy['cpv'].map(lambda x: str(x)[13:])\n",
    "df_copy.drop('cpv', axis=1, inplace=True)"
   ]
  },
  {
   "cell_type": "code",
   "execution_count": 77,
   "metadata": {},
   "outputs": [
    {
     "data": {
      "text/html": [
       "<div>\n",
       "<style scoped>\n",
       "    .dataframe tbody tr th:only-of-type {\n",
       "        vertical-align: middle;\n",
       "    }\n",
       "\n",
       "    .dataframe tbody tr th {\n",
       "        vertical-align: top;\n",
       "    }\n",
       "\n",
       "    .dataframe thead th {\n",
       "        text-align: right;\n",
       "    }\n",
       "</style>\n",
       "<table border=\"1\" class=\"dataframe\">\n",
       "  <thead>\n",
       "    <tr style=\"text-align: right;\">\n",
       "      <th></th>\n",
       "      <th>cpvDOC</th>\n",
       "      <th>CPV</th>\n",
       "    </tr>\n",
       "  </thead>\n",
       "  <tbody>\n",
       "    <tr>\n",
       "      <th>0</th>\n",
       "      <td>45252127-4</td>\n",
       "      <td>Construção de estação de tratamento de águas r...</td>\n",
       "    </tr>\n",
       "    <tr>\n",
       "      <th>1</th>\n",
       "      <td>45252127-4</td>\n",
       "      <td>Construção de estação de tratamento de águas r...</td>\n",
       "    </tr>\n",
       "    <tr>\n",
       "      <th>2</th>\n",
       "      <td>90512000-9</td>\n",
       "      <td>Serviços de transporte de resíduos</td>\n",
       "    </tr>\n",
       "    <tr>\n",
       "      <th>3</th>\n",
       "      <td>45232423-3</td>\n",
       "      <td>Construção de estações de bombagem de águas re...</td>\n",
       "    </tr>\n",
       "    <tr>\n",
       "      <th>4</th>\n",
       "      <td>45232422-6</td>\n",
       "      <td>Estação de tratamento de lamas</td>\n",
       "    </tr>\n",
       "    <tr>\n",
       "      <th>5</th>\n",
       "      <td>50411000-9</td>\n",
       "      <td>Serviços de reparação e manutenção de aparelho...</td>\n",
       "    </tr>\n",
       "    <tr>\n",
       "      <th>6</th>\n",
       "      <td>45232460-4</td>\n",
       "      <td>Obras de saneamento</td>\n",
       "    </tr>\n",
       "    <tr>\n",
       "      <th>7</th>\n",
       "      <td>45200000-9</td>\n",
       "      <td>Obras de construção total ou parcial e de enge...</td>\n",
       "    </tr>\n",
       "    <tr>\n",
       "      <th>8</th>\n",
       "      <td>50000000-5</td>\n",
       "      <td>Serviços de reparação e manutenção</td>\n",
       "    </tr>\n",
       "    <tr>\n",
       "      <th>9</th>\n",
       "      <td>71314100-3</td>\n",
       "      <td>Serviços de electricidade</td>\n",
       "    </tr>\n",
       "  </tbody>\n",
       "</table>\n",
       "</div>"
      ],
      "text/plain": [
       "       cpvDOC                                                CPV\n",
       "0  45252127-4  Construção de estação de tratamento de águas r...\n",
       "1  45252127-4  Construção de estação de tratamento de águas r...\n",
       "2  90512000-9                 Serviços de transporte de resíduos\n",
       "3  45232423-3  Construção de estações de bombagem de águas re...\n",
       "4  45232422-6                     Estação de tratamento de lamas\n",
       "5  50411000-9  Serviços de reparação e manutenção de aparelho...\n",
       "6  45232460-4                                Obras de saneamento\n",
       "7  45200000-9  Obras de construção total ou parcial e de enge...\n",
       "8  50000000-5                 Serviços de reparação e manutenção\n",
       "9  71314100-3                          Serviços de electricidade"
      ]
     },
     "execution_count": 77,
     "metadata": {},
     "output_type": "execute_result"
    }
   ],
   "source": [
    "# display top ten rows and the new calculated columns\n",
    "df_copy.head(10).loc[:,['cpvDOC','CPV']]"
   ]
  },
  {
   "cell_type": "markdown",
   "metadata": {},
   "source": [
    "2. Convert any fields with dates to datetime objects. Show the datatypes of all fields after your conversion.<br>\n",
    "**Tip:** You might want to check the link https://pandas.pydata.org/docs/reference/api/pandas.to_datetime.html for some tips regarding datetime conversion \n",
    "\n"
   ]
  },
  {
   "cell_type": "code",
   "execution_count": 78,
   "metadata": {},
   "outputs": [],
   "source": [
    "# o read excel ja carregou ambas como datas, este passo é redundante\n",
    "df_copy['dataPublicacao'] = pd.to_datetime(df_copy['dataPublicacao'], format='%Y%m%d')\n",
    "df_copy['dataCelebracaoContrato'] = pd.to_datetime(df_copy['dataCelebracaoContrato'], format='%Y%m%d')"
   ]
  },
  {
   "cell_type": "markdown",
   "metadata": {},
   "source": [
    "3. In the fields <i>adjudicantes</i> (issuers) and <i>adjudicatários</i> (suppliers) you should have noticed that it includes both the name and the fiscal numbers (NIF) of the participating institutions.<br>\n",
    "   For each of those two fields, split each record into two new fields. <br>\n",
    "   <i>Entidade adjudicante - Nome, NIF</i> split into <i>issuerNIF</i> and <i>issuerName</i>.<br>\n",
    "   <i>Entidade adjudicatária - Nome, NIF</i> split into <i>supplierNIF</i> and <i>supplierName</i>.<br>\n",
    "   \n",
    "   \n",
    "   You will find that in some cases there are multiple entities in those fields, which are separated by \"|\". Explain: how have you worked around such cases? \n",
    "   \n",
    "   If you are not able to perform this, feel free to ignore/drop the records that have multiple entities in each of those fields, but report what is the percentage of procurements that you would be dropping."
   ]
  },
  {
   "cell_type": "code",
   "execution_count": 79,
   "metadata": {},
   "outputs": [],
   "source": [
    "#fiz uma cópia só para não ter de estar sempre a ir buscar o data\n",
    "data_play = df_copy.copy()"
   ]
  },
  {
   "cell_type": "code",
   "execution_count": 57,
   "metadata": {},
   "outputs": [],
   "source": [
    "#eu criei duas funções uma que dá os nifs e outra que dá os nomes\n",
    "#quando existe mais do que um nif ou nome ele cria uma lista com os vários nifs ou nomes\n",
    "# def nifsplitter(x):\n",
    "#     out = []\n",
    "#     if \"|\" in str(x):\n",
    "#         NIF = str(x).split(sep=\"|\")\n",
    "#         for _, nif in enumerate(NIF):\n",
    "#             out.append(str(nif)[:10])\n",
    "#         return out\n",
    "#     else:\n",
    "#         return str(x)[:10]\n",
    "\n",
    "# def namesplitter(x):\n",
    "#     out = []\n",
    "#     if \"|\" in str(x):\n",
    "#         names = str(x).split(sep=\"|\")\n",
    "#         for _, names in enumerate(names):\n",
    "#             out.append(str(names)[11:])\n",
    "#         return out\n",
    "#     else:\n",
    "#         return str(x)[11:]"
   ]
  },
  {
   "cell_type": "code",
   "execution_count": 80,
   "metadata": {},
   "outputs": [],
   "source": [
    "filter_adj = []\n",
    "for i in data_play['adjudicantes']:\n",
    "    if '|' in str(i):\n",
    "        filter_adj.append(False)\n",
    "    else:\n",
    "        filter_adj.append(True)"
   ]
  },
  {
   "cell_type": "code",
   "execution_count": 81,
   "metadata": {},
   "outputs": [],
   "source": [
    "data_play = data_play.iloc[filter_adj]"
   ]
  },
  {
   "cell_type": "code",
   "execution_count": 82,
   "metadata": {},
   "outputs": [],
   "source": [
    "filter_sup = []\n",
    "for i in data_play['adjudicatarios']:\n",
    "    if '|' in str(i):\n",
    "        filter_sup.append(False)\n",
    "    else:\n",
    "        filter_sup.append(True)"
   ]
  },
  {
   "cell_type": "code",
   "execution_count": 83,
   "metadata": {},
   "outputs": [],
   "source": [
    "data_play = data_play.iloc[filter_sup]"
   ]
  },
  {
   "cell_type": "code",
   "execution_count": 85,
   "metadata": {},
   "outputs": [
    {
     "name": "stdout",
     "output_type": "stream",
     "text": [
      "We dropped 2.89 % of the procurements in our original data\n"
     ]
    }
   ],
   "source": [
    "print(f'We dropped {round(100-(len(data_play)/len(data))*100,2)} % of the procurements in our original data')"
   ]
  },
  {
   "cell_type": "code",
   "execution_count": 87,
   "metadata": {},
   "outputs": [
    {
     "data": {
      "text/html": [
       "<div>\n",
       "<style scoped>\n",
       "    .dataframe tbody tr th:only-of-type {\n",
       "        vertical-align: middle;\n",
       "    }\n",
       "\n",
       "    .dataframe tbody tr th {\n",
       "        vertical-align: top;\n",
       "    }\n",
       "\n",
       "    .dataframe thead th {\n",
       "        text-align: right;\n",
       "    }\n",
       "</style>\n",
       "<table border=\"1\" class=\"dataframe\">\n",
       "  <thead>\n",
       "    <tr style=\"text-align: right;\">\n",
       "      <th></th>\n",
       "      <th>idcontrato</th>\n",
       "      <th>nAnuncio</th>\n",
       "      <th>tipoContrato</th>\n",
       "      <th>tipoprocedimento</th>\n",
       "      <th>objectoContrato</th>\n",
       "      <th>dataPublicacao</th>\n",
       "      <th>dataCelebracaoContrato</th>\n",
       "      <th>precoContratual</th>\n",
       "      <th>prazoExecucao</th>\n",
       "      <th>localExecucao</th>\n",
       "      <th>cpvDOC</th>\n",
       "      <th>CPV</th>\n",
       "      <th>issuerNIF</th>\n",
       "      <th>issuerName</th>\n",
       "      <th>supplierNIF</th>\n",
       "      <th>supplierName</th>\n",
       "    </tr>\n",
       "  </thead>\n",
       "  <tbody>\n",
       "    <tr>\n",
       "      <th>1</th>\n",
       "      <td>1541123</td>\n",
       "      <td>1342/2010</td>\n",
       "      <td>Empreitadas de obras públicas</td>\n",
       "      <td>Concurso limitado por prévia qualificação</td>\n",
       "      <td>Empreitada de Projecto, Construção e Exploraçã...</td>\n",
       "      <td>2015-09-04</td>\n",
       "      <td>2014-05-12</td>\n",
       "      <td>2943077.15</td>\n",
       "      <td>690</td>\n",
       "      <td>Portugal, Coimbra, Arganil</td>\n",
       "      <td>45252127-4</td>\n",
       "      <td>Construção de estação de tratamento de águas r...</td>\n",
       "      <td>506598160</td>\n",
       "      <td>Águas do Mondego - Sistema Mult. de Abast. Águ...</td>\n",
       "      <td>500023875</td>\n",
       "      <td>Casais - Engenharia e Construções, S.A.</td>\n",
       "    </tr>\n",
       "    <tr>\n",
       "      <th>2</th>\n",
       "      <td>1320689</td>\n",
       "      <td>2407/2010</td>\n",
       "      <td>Aquisição de serviços</td>\n",
       "      <td>Concurso público</td>\n",
       "      <td>Recolha, Transporte e Deposição de resíduos do...</td>\n",
       "      <td>2014-12-09</td>\n",
       "      <td>2014-06-30</td>\n",
       "      <td>525004.90</td>\n",
       "      <td>1095</td>\n",
       "      <td>Portugal, Lisboa, Cascais | Portugal, Lisboa, ...</td>\n",
       "      <td>90512000-9</td>\n",
       "      <td>Serviços de transporte de resíduos</td>\n",
       "      <td>503455539</td>\n",
       "      <td>Sanest - Saneamento da Costa Estoril, SA</td>\n",
       "      <td>500512884</td>\n",
       "      <td>EGEO - TECNOLOGIA E AMBIENTE, SA.</td>\n",
       "    </tr>\n",
       "    <tr>\n",
       "      <th>5</th>\n",
       "      <td>1293929</td>\n",
       "      <td>350/2010</td>\n",
       "      <td>Aquisição de serviços</td>\n",
       "      <td>Concurso público</td>\n",
       "      <td>Aquisição de serviços de Reabilitação e operac...</td>\n",
       "      <td>2014-11-07</td>\n",
       "      <td>2014-07-18</td>\n",
       "      <td>3294000.00</td>\n",
       "      <td>732</td>\n",
       "      <td>Portugal, Portugal Continental</td>\n",
       "      <td>50411000-9</td>\n",
       "      <td>Serviços de reparação e manutenção de aparelho...</td>\n",
       "      <td>503237965</td>\n",
       "      <td>Instituto da Água, I. P.</td>\n",
       "      <td>503636452</td>\n",
       "      <td>Bruno &amp;amp; Lopes - Engenheiros Civis Associad...</td>\n",
       "    </tr>\n",
       "    <tr>\n",
       "      <th>6</th>\n",
       "      <td>1260153</td>\n",
       "      <td>413/2010</td>\n",
       "      <td>Empreitadas de obras públicas</td>\n",
       "      <td>Concurso público</td>\n",
       "      <td>Rede de Drenagem de Águas Residuais Domésticas...</td>\n",
       "      <td>2014-10-02</td>\n",
       "      <td>2014-01-16</td>\n",
       "      <td>856471.75</td>\n",
       "      <td>365</td>\n",
       "      <td>Portugal, Castelo Branco, Sertã</td>\n",
       "      <td>45232460-4</td>\n",
       "      <td>Obras de saneamento</td>\n",
       "      <td>506963837</td>\n",
       "      <td>Município da Sertã</td>\n",
       "      <td>504870475</td>\n",
       "      <td>Lusosicó- Construções, S.A</td>\n",
       "    </tr>\n",
       "    <tr>\n",
       "      <th>7</th>\n",
       "      <td>1083754</td>\n",
       "      <td>4890/2010</td>\n",
       "      <td>Empreitadas de obras públicas</td>\n",
       "      <td>Concurso público</td>\n",
       "      <td>P127/2010/CPA - Remodelação do Antigo Edifício...</td>\n",
       "      <td>2014-05-30</td>\n",
       "      <td>2014-05-29</td>\n",
       "      <td>768537.31</td>\n",
       "      <td>365</td>\n",
       "      <td>Portugal, Santarém, Ourém</td>\n",
       "      <td>45200000-9</td>\n",
       "      <td>Obras de construção total ou parcial e de enge...</td>\n",
       "      <td>501280740</td>\n",
       "      <td>Município de Ourém</td>\n",
       "      <td>506378527</td>\n",
       "      <td>NORTEJUVIL, SOCIEDADE DE CONSTRUÇÕES LDA.</td>\n",
       "    </tr>\n",
       "  </tbody>\n",
       "</table>\n",
       "</div>"
      ],
      "text/plain": [
       "   idcontrato   nAnuncio                   tipoContrato  \\\n",
       "1     1541123  1342/2010  Empreitadas de obras públicas   \n",
       "2     1320689  2407/2010          Aquisição de serviços   \n",
       "5     1293929   350/2010          Aquisição de serviços   \n",
       "6     1260153   413/2010  Empreitadas de obras públicas   \n",
       "7     1083754  4890/2010  Empreitadas de obras públicas   \n",
       "\n",
       "                            tipoprocedimento  \\\n",
       "1  Concurso limitado por prévia qualificação   \n",
       "2                           Concurso público   \n",
       "5                           Concurso público   \n",
       "6                           Concurso público   \n",
       "7                           Concurso público   \n",
       "\n",
       "                                     objectoContrato dataPublicacao  \\\n",
       "1  Empreitada de Projecto, Construção e Exploraçã...     2015-09-04   \n",
       "2  Recolha, Transporte e Deposição de resíduos do...     2014-12-09   \n",
       "5  Aquisição de serviços de Reabilitação e operac...     2014-11-07   \n",
       "6  Rede de Drenagem de Águas Residuais Domésticas...     2014-10-02   \n",
       "7  P127/2010/CPA - Remodelação do Antigo Edifício...     2014-05-30   \n",
       "\n",
       "  dataCelebracaoContrato  precoContratual  prazoExecucao  \\\n",
       "1             2014-05-12       2943077.15            690   \n",
       "2             2014-06-30        525004.90           1095   \n",
       "5             2014-07-18       3294000.00            732   \n",
       "6             2014-01-16        856471.75            365   \n",
       "7             2014-05-29        768537.31            365   \n",
       "\n",
       "                                       localExecucao      cpvDOC  \\\n",
       "1                         Portugal, Coimbra, Arganil  45252127-4   \n",
       "2  Portugal, Lisboa, Cascais | Portugal, Lisboa, ...  90512000-9   \n",
       "5                     Portugal, Portugal Continental  50411000-9   \n",
       "6                    Portugal, Castelo Branco, Sertã  45232460-4   \n",
       "7                          Portugal, Santarém, Ourém  45200000-9   \n",
       "\n",
       "                                                 CPV  issuerNIF  \\\n",
       "1  Construção de estação de tratamento de águas r...  506598160   \n",
       "2                 Serviços de transporte de resíduos  503455539   \n",
       "5  Serviços de reparação e manutenção de aparelho...  503237965   \n",
       "6                                Obras de saneamento  506963837   \n",
       "7  Obras de construção total ou parcial e de enge...  501280740   \n",
       "\n",
       "                                          issuerName supplierNIF  \\\n",
       "1  Águas do Mondego - Sistema Mult. de Abast. Águ...   500023875   \n",
       "2           Sanest - Saneamento da Costa Estoril, SA   500512884   \n",
       "5                           Instituto da Água, I. P.   503636452   \n",
       "6                                 Município da Sertã   504870475   \n",
       "7                                 Município de Ourém   506378527   \n",
       "\n",
       "                                        supplierName  \n",
       "1           Casais - Engenharia e Construções, S.A.   \n",
       "2                  EGEO - TECNOLOGIA E AMBIENTE, SA.  \n",
       "5  Bruno &amp; Lopes - Engenheiros Civis Associad...  \n",
       "6                         Lusosicó- Construções, S.A  \n",
       "7          NORTEJUVIL, SOCIEDADE DE CONSTRUÇÕES LDA.  "
      ]
     },
     "execution_count": 87,
     "metadata": {},
     "output_type": "execute_result"
    }
   ],
   "source": [
    "# split the columns\n",
    "data_play['issuerNIF'] = data_play['adjudicantes'].apply(lambda x: str(x)[:9])\n",
    "data_play['issuerName'] = data_play['adjudicantes'].apply(lambda x: str(x)[12:])\n",
    "data_play['supplierNIF'] = data_play['adjudicatarios'].apply(lambda x: str(x)[:9])\n",
    "data_play['supplierName'] = data_play['adjudicatarios'].apply(lambda x: str(x)[12:])\n",
    "\n",
    "data_play.drop(columns=['adjudicantes','adjudicatarios'], inplace=True)\n",
    "data_play.head()"
   ]
  },
  {
   "cell_type": "markdown",
   "metadata": {},
   "source": [
    "4. Verify that the parsing was successful "
   ]
  },
  {
   "cell_type": "markdown",
   "metadata": {},
   "source": [
    "<b>[Step 4. | 5 points ]</b> Let us do some exploratory analysis of the data. The goal is to develop some familarity with the data, which we will do by answering some simple questions. Knowing which questions to ask is an important step for any successful data science project. In that sense, write down the necessary code to answer the following questions:\n",
    "\n",
    "You can report the results using a meaningful visualization (check out https://pandas.pydata.org/docs/reference/api/pandas.DataFrame.plot.html or the seaborn module)\n",
    "\n",
    "1. What is the total value (precoContratual) of procurements per month?"
   ]
  },
  {
   "cell_type": "code",
   "execution_count": 88,
   "metadata": {},
   "outputs": [],
   "source": [
    "data_play['month'] = data_play['dataCelebracaoContrato'].apply(lambda x: x.month)\n",
    "data_play['monthyear'] = data_play['dataCelebracaoContrato'].apply(lambda x: x.year*100+x.month)\n",
    "data_play['precoContratual_M'] = data_play['precoContratual']/1000000"
   ]
  },
  {
   "cell_type": "code",
   "execution_count": 242,
   "metadata": {},
   "outputs": [
    {
     "data": {
      "image/png": "[encoded data removed]",
      "text/plain": [
       "<Figure size 720x360 with 1 Axes>"
      ]
     },
     "metadata": {
      "needs_background": "light"
     },
     "output_type": "display_data"
    }
   ],
   "source": [
    "plt.figure(figsize=(10,5))\n",
    "data_play.groupby('monthyear').precoContratual_M.agg('sum').plot(kind='bar')\n",
    "plt.title('Total contract amount by month (in millions)')\n",
    "plt.show()"
   ]
  },
  {
   "cell_type": "markdown",
   "metadata": {},
   "source": [
    "2. How many procurements have been issued per **month of year**?"
   ]
  },
  {
   "cell_type": "code",
   "execution_count": 243,
   "metadata": {},
   "outputs": [
    {
     "data": {
      "image/png": "[encoded data removed]",
      "text/plain": [
       "<Figure size 720x360 with 1 Axes>"
      ]
     },
     "metadata": {
      "needs_background": "light"
     },
     "output_type": "display_data"
    }
   ],
   "source": [
    "plt.figure(figsize=(10,5))\n",
    "data_play['month'].value_counts().sort_index().plot(kind='bar')\n",
    "plt.title('Total number of contracts by month year')\n",
    "plt.show()"
   ]
  },
  {
   "cell_type": "markdown",
   "metadata": {},
   "source": [
    "3. What is the distribution of values? In other words, what is the proportion of procurements that have value X?  \n",
    "Can you build a visualization and highlight what you found more interesting and discuss it? \n",
    "\n",
    "**Note:** Consider working with the Logarithm base 10 of values; Consider use predefined bin in the X values."
   ]
  },
  {
   "cell_type": "code",
   "execution_count": 94,
   "metadata": {},
   "outputs": [
    {
     "data": {
      "image/png": "[encoded data removed]",
      "text/plain": [
       "<Figure size 360x360 with 1 Axes>"
      ]
     },
     "metadata": {
      "needs_background": "light"
     },
     "output_type": "display_data"
    }
   ],
   "source": [
    "#because we have contract with value 0 and log of 0 is indetermined I will add 1 euro to each contract\n",
    "data_play['logprecoContratual'] = data_play['precoContratual'].apply(lambda x: np.log10(x+1))\n",
    "#data_play['logprecoContratual'].plot(kind='hist')\n",
    "sns.displot(data=data_play, x='logprecoContratual', bins = 100)\n",
    "plt.show()"
   ]
  },
  {
   "cell_type": "markdown",
   "metadata": {},
   "source": [
    "4. In the dataset, how many issuing Institutions are there? And how many suppliers?"
   ]
  },
  {
   "cell_type": "code",
   "execution_count": 95,
   "metadata": {},
   "outputs": [
    {
     "name": "stdout",
     "output_type": "stream",
     "text": [
      "There are 5703 issuing Institutions in the dataset\n",
      "There are 42662 suppleirs in the dataset\n"
     ]
    }
   ],
   "source": [
    "print(f'There are {len(data_play.issuerNIF.unique())} issuing Institutions in the dataset')\n",
    "print(f'There are {len(data_play.supplierNIF.unique())} suppleirs in the dataset')"
   ]
  },
  {
   "cell_type": "markdown",
   "metadata": {},
   "source": [
    "5. What services has ISEGI-Inst Superior de Estatistica e Gestão de Informação da UNL (NIF: 502322152) supplied? And who are the top three issuers/beneficiaries of such services?"
   ]
  },
  {
   "cell_type": "code",
   "execution_count": 141,
   "metadata": {},
   "outputs": [
    {
     "data": {
      "text/plain": [
       "array(['Serviços de TI: consultoria, desenvolvimento de software, Internet e apoio',\n",
       "       'Serviços de ensino e formação',\n",
       "       'Serviços de avaliação dos resultados',\n",
       "       'Serviços de sondagens de opinião',\n",
       "       'Serviços de estudos de mercado',\n",
       "       'Serviços de desenvolvimento de software para sectores específicos'],\n",
       "      dtype=object)"
      ]
     },
     "execution_count": 141,
     "metadata": {},
     "output_type": "execute_result"
    }
   ],
   "source": [
    "# services of ISEGI\n",
    "isegi_serv = data_play.loc[data_play['supplierNIF']=='502322152', 'CPV'].unique()\n",
    "isegi_serv"
   ]
  },
  {
   "cell_type": "code",
   "execution_count": 185,
   "metadata": {},
   "outputs": [
    {
     "data": {
      "text/plain": [
       "issuerNIF\n",
       "509906478    607\n",
       "501886354    563\n",
       "502017368    141\n",
       "Name: CPV, dtype: int64"
      ]
     },
     "execution_count": 185,
     "metadata": {},
     "output_type": "execute_result"
    }
   ],
   "source": [
    "# NIF of top three issuers of these services\n",
    "data_play.loc[data_play['CPV'].isin(isegi_serv)].groupby('issuerNIF').CPV.agg('count').sort_values(ascending=False)[:3]"
   ]
  },
  {
   "cell_type": "code",
   "execution_count": 186,
   "metadata": {},
   "outputs": [
    {
     "data": {
      "text/plain": [
       "supplierNIF\n",
       "506176142    85\n",
       "504857312    56\n",
       "505141019    46\n",
       "Name: CPV, dtype: int64"
      ]
     },
     "execution_count": 186,
     "metadata": {},
     "output_type": "execute_result"
    }
   ],
   "source": [
    "# NIF of top three beneficiaries of these services\n",
    "data_play.loc[data_play['CPV'].isin(isegi_serv)].groupby('supplierNIF').CPV.agg('count').sort_values(ascending=False)[:3]"
   ]
  },
  {
   "cell_type": "code",
   "execution_count": 167,
   "metadata": {},
   "outputs": [],
   "source": [
    "filt_top_iss = list(data_play.loc[data_play['CPV'].isin(isegi_serv)].groupby('issuerNIF').CPV.agg('count').sort_values(ascending=False)[:3].index)\n",
    "filt_top_sup = list(data_play.loc[data_play['CPV'].isin(isegi_serv)].groupby('supplierNIF').CPV.agg('count').sort_values(ascending=False)[:3].index)"
   ]
  },
  {
   "cell_type": "code",
   "execution_count": 189,
   "metadata": {},
   "outputs": [
    {
     "data": {
      "text/html": [
       "<div>\n",
       "<style scoped>\n",
       "    .dataframe tbody tr th:only-of-type {\n",
       "        vertical-align: middle;\n",
       "    }\n",
       "\n",
       "    .dataframe tbody tr th {\n",
       "        vertical-align: top;\n",
       "    }\n",
       "\n",
       "    .dataframe thead th {\n",
       "        text-align: right;\n",
       "    }\n",
       "</style>\n",
       "<table border=\"1\" class=\"dataframe\">\n",
       "  <thead>\n",
       "    <tr style=\"text-align: right;\">\n",
       "      <th></th>\n",
       "      <th>issuerNIF</th>\n",
       "      <th>issuerName</th>\n",
       "    </tr>\n",
       "  </thead>\n",
       "  <tbody>\n",
       "    <tr>\n",
       "      <th>1213</th>\n",
       "      <td>509906478</td>\n",
       "      <td>Centro de Formação Profissional da Indústria T...</td>\n",
       "    </tr>\n",
       "    <tr>\n",
       "      <th>4997</th>\n",
       "      <td>502017368</td>\n",
       "      <td>Autoridade Nacional de Comunicações</td>\n",
       "    </tr>\n",
       "    <tr>\n",
       "      <th>30335</th>\n",
       "      <td>501886354</td>\n",
       "      <td>CENCAL - Centro de Formação Profissional para ...</td>\n",
       "    </tr>\n",
       "  </tbody>\n",
       "</table>\n",
       "</div>"
      ],
      "text/plain": [
       "       issuerNIF                                         issuerName\n",
       "1213   509906478  Centro de Formação Profissional da Indústria T...\n",
       "4997   502017368                Autoridade Nacional de Comunicações\n",
       "30335  501886354  CENCAL - Centro de Formação Profissional para ..."
      ]
     },
     "execution_count": 189,
     "metadata": {},
     "output_type": "execute_result"
    }
   ],
   "source": [
    "# top three issuers names\n",
    "data_play.loc[data_play['issuerNIF'].isin(filt_top_iss), ['issuerNIF','issuerName']].drop_duplicates()"
   ]
  },
  {
   "cell_type": "code",
   "execution_count": 182,
   "metadata": {},
   "outputs": [
    {
     "data": {
      "text/html": [
       "<div>\n",
       "<style scoped>\n",
       "    .dataframe tbody tr th:only-of-type {\n",
       "        vertical-align: middle;\n",
       "    }\n",
       "\n",
       "    .dataframe tbody tr th {\n",
       "        vertical-align: top;\n",
       "    }\n",
       "\n",
       "    .dataframe thead th {\n",
       "        text-align: right;\n",
       "    }\n",
       "</style>\n",
       "<table border=\"1\" class=\"dataframe\">\n",
       "  <thead>\n",
       "    <tr style=\"text-align: right;\">\n",
       "      <th></th>\n",
       "      <th>supplierNIF</th>\n",
       "      <th>supplierName</th>\n",
       "    </tr>\n",
       "  </thead>\n",
       "  <tbody>\n",
       "    <tr>\n",
       "      <th>564</th>\n",
       "      <td>504857312</td>\n",
       "      <td>NOVABASE</td>\n",
       "    </tr>\n",
       "    <tr>\n",
       "      <th>4411</th>\n",
       "      <td>505141019</td>\n",
       "      <td>Vortal - Comércio Electrónico Cnsultadoria e M...</td>\n",
       "    </tr>\n",
       "    <tr>\n",
       "      <th>5883</th>\n",
       "      <td>506176142</td>\n",
       "      <td>Indra Sistemas Portugal, S.A.</td>\n",
       "    </tr>\n",
       "    <tr>\n",
       "      <th>180252</th>\n",
       "      <td>505141019</td>\n",
       "      <td>Vortal - Comércio Eletrónico Consultadoria e M...</td>\n",
       "    </tr>\n",
       "  </tbody>\n",
       "</table>\n",
       "</div>"
      ],
      "text/plain": [
       "       supplierNIF                                       supplierName\n",
       "564      504857312                                           NOVABASE\n",
       "4411     505141019  Vortal - Comércio Electrónico Cnsultadoria e M...\n",
       "5883     506176142                      Indra Sistemas Portugal, S.A.\n",
       "180252   505141019  Vortal - Comércio Eletrónico Consultadoria e M..."
      ]
     },
     "execution_count": 182,
     "metadata": {},
     "output_type": "execute_result"
    }
   ],
   "source": [
    "# top three beneficiaries names\n",
    "data_play.loc[data_play['supplierNIF'].isin(filt_top_sup), ['supplierNIF','supplierName']].drop_duplicates()\n",
    "\n",
    "# existem dois nifs com nomes diferentes"
   ]
  },
  {
   "cell_type": "markdown",
   "metadata": {},
   "source": [
    "6. What are the top five services (CPV) contracted by Hospital de Santa Maria Maior (NIF: 506361381)?"
   ]
  },
  {
   "cell_type": "code",
   "execution_count": 190,
   "metadata": {},
   "outputs": [
    {
     "data": {
      "text/plain": [
       "CPV\n",
       "Medicamentos usados na terapêutica endócrina                   21\n",
       "Medicamentos vários                                            21\n",
       "Vestuário profissional                                         12\n",
       "Medicamentos para o sangue e para os órgãos hematopoiéticos    10\n",
       "Reagentes de laboratório                                        8\n",
       "Name: CPV, dtype: int64"
      ]
     },
     "execution_count": 190,
     "metadata": {},
     "output_type": "execute_result"
    }
   ],
   "source": [
    "data_play.loc[data_play['issuerNIF'].eq('506361381')].groupby('CPV').CPV.agg('count').sort_values(ascending=False)[:5]"
   ]
  },
  {
   "cell_type": "markdown",
   "metadata": {},
   "source": [
    "7. What services (CPV) has Novo Banco, S.A. (NIF: 513204016) supplied? Aggregate the output by CPV and sort by descending order of total value."
   ]
  },
  {
   "cell_type": "code",
   "execution_count": 193,
   "metadata": {},
   "outputs": [
    {
     "data": {
      "text/plain": [
       "CPV\n",
       "Automóveis de passageiros            19918.7\n",
       "Serviços das agências de cobrança    16372.8\n",
       "Name: precoContratual, dtype: float64"
      ]
     },
     "execution_count": 193,
     "metadata": {},
     "output_type": "execute_result"
    }
   ],
   "source": [
    "data_play.loc[data_play['supplierNIF'].eq('513204016')].groupby('CPV').precoContratual.agg('sum').sort_values(ascending=False)"
   ]
  },
  {
   "cell_type": "markdown",
   "metadata": {},
   "source": [
    "8. Can you measure the correlation between the length/duration of contract (\"prazoExecucao\") and the final value (\"precoContratual\")? Are longer contracts more costly?<br>\n",
    "(Remember there might already exist a method to help you out)\n",
    "    \n",
    "    8.1 What if you plot the average price per day as a function of the duration of the contract? What relationship to you obtain?\n",
    "    \n",
    "Note: The objective is to aggregate all contracts with a duration X, and then compute the average cost/value per day of such contracts. What relationship do you observe? Are longer contracts cheaper in a daily cost? Or more expensive?"
   ]
  },
  {
   "cell_type": "code",
   "execution_count": 194,
   "metadata": {},
   "outputs": [],
   "source": [
    "data_play['precoDiario'] = data_play['precoContratual']/data_play['prazoExecucao']"
   ]
  },
  {
   "cell_type": "code",
   "execution_count": 205,
   "metadata": {},
   "outputs": [],
   "source": [
    "new_df = data_play.groupby('prazoExecucao').precoDiario.agg('mean')"
   ]
  },
  {
   "cell_type": "code",
   "execution_count": 206,
   "metadata": {},
   "outputs": [
    {
     "data": {
      "text/plain": [
       "prazoExecucao\n",
       "0                    NaN\n",
       "1            7688.840120\n",
       "2            6064.593133\n",
       "3            2442.297504\n",
       "4            2508.622094\n",
       "                ...     \n",
       "30583400        0.000191\n",
       "31122014        0.001353\n",
       "45750000        0.000164\n",
       "99999999        0.001100\n",
       "150719240       0.000048\n",
       "Name: precoDiario, Length: 1169, dtype: float64"
      ]
     },
     "execution_count": 206,
     "metadata": {},
     "output_type": "execute_result"
    }
   ],
   "source": [
    "new_df"
   ]
  },
  {
   "cell_type": "code",
   "execution_count": 202,
   "metadata": {},
   "outputs": [
    {
     "data": {
      "text/plain": [
       "<AxesSubplot:xlabel='prazoExecucao', ylabel='precoDiario'>"
      ]
     },
     "execution_count": 202,
     "metadata": {},
     "output_type": "execute_result"
    },
    {
     "data": {
      "image/png": "[encoded data removed]",
      "text/plain": [
       "<Figure size 432x288 with 1 Axes>"
      ]
     },
     "metadata": {
      "needs_background": "light"
     },
     "output_type": "display_data"
    }
   ],
   "source": [
    "sns.scatterplot(data=data_play.loc[data_play['prazoExecucao']<200], x='prazoExecucao', y='precoDiario')"
   ]
  },
  {
   "cell_type": "code",
   "execution_count": null,
   "metadata": {},
   "outputs": [],
   "source": []
  },
  {
   "cell_type": "code",
   "execution_count": null,
   "metadata": {},
   "outputs": [],
   "source": []
  },
  {
   "cell_type": "markdown",
   "metadata": {},
   "source": [
    "<b>[Step 5. | 5 points ]</b> You probably have noticed that our dataset includes procurements issued by municipalities (Câmara Municipal or Município). Interesting huh?\n",
    "\n",
    "Next, we will explore municipality procurement data a bit more in detail. To that end, we will need to process our procurement dataset, in order to obtain the procurements of each municipality, aggregate the data and obtain the relevant metrics.\n",
    "\n",
    "However, the data is not uniform as some typos lead to the same municipality having different names. Moreover, there are municipal companies that have a different fiscal code than the municipalities. To make it simple, let us ignore municipal companies. Moreover, we have prepared beforehand a .csv file that lists all the NIF ids associated wit each municipality.\n",
    "\n",
    "**NOTE. The file MunicipiosNIF.xlsx is available to download from Moodle.**\n",
    "\n",
    "1. Download the file MunicipiosNIF.xlsx from Moodle and load it into a dataframe;"
   ]
  },
  {
   "cell_type": "code",
   "execution_count": 102,
   "metadata": {},
   "outputs": [],
   "source": [
    "df_municip = pd.read_excel('MunicipiosNIF.xlsx')"
   ]
  },
  {
   "cell_type": "code",
   "execution_count": 103,
   "metadata": {},
   "outputs": [
    {
     "data": {
      "text/html": [
       "<div>\n",
       "<style scoped>\n",
       "    .dataframe tbody tr th:only-of-type {\n",
       "        vertical-align: middle;\n",
       "    }\n",
       "\n",
       "    .dataframe tbody tr th {\n",
       "        vertical-align: top;\n",
       "    }\n",
       "\n",
       "    .dataframe thead th {\n",
       "        text-align: right;\n",
       "    }\n",
       "</style>\n",
       "<table border=\"1\" class=\"dataframe\">\n",
       "  <thead>\n",
       "    <tr style=\"text-align: right;\">\n",
       "      <th></th>\n",
       "      <th>NIF</th>\n",
       "      <th>Municipality</th>\n",
       "    </tr>\n",
       "  </thead>\n",
       "  <tbody>\n",
       "    <tr>\n",
       "      <th>0</th>\n",
       "      <td>500051054</td>\n",
       "      <td>Município de Almada</td>\n",
       "    </tr>\n",
       "    <tr>\n",
       "      <th>1</th>\n",
       "      <td>500051062</td>\n",
       "      <td>Município de Sintra</td>\n",
       "    </tr>\n",
       "    <tr>\n",
       "      <th>2</th>\n",
       "      <td>500051070</td>\n",
       "      <td>Município de Lisboa</td>\n",
       "    </tr>\n",
       "    <tr>\n",
       "      <th>3</th>\n",
       "      <td>500745773</td>\n",
       "      <td>Município de Alcanena</td>\n",
       "    </tr>\n",
       "    <tr>\n",
       "      <th>4</th>\n",
       "      <td>500745943</td>\n",
       "      <td>Município de Oeiras</td>\n",
       "    </tr>\n",
       "  </tbody>\n",
       "</table>\n",
       "</div>"
      ],
      "text/plain": [
       "         NIF           Municipality\n",
       "0  500051054    Município de Almada\n",
       "1  500051062    Município de Sintra\n",
       "2  500051070    Município de Lisboa\n",
       "3  500745773  Município de Alcanena\n",
       "4  500745943    Município de Oeiras"
      ]
     },
     "execution_count": 103,
     "metadata": {},
     "output_type": "execute_result"
    }
   ],
   "source": [
    "df_municip.head()"
   ]
  },
  {
   "cell_type": "code",
   "execution_count": 107,
   "metadata": {},
   "outputs": [],
   "source": []
  },
  {
   "cell_type": "markdown",
   "metadata": {},
   "source": [
    "2. Create a new dataframe that contains only the procurements issued by municipalities. Use the dataframe created above to aid your filtering.\n",
    "\n",
    "**Note:** you will end up with situations where the same municipality will have different names, although it has the same NIF. Consider using only the NIF as the unique identifier of a municipality, and if there are multiple names associated to it, to choose one. Explain how did you proceed."
   ]
  },
  {
   "cell_type": "code",
   "execution_count": 207,
   "metadata": {},
   "outputs": [],
   "source": [
    "#changing the NIF to object\n",
    "df_municip.NIF = df_municip.NIF.astype('str')\n",
    "\n",
    "# merging the dataframes by NIF: keep only contracts issued by municipalities\n",
    "df_mproc = pd.merge(left=df_municip, right=data_play, how='inner', left_on='NIF', right_on='issuerNIF')"
   ]
  },
  {
   "cell_type": "code",
   "execution_count": 208,
   "metadata": {},
   "outputs": [
    {
     "data": {
      "text/html": [
       "<div>\n",
       "<style scoped>\n",
       "    .dataframe tbody tr th:only-of-type {\n",
       "        vertical-align: middle;\n",
       "    }\n",
       "\n",
       "    .dataframe tbody tr th {\n",
       "        vertical-align: top;\n",
       "    }\n",
       "\n",
       "    .dataframe thead th {\n",
       "        text-align: right;\n",
       "    }\n",
       "</style>\n",
       "<table border=\"1\" class=\"dataframe\">\n",
       "  <thead>\n",
       "    <tr style=\"text-align: right;\">\n",
       "      <th></th>\n",
       "      <th>NIF</th>\n",
       "      <th>Municipality</th>\n",
       "      <th>idcontrato</th>\n",
       "      <th>nAnuncio</th>\n",
       "      <th>tipoContrato</th>\n",
       "      <th>tipoprocedimento</th>\n",
       "      <th>objectoContrato</th>\n",
       "      <th>dataPublicacao</th>\n",
       "      <th>dataCelebracaoContrato</th>\n",
       "      <th>precoContratual</th>\n",
       "      <th>...</th>\n",
       "      <th>CPV</th>\n",
       "      <th>issuerNIF</th>\n",
       "      <th>issuerName</th>\n",
       "      <th>supplierNIF</th>\n",
       "      <th>supplierName</th>\n",
       "      <th>month</th>\n",
       "      <th>precoContratual_M</th>\n",
       "      <th>monthyear</th>\n",
       "      <th>logprecoContratual</th>\n",
       "      <th>precoDiario</th>\n",
       "    </tr>\n",
       "  </thead>\n",
       "  <tbody>\n",
       "    <tr>\n",
       "      <th>0</th>\n",
       "      <td>500051054</td>\n",
       "      <td>Município de Almada</td>\n",
       "      <td>1048427</td>\n",
       "      <td>5137/2012</td>\n",
       "      <td>Empreitadas de obras públicas</td>\n",
       "      <td>Concurso público</td>\n",
       "      <td>CONSTRUÇÃO DE UM JARDIM URBANO COM ACESSOS E C...</td>\n",
       "      <td>2014-04-29</td>\n",
       "      <td>2014-04-22</td>\n",
       "      <td>295000.00</td>\n",
       "      <td>...</td>\n",
       "      <td>Trabalhos de paisagismo</td>\n",
       "      <td>500051054</td>\n",
       "      <td>Câmara Municipal de Almada</td>\n",
       "      <td>504338854</td>\n",
       "      <td>Perene, S.A.</td>\n",
       "      <td>4</td>\n",
       "      <td>0.295000</td>\n",
       "      <td>201404</td>\n",
       "      <td>5.469823</td>\n",
       "      <td>1966.666667</td>\n",
       "    </tr>\n",
       "    <tr>\n",
       "      <th>1</th>\n",
       "      <td>500051054</td>\n",
       "      <td>Município de Almada</td>\n",
       "      <td>974822</td>\n",
       "      <td>3856/2013</td>\n",
       "      <td>Aquisição de serviços</td>\n",
       "      <td>Concurso público</td>\n",
       "      <td>Aquisição de Serviços de Fornecimento de Energ...</td>\n",
       "      <td>2014-02-07</td>\n",
       "      <td>2014-01-24</td>\n",
       "      <td>279706.00</td>\n",
       "      <td>...</td>\n",
       "      <td>Serviços de distribuição de electricidade e se...</td>\n",
       "      <td>500051054</td>\n",
       "      <td>Câmara Municipal de Almada</td>\n",
       "      <td>503504564</td>\n",
       "      <td>EDP Comercial, SA</td>\n",
       "      <td>1</td>\n",
       "      <td>0.279706</td>\n",
       "      <td>201401</td>\n",
       "      <td>5.446703</td>\n",
       "      <td>766.317808</td>\n",
       "    </tr>\n",
       "    <tr>\n",
       "      <th>2</th>\n",
       "      <td>500051054</td>\n",
       "      <td>Município de Almada</td>\n",
       "      <td>943569</td>\n",
       "      <td>3907/2013</td>\n",
       "      <td>Empreitadas de obras públicas</td>\n",
       "      <td>Concurso público</td>\n",
       "      <td>CPN01232E - Empreitada de obras de adaptação d...</td>\n",
       "      <td>2014-01-09</td>\n",
       "      <td>2014-01-06</td>\n",
       "      <td>115953.51</td>\n",
       "      <td>...</td>\n",
       "      <td>Obras de recuperação</td>\n",
       "      <td>500051054</td>\n",
       "      <td>Câmara Municipal de Almada</td>\n",
       "      <td>507909070</td>\n",
       "      <td>TEMPO ANALÓGICO, LDA.</td>\n",
       "      <td>1</td>\n",
       "      <td>0.115954</td>\n",
       "      <td>201401</td>\n",
       "      <td>5.064288</td>\n",
       "      <td>1288.372333</td>\n",
       "    </tr>\n",
       "    <tr>\n",
       "      <th>3</th>\n",
       "      <td>500051054</td>\n",
       "      <td>Município de Almada</td>\n",
       "      <td>966965</td>\n",
       "      <td>4580/2013</td>\n",
       "      <td>Aquisição de serviços</td>\n",
       "      <td>Concurso público</td>\n",
       "      <td>Prestação de serviços de reparação de viaturas...</td>\n",
       "      <td>2014-01-31</td>\n",
       "      <td>2014-01-27</td>\n",
       "      <td>252000.00</td>\n",
       "      <td>...</td>\n",
       "      <td>Serviços de reparação e manutenção de veículos...</td>\n",
       "      <td>500051054</td>\n",
       "      <td>Câmara Municipal de Almada</td>\n",
       "      <td>500595909</td>\n",
       "      <td>Coopban Cooperativa de Produção Operária Metal...</td>\n",
       "      <td>1</td>\n",
       "      <td>0.252000</td>\n",
       "      <td>201401</td>\n",
       "      <td>5.401402</td>\n",
       "      <td>690.410959</td>\n",
       "    </tr>\n",
       "    <tr>\n",
       "      <th>4</th>\n",
       "      <td>500051054</td>\n",
       "      <td>Município de Almada</td>\n",
       "      <td>1005419</td>\n",
       "      <td>4745/2013</td>\n",
       "      <td>Empreitadas de obras públicas</td>\n",
       "      <td>Concurso público</td>\n",
       "      <td>Concurso Público nº CPN01821E- Empreitada de o...</td>\n",
       "      <td>2014-03-13</td>\n",
       "      <td>2014-03-11</td>\n",
       "      <td>35486.19</td>\n",
       "      <td>...</td>\n",
       "      <td>Obras de recuperação</td>\n",
       "      <td>500051054</td>\n",
       "      <td>Câmara Municipal de Almada</td>\n",
       "      <td>B70278528</td>\n",
       "      <td>Casdiboca, S.L.</td>\n",
       "      <td>3</td>\n",
       "      <td>0.035486</td>\n",
       "      <td>201403</td>\n",
       "      <td>4.550072</td>\n",
       "      <td>394.291000</td>\n",
       "    </tr>\n",
       "  </tbody>\n",
       "</table>\n",
       "<p>5 rows × 23 columns</p>\n",
       "</div>"
      ],
      "text/plain": [
       "         NIF         Municipality  idcontrato   nAnuncio  \\\n",
       "0  500051054  Município de Almada     1048427  5137/2012   \n",
       "1  500051054  Município de Almada      974822  3856/2013   \n",
       "2  500051054  Município de Almada      943569  3907/2013   \n",
       "3  500051054  Município de Almada      966965  4580/2013   \n",
       "4  500051054  Município de Almada     1005419  4745/2013   \n",
       "\n",
       "                    tipoContrato  tipoprocedimento  \\\n",
       "0  Empreitadas de obras públicas  Concurso público   \n",
       "1          Aquisição de serviços  Concurso público   \n",
       "2  Empreitadas de obras públicas  Concurso público   \n",
       "3          Aquisição de serviços  Concurso público   \n",
       "4  Empreitadas de obras públicas  Concurso público   \n",
       "\n",
       "                                     objectoContrato dataPublicacao  \\\n",
       "0  CONSTRUÇÃO DE UM JARDIM URBANO COM ACESSOS E C...     2014-04-29   \n",
       "1  Aquisição de Serviços de Fornecimento de Energ...     2014-02-07   \n",
       "2  CPN01232E - Empreitada de obras de adaptação d...     2014-01-09   \n",
       "3  Prestação de serviços de reparação de viaturas...     2014-01-31   \n",
       "4  Concurso Público nº CPN01821E- Empreitada de o...     2014-03-13   \n",
       "\n",
       "  dataCelebracaoContrato  precoContratual  ...  \\\n",
       "0             2014-04-22        295000.00  ...   \n",
       "1             2014-01-24        279706.00  ...   \n",
       "2             2014-01-06        115953.51  ...   \n",
       "3             2014-01-27        252000.00  ...   \n",
       "4             2014-03-11         35486.19  ...   \n",
       "\n",
       "                                                 CPV  issuerNIF  \\\n",
       "0                            Trabalhos de paisagismo  500051054   \n",
       "1  Serviços de distribuição de electricidade e se...  500051054   \n",
       "2                               Obras de recuperação  500051054   \n",
       "3  Serviços de reparação e manutenção de veículos...  500051054   \n",
       "4                               Obras de recuperação  500051054   \n",
       "\n",
       "                   issuerName supplierNIF  \\\n",
       "0  Câmara Municipal de Almada   504338854   \n",
       "1  Câmara Municipal de Almada   503504564   \n",
       "2  Câmara Municipal de Almada   507909070   \n",
       "3  Câmara Municipal de Almada   500595909   \n",
       "4  Câmara Municipal de Almada   B70278528   \n",
       "\n",
       "                                        supplierName month precoContratual_M  \\\n",
       "0                                       Perene, S.A.     4          0.295000   \n",
       "1                                  EDP Comercial, SA     1          0.279706   \n",
       "2                              TEMPO ANALÓGICO, LDA.     1          0.115954   \n",
       "3  Coopban Cooperativa de Produção Operária Metal...     1          0.252000   \n",
       "4                                    Casdiboca, S.L.     3          0.035486   \n",
       "\n",
       "  monthyear  logprecoContratual  precoDiario  \n",
       "0    201404            5.469823  1966.666667  \n",
       "1    201401            5.446703   766.317808  \n",
       "2    201401            5.064288  1288.372333  \n",
       "3    201401            5.401402   690.410959  \n",
       "4    201403            4.550072   394.291000  \n",
       "\n",
       "[5 rows x 23 columns]"
      ]
     },
     "execution_count": 208,
     "metadata": {},
     "output_type": "execute_result"
    }
   ],
   "source": [
    "df_mproc.head()"
   ]
  },
  {
   "cell_type": "markdown",
   "metadata": {},
   "source": [
    "3. What are the top ten suppliers in terms of value (total cost in euros) spent by the municipality of Lisbon?"
   ]
  },
  {
   "cell_type": "code",
   "execution_count": 211,
   "metadata": {},
   "outputs": [
    {
     "data": {
      "text/html": [
       "<div>\n",
       "<style scoped>\n",
       "    .dataframe tbody tr th:only-of-type {\n",
       "        vertical-align: middle;\n",
       "    }\n",
       "\n",
       "    .dataframe tbody tr th {\n",
       "        vertical-align: top;\n",
       "    }\n",
       "\n",
       "    .dataframe thead th {\n",
       "        text-align: right;\n",
       "    }\n",
       "</style>\n",
       "<table border=\"1\" class=\"dataframe\">\n",
       "  <thead>\n",
       "    <tr style=\"text-align: right;\">\n",
       "      <th></th>\n",
       "      <th>Municipality</th>\n",
       "    </tr>\n",
       "    <tr>\n",
       "      <th>NIF</th>\n",
       "      <th></th>\n",
       "    </tr>\n",
       "  </thead>\n",
       "  <tbody>\n",
       "    <tr>\n",
       "      <th>500051070</th>\n",
       "      <td>Município de Lisboa</td>\n",
       "    </tr>\n",
       "  </tbody>\n",
       "</table>\n",
       "</div>"
      ],
      "text/plain": [
       "                  Municipality\n",
       "NIF                           \n",
       "500051070  Município de Lisboa"
      ]
     },
     "execution_count": 211,
     "metadata": {},
     "output_type": "execute_result"
    }
   ],
   "source": [
    "df_municip[df_municip['Municipality'].str.contains('Lisboa')]"
   ]
  },
  {
   "cell_type": "code",
   "execution_count": 224,
   "metadata": {},
   "outputs": [
    {
     "data": {
      "text/html": [
       "<div>\n",
       "<style scoped>\n",
       "    .dataframe tbody tr th:only-of-type {\n",
       "        vertical-align: middle;\n",
       "    }\n",
       "\n",
       "    .dataframe tbody tr th {\n",
       "        vertical-align: top;\n",
       "    }\n",
       "\n",
       "    .dataframe thead th {\n",
       "        text-align: right;\n",
       "    }\n",
       "</style>\n",
       "<table border=\"1\" class=\"dataframe\">\n",
       "  <thead>\n",
       "    <tr style=\"text-align: right;\">\n",
       "      <th></th>\n",
       "      <th>precoContratual_M</th>\n",
       "      <th>supplierName</th>\n",
       "    </tr>\n",
       "  </thead>\n",
       "  <tbody>\n",
       "    <tr>\n",
       "      <th>3341</th>\n",
       "      <td>5.530271</td>\n",
       "      <td>Habitamega Construções, S.A.</td>\n",
       "    </tr>\n",
       "    <tr>\n",
       "      <th>3996</th>\n",
       "      <td>4.417319</td>\n",
       "      <td>CONSTRUTORA UDRA, LDA.</td>\n",
       "    </tr>\n",
       "    <tr>\n",
       "      <th>2391</th>\n",
       "      <td>3.494400</td>\n",
       "      <td>Teixera, Pinto &amp;amp; Soares, S.A.</td>\n",
       "    </tr>\n",
       "    <tr>\n",
       "      <th>1441</th>\n",
       "      <td>2.913644</td>\n",
       "      <td>EDP Comercial, SA</td>\n",
       "    </tr>\n",
       "    <tr>\n",
       "      <th>3946</th>\n",
       "      <td>2.860192</td>\n",
       "      <td>- IBERDROLA GENERACION, S.A.U.</td>\n",
       "    </tr>\n",
       "    <tr>\n",
       "      <th>1451</th>\n",
       "      <td>2.651348</td>\n",
       "      <td>Securitas - Serviços e Tecnologia de Segurança...</td>\n",
       "    </tr>\n",
       "    <tr>\n",
       "      <th>1449</th>\n",
       "      <td>2.198485</td>\n",
       "      <td>Ferreira - Construção, S.A.</td>\n",
       "    </tr>\n",
       "    <tr>\n",
       "      <th>2254</th>\n",
       "      <td>2.092509</td>\n",
       "      <td>Controp-Congevia,SA</td>\n",
       "    </tr>\n",
       "    <tr>\n",
       "      <th>1469</th>\n",
       "      <td>2.083773</td>\n",
       "      <td>Alexandre Barbosa Borges, S. A.</td>\n",
       "    </tr>\n",
       "    <tr>\n",
       "      <th>2264</th>\n",
       "      <td>1.945001</td>\n",
       "      <td>VODAFONE PORTUGAL - Comunicações Pessoais, S.A.</td>\n",
       "    </tr>\n",
       "  </tbody>\n",
       "</table>\n",
       "</div>"
      ],
      "text/plain": [
       "      precoContratual_M                                       supplierName\n",
       "3341           5.530271                       Habitamega Construções, S.A.\n",
       "3996           4.417319                             CONSTRUTORA UDRA, LDA.\n",
       "2391           3.494400                  Teixera, Pinto &amp; Soares, S.A.\n",
       "1441           2.913644                                  EDP Comercial, SA\n",
       "3946           2.860192                     - IBERDROLA GENERACION, S.A.U.\n",
       "1451           2.651348  Securitas - Serviços e Tecnologia de Segurança...\n",
       "1449           2.198485                        Ferreira - Construção, S.A.\n",
       "2254           2.092509                                Controp-Congevia,SA\n",
       "1469           2.083773                    Alexandre Barbosa Borges, S. A.\n",
       "2264           1.945001    VODAFONE PORTUGAL - Comunicações Pessoais, S.A."
      ]
     },
     "execution_count": 224,
     "metadata": {},
     "output_type": "execute_result"
    }
   ],
   "source": [
    "#daqui para a frente não sei se é para usar precoContratual em Milhões ou normal\n",
    "#acho que tanto faz trabalhar em milhoes facilita a interpretação acho eu\n",
    "\n",
    "#df_municip.set_index('NIF', inplace = True) #resets the index to NIF to be easier to retrieve information\n",
    "df_mproc.loc[df_mproc['issuerNIF']=='500051070', ['precoContratual_M', 'supplierName']]\\\n",
    "                                .sort_values(by = 'precoContratual_M', ascending = False)[:10]"
   ]
  },
  {
   "cell_type": "markdown",
   "metadata": {},
   "source": [
    "4. What are the top ten services in terms of value (total cost in euros) supplied to the Municipality of Lisbon?"
   ]
  },
  {
   "cell_type": "code",
   "execution_count": 240,
   "metadata": {},
   "outputs": [
    {
     "data": {
      "text/html": [
       "<div>\n",
       "<style scoped>\n",
       "    .dataframe tbody tr th:only-of-type {\n",
       "        vertical-align: middle;\n",
       "    }\n",
       "\n",
       "    .dataframe tbody tr th {\n",
       "        vertical-align: top;\n",
       "    }\n",
       "\n",
       "    .dataframe thead th {\n",
       "        text-align: right;\n",
       "    }\n",
       "</style>\n",
       "<table border=\"1\" class=\"dataframe\">\n",
       "  <thead>\n",
       "    <tr style=\"text-align: right;\">\n",
       "      <th></th>\n",
       "      <th>precoContratual_M</th>\n",
       "    </tr>\n",
       "    <tr>\n",
       "      <th>CPV</th>\n",
       "      <th></th>\n",
       "    </tr>\n",
       "  </thead>\n",
       "  <tbody>\n",
       "    <tr>\n",
       "      <th>Construção de edifícios destinados à educação ou à investigação</th>\n",
       "      <td>14.856385</td>\n",
       "    </tr>\n",
       "    <tr>\n",
       "      <th>Outros serviços</th>\n",
       "      <td>13.960549</td>\n",
       "    </tr>\n",
       "    <tr>\n",
       "      <th>Construção</th>\n",
       "      <td>10.531445</td>\n",
       "    </tr>\n",
       "    <tr>\n",
       "      <th>Serviços de limpeza</th>\n",
       "      <td>10.471798</td>\n",
       "    </tr>\n",
       "    <tr>\n",
       "      <th>Serviços de vigilância</th>\n",
       "      <td>8.109279</td>\n",
       "    </tr>\n",
       "    <tr>\n",
       "      <th>Trabalhos de paisagismo</th>\n",
       "      <td>7.034760</td>\n",
       "    </tr>\n",
       "    <tr>\n",
       "      <th>Construção de edifícios multifuncionais</th>\n",
       "      <td>6.578227</td>\n",
       "    </tr>\n",
       "    <tr>\n",
       "      <th>Construção de instalações para ocupação de tempos livres</th>\n",
       "      <td>5.530271</td>\n",
       "    </tr>\n",
       "    <tr>\n",
       "      <th>Obras de recuperação</th>\n",
       "      <td>5.459605</td>\n",
       "    </tr>\n",
       "    <tr>\n",
       "      <th>Serviços relacionados com a administração pública, a defesa e a segurança social</th>\n",
       "      <td>4.623270</td>\n",
       "    </tr>\n",
       "  </tbody>\n",
       "</table>\n",
       "</div>"
      ],
      "text/plain": [
       "                                                    precoContratual_M\n",
       "CPV                                                                  \n",
       "Construção de edifícios destinados à educação o...          14.856385\n",
       "Outros serviços                                             13.960549\n",
       "Construção                                                  10.531445\n",
       "Serviços de limpeza                                         10.471798\n",
       "Serviços de vigilância                                       8.109279\n",
       "Trabalhos de paisagismo                                      7.034760\n",
       "Construção de edifícios multifuncionais                      6.578227\n",
       "Construção de instalações para ocupação de temp...           5.530271\n",
       "Obras de recuperação                                         5.459605\n",
       "Serviços relacionados com a administração públi...           4.623270"
      ]
     },
     "execution_count": 240,
     "metadata": {},
     "output_type": "execute_result"
    }
   ],
   "source": [
    "df_mproc.loc[df_mproc['issuerNIF']=='500051070', ['precoContratual_M','CPV']]\\\n",
    "                                .groupby('CPV').agg('sum')\\\n",
    "                                .sort_values(by = 'precoContratual_M', ascending = False)[:10]"
   ]
  },
  {
   "cell_type": "markdown",
   "metadata": {},
   "source": [
    "5. Compute the average value of the procurements (only those contracted by municipalities) per supplier. <br>\n",
    "    5.1 Show as an histogram the number of companies that received a total amount X from municipalities. <br>\n",
    "    5.2 Identify the top 10 companies that received more money from municipalities."
   ]
  },
  {
   "cell_type": "code",
   "execution_count": 259,
   "metadata": {},
   "outputs": [
    {
     "data": {
      "text/plain": [
       "supplierNIF\n",
       "003596308    15375.00\n",
       "025474203    27000.00\n",
       "043253616     7626.40\n",
       "063717106     7424.15\n",
       "06966442H    14750.00\n",
       "               ...   \n",
       "G47478920    10000.00\n",
       "G91665232     8700.00\n",
       "GB3279311     8500.00\n",
       "NL8211743    49000.00\n",
       "NL8218119     4140.00\n",
       "Name: precoContratual, Length: 17088, dtype: float64"
      ]
     },
     "execution_count": 259,
     "metadata": {},
     "output_type": "execute_result"
    }
   ],
   "source": [
    "#5\n",
    "avg_contract_value = df_mproc.groupby(by = 'supplierNIF')['precoContratual'].mean()\n",
    "avg_contract_value"
   ]
  },
  {
   "cell_type": "code",
   "execution_count": 262,
   "metadata": {},
   "outputs": [
    {
     "data": {
      "text/plain": [
       "<AxesSubplot:ylabel='Frequency'>"
      ]
     },
     "execution_count": 262,
     "metadata": {},
     "output_type": "execute_result"
    },
    {
     "data": {
      "image/png": "[encoded data removed]",
      "text/plain": [
       "<Figure size 504x360 with 1 Axes>"
      ]
     },
     "metadata": {
      "needs_background": "light"
     },
     "output_type": "display_data"
    }
   ],
   "source": [
    "#5.1\n",
    "#histograma\n",
    "plt.figure(figsize=(7,5))\n",
    "avg_contract_value.plot(kind='hist', bins=100)"
   ]
  },
  {
   "cell_type": "code",
   "execution_count": 264,
   "metadata": {},
   "outputs": [
    {
     "data": {
      "text/plain": [
       "supplierName\n",
       "EDP Comercial, SA                                                              138.003430\n",
       "Galp Energia, SA.                                                               62.174568\n",
       "Uniself Sociedade de Restaurantes Públicos e Privados SA                        44.827723\n",
       "GERTAL - Companhia Geral de Restaurantes e Alimentação, S.A.                    40.688761\n",
       "ECOAMBIENTE, Consultores de Engenharia, Gestão e Prestação de Serviços, Lda     28.781585\n",
       "CIP Construção, S.A.                                                            25.540260\n",
       "EUREST (PORTUGAL) - Sociedade Europeia de Restaurantes,lda.                     25.057899\n",
       "Domingos da Silva Teixeira, S.A.                                                24.069874\n",
       "Repsol Portuguesa, S.A:                                                         23.491197\n",
       "Alexandre Barbosa Borges, S. A.                                                 20.321560\n",
       "Name: precoContratual_M, dtype: float64"
      ]
     },
     "execution_count": 264,
     "metadata": {},
     "output_type": "execute_result"
    }
   ],
   "source": [
    "#5.2\n",
    "df_mproc.groupby(by = 'supplierName')['precoContratual_M'].sum().sort_values(ascending = False)[:10]"
   ]
  },
  {
   "cell_type": "markdown",
   "metadata": {},
   "source": [
    "6. What is the most common \"tipoprocedimento\" of procurements issued by municipalities? <br>\n",
    "    6.1 What if you consider only procurements with a value above 50 000 euros? <br>\n",
    "    6.2 How do you relate/compare these results with those obtained in Question 3 of Step 4?"
   ]
  },
  {
   "cell_type": "code",
   "execution_count": 269,
   "metadata": {},
   "outputs": [
    {
     "name": "stdout",
     "output_type": "stream",
     "text": [
      "Ajuste Direto Regime Geral\n"
     ]
    }
   ],
   "source": [
    "#6\n",
    "print(df_mproc['tipoprocedimento'].mode()[0])\n",
    "#print(df_mproc.groupby(by = 'tipoprocedimento').issuerName.count().sort_values(ascending = False))"
   ]
  },
  {
   "cell_type": "code",
   "execution_count": 273,
   "metadata": {},
   "outputs": [
    {
     "name": "stdout",
     "output_type": "stream",
     "text": [
      "Ajuste Direto Regime Geral\n"
     ]
    }
   ],
   "source": [
    "#6.1\n",
    "print(df_mproc.loc[df_mproc['precoContratual']> 50*10**3,'tipoprocedimento'].mode()[0])\n",
    "#print(df_mproc[df_mproc.precoContratual > 50*10**3].groupby(by = 'tipoprocedimento').issuerName.count().sort_values(ascending = False))"
   ]
  },
  {
   "cell_type": "code",
   "execution_count": null,
   "metadata": {},
   "outputs": [],
   "source": [
    "#6.2"
   ]
  },
  {
   "cell_type": "markdown",
   "metadata": {},
   "source": [
    "<b>[Step 6. | 4 points ]</b> Next, and in the spirit of a vast scientific literature on Urban Scaling Laws (https://tinyurl.com/y8ohmzx7), let us investigate the relationship between the number and value of procurements issued by municipalities and their population size.\n",
    "\n",
    "To that end we will need to download and load an additional dataset that includes the population size of each municipality.<br> \n",
    "This dataset was obtained from the portal pordata. As is the case in many data science projects we don't have a perfect matching key between the population data and the procurement data we have been working so far. \n",
    "\n",
    "**NOTE. The file popsize.csv is available for download from Moodle.**\n",
    "\n",
    "1. Download the file popsize.csv from Moodle and load it to a dataframe. <br>\n",
    "    1.1 Explore the dataframe and explain how can you link this data to the procurement data."
   ]
  },
  {
   "cell_type": "code",
   "execution_count": 274,
   "metadata": {},
   "outputs": [],
   "source": [
    "df_pop = pd.read_csv('popsize.csv', delimiter = \";\")"
   ]
  },
  {
   "cell_type": "code",
   "execution_count": 275,
   "metadata": {},
   "outputs": [
    {
     "data": {
      "text/html": [
       "<div>\n",
       "<style scoped>\n",
       "    .dataframe tbody tr th:only-of-type {\n",
       "        vertical-align: middle;\n",
       "    }\n",
       "\n",
       "    .dataframe tbody tr th {\n",
       "        vertical-align: top;\n",
       "    }\n",
       "\n",
       "    .dataframe thead th {\n",
       "        text-align: right;\n",
       "    }\n",
       "</style>\n",
       "<table border=\"1\" class=\"dataframe\">\n",
       "  <thead>\n",
       "    <tr style=\"text-align: right;\">\n",
       "      <th></th>\n",
       "      <th>Location</th>\n",
       "      <th>Population</th>\n",
       "    </tr>\n",
       "  </thead>\n",
       "  <tbody>\n",
       "    <tr>\n",
       "      <th>0</th>\n",
       "      <td>Arcos de Valdevez</td>\n",
       "      <td>22 284</td>\n",
       "    </tr>\n",
       "    <tr>\n",
       "      <th>1</th>\n",
       "      <td>Caminha</td>\n",
       "      <td>16 465</td>\n",
       "    </tr>\n",
       "    <tr>\n",
       "      <th>2</th>\n",
       "      <td>Melgaço</td>\n",
       "      <td>8 874</td>\n",
       "    </tr>\n",
       "    <tr>\n",
       "      <th>3</th>\n",
       "      <td>Monção</td>\n",
       "      <td>18 931</td>\n",
       "    </tr>\n",
       "    <tr>\n",
       "      <th>4</th>\n",
       "      <td>Paredes de Coura</td>\n",
       "      <td>9 039</td>\n",
       "    </tr>\n",
       "    <tr>\n",
       "      <th>...</th>\n",
       "      <td>...</td>\n",
       "      <td>...</td>\n",
       "    </tr>\n",
       "    <tr>\n",
       "      <th>303</th>\n",
       "      <td>Ribeira Brava</td>\n",
       "      <td>12 961</td>\n",
       "    </tr>\n",
       "    <tr>\n",
       "      <th>304</th>\n",
       "      <td>Santa Cruz</td>\n",
       "      <td>43 678</td>\n",
       "    </tr>\n",
       "    <tr>\n",
       "      <th>305</th>\n",
       "      <td>Santana</td>\n",
       "      <td>7 338</td>\n",
       "    </tr>\n",
       "    <tr>\n",
       "      <th>306</th>\n",
       "      <td>São Vicente</td>\n",
       "      <td>5 467</td>\n",
       "    </tr>\n",
       "    <tr>\n",
       "      <th>307</th>\n",
       "      <td>Porto Santo</td>\n",
       "      <td>5 323</td>\n",
       "    </tr>\n",
       "  </tbody>\n",
       "</table>\n",
       "<p>308 rows × 2 columns</p>\n",
       "</div>"
      ],
      "text/plain": [
       "              Location Population\n",
       "0    Arcos de Valdevez     22 284\n",
       "1              Caminha     16 465\n",
       "2              Melgaço      8 874\n",
       "3               Monção     18 931\n",
       "4     Paredes de Coura      9 039\n",
       "..                 ...        ...\n",
       "303      Ribeira Brava     12 961\n",
       "304         Santa Cruz     43 678\n",
       "305            Santana      7 338\n",
       "306        São Vicente      5 467\n",
       "307        Porto Santo      5 323\n",
       "\n",
       "[308 rows x 2 columns]"
      ]
     },
     "execution_count": 275,
     "metadata": {},
     "output_type": "execute_result"
    }
   ],
   "source": [
    "df_pop"
   ]
  },
  {
   "cell_type": "markdown",
   "metadata": {},
   "source": [
    "Explanation:"
   ]
  },
  {
   "cell_type": "markdown",
   "metadata": {},
   "source": [
    "2. Create a new dataframe in which contracts are aggregated by municipality. You should have a dataframe in which the columns correspond to: NIF; Municipality Name; Population Size; Number of Issued Procurements; Total Value of Issued Procurements. \n",
    "\n",
    "**Note:** You will have to merge at least two dataframes, and apply several aggregations."
   ]
  },
  {
   "cell_type": "code",
   "execution_count": null,
   "metadata": {},
   "outputs": [],
   "source": [
    "df_pop['Municipality'] = df_pop['Location'].apply(lambda x: 'Município de ' + str(x))"
   ]
  },
  {
   "cell_type": "code",
   "execution_count": null,
   "metadata": {},
   "outputs": [],
   "source": [
    "df_pop"
   ]
  },
  {
   "cell_type": "code",
   "execution_count": null,
   "metadata": {},
   "outputs": [],
   "source": [
    "number_procs = df_mproc.groupby(by= 'issuerName').precoContratual_M.agg(['count', 'sum'])"
   ]
  },
  {
   "cell_type": "code",
   "execution_count": null,
   "metadata": {},
   "outputs": [],
   "source": [
    "df_municip.reset_index(inplace= True)"
   ]
  },
  {
   "cell_type": "code",
   "execution_count": null,
   "metadata": {},
   "outputs": [],
   "source": [
    "data_pop = pd.concat([df_municip[df_municip.Municipality == df_pop['Municipality']].NIF, df_pop['Population'], number_procs], axis = 1)"
   ]
  },
  {
   "cell_type": "code",
   "execution_count": null,
   "metadata": {},
   "outputs": [],
   "source": [
    "data_pop"
   ]
  },
  {
   "cell_type": "markdown",
   "metadata": {},
   "source": [
    "3. It is common procedure to compare not the absolute values of the different dimensions but their Logarithm. In that sense, create three new columns in your dataframe that correspond to: <br>\n",
    "    i) The Logarithm of base 10 of the Total Value of Issue Procurements; <br>\n",
    "    ii) Number of Issued Procurements; <br>\n",
    "    iii) Population Size."
   ]
  },
  {
   "cell_type": "code",
   "execution_count": null,
   "metadata": {},
   "outputs": [],
   "source": []
  },
  {
   "cell_type": "markdown",
   "metadata": {},
   "source": [
    "4. Compute the pearson correlation between the municipalities Log of the Population Size with: <br>\n",
    "    i) the Log of Total Number of Issued Procurements; <br>\n",
    "    ii) the Log of the Total Value of Issued Procurements. \n",
    "    \n",
    "    Use the columns you pre computed in the previous question.\n",
    "    \n",
    "    4.1 **Make a scatter plot** for each pair of variables to assess the identified relationship."
   ]
  },
  {
   "cell_type": "code",
   "execution_count": null,
   "metadata": {},
   "outputs": [],
   "source": []
  },
  {
   "cell_type": "markdown",
   "metadata": {},
   "source": [
    "5. Can you build a linear model using the library Statsmodel that regresses the Logarithms of the Total Value of issued procurements as a funcion of the population size? What coefficient did you find? <br>\n",
    "**Tip:** You might to to look for some inspiration in the final part of Lab 7"
   ]
  },
  {
   "cell_type": "code",
   "execution_count": null,
   "metadata": {},
   "outputs": [],
   "source": []
  },
  {
   "cell_type": "markdown",
   "metadata": {},
   "source": [
    "6. What if instead of the Total Value of issued procurments you had the Value per capita (per capita means per person in the local population)? How would that impact the results in points 6.4 and 6.5?<br>\n"
   ]
  },
  {
   "cell_type": "code",
   "execution_count": null,
   "metadata": {},
   "outputs": [],
   "source": []
  },
  {
   "cell_type": "markdown",
   "metadata": {},
   "source": [
    "<b>[Step 7. | 2 point ]</b> Open Question. <br>\n",
    "Given the dataset you have been exploring, and the analysis conducted over the municipalities procurement dataset with the population data. Can you think about a question that you consider interesting to explore? Does it require to obtain additional data from, for instance, pordata?\n",
    "\n",
    "**On this final step you have full control. Be creative and show us your ability to raise a question, identify which data you require to explore it, and report the results. Be as objective and clear as possible with your answer.**\n",
    "\n",
    "Use as many cells as necessary."
   ]
  },
  {
   "cell_type": "code",
   "execution_count": null,
   "metadata": {},
   "outputs": [],
   "source": []
  },
  {
   "cell_type": "markdown",
   "metadata": {},
   "source": [
    "## End\n",
    "\n",
    "Submit this notebook in Moodle along with a statement of authorship in a single .zip archive."
   ]
  }
 ],
 "metadata": {
  "kernelspec": {
   "display_name": "Python 3",
   "language": "python",
   "name": "python3"
  },
  "language_info": {
   "codemirror_mode": {
    "name": "ipython",
    "version": 3
   },
   "file_extension": ".py",
   "mimetype": "text/x-python",
   "name": "python",
   "nbconvert_exporter": "python",
   "pygments_lexer": "ipython3",
   "version": "3.8.5"
  }
 },
 "nbformat": 4,
 "nbformat_minor": 2
}
